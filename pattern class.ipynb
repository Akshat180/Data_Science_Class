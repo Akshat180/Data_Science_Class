{
 "cells": [
  {
   "cell_type": "code",
   "execution_count": 15,
   "id": "65debb5b",
   "metadata": {},
   "outputs": [
    {
     "name": "stdout",
     "output_type": "stream",
     "text": [
      "2\n",
      "name:a\n",
      "1\n",
      "1\n",
      "1\n",
      "name:b1\n",
      "2\n",
      "2\n",
      "2\n",
      "Enter: b1\n",
      "2.0\n"
     ]
    }
   ],
   "source": [
    "n = int(input())\n",
    "d = {}\n",
    "for i in range(n):\n",
    "    name = input(\"name:\")\n",
    "    l=[]\n",
    "    for x in range(3):\n",
    "        score=int(input(\"\"))\n",
    "        l.append(score)\n",
    "    d.update({name: l})\n",
    "\n",
    "query = input('Enter: ')\n",
    "print(sum(d[query])/len(d[query]))"
   ]
  },
  {
   "cell_type": "code",
   "execution_count": 19,
   "id": "ec28402c",
   "metadata": {},
   "outputs": [
    {
     "data": {
      "text/plain": [
       "56.9"
      ]
     },
     "execution_count": 19,
     "metadata": {},
     "output_type": "execute_result"
    }
   ],
   "source": [
    "round(56.9, 2)"
   ]
  },
  {
   "cell_type": "code",
   "execution_count": null,
   "id": "27518245",
   "metadata": {},
   "outputs": [],
   "source": [
    "query = input('Enter: ')\n",
    "print(sum(d[query])/len(d[query]))"
   ]
  },
  {
   "cell_type": "code",
   "execution_count": 77,
   "id": "248e5f45",
   "metadata": {},
   "outputs": [
    {
     "name": "stdout",
     "output_type": "stream",
     "text": [
      "5\n",
      "*\n",
      "**\n",
      "***\n",
      "****\n",
      "*****\n"
     ]
    }
   ],
   "source": [
    "n = int(input(\"\")) \n",
    "for i in range(1,n+1):\n",
    "    for j in range(1,i+1):\n",
    "        print(\"*\",end=\"\")\n",
    "    print()    "
   ]
  },
  {
   "cell_type": "code",
   "execution_count": 78,
   "id": "d7a2af5c",
   "metadata": {},
   "outputs": [
    {
     "name": "stdout",
     "output_type": "stream",
     "text": [
      "5\n",
      "***\n",
      "***\n",
      "**\n",
      "**\n",
      "*\n",
      "*\n"
     ]
    }
   ],
   "source": [
    "n = int(input(\"\")) \n",
    "for i in range(n+1):\n",
    "    for j in range(1,n+1-i+1):\n",
    "        print(\"*\",end=\"\")\n",
    "    print()    "
   ]
  },
  {
   "cell_type": "code",
   "execution_count": 4,
   "id": "59abce85",
   "metadata": {},
   "outputs": [
    {
     "name": "stdout",
     "output_type": "stream",
     "text": [
      "5\n",
      "*****\n",
      " ****\n",
      "  ***\n",
      "   **\n",
      "    *\n"
     ]
    }
   ],
   "source": [
    "n = int(input(\"\")) \n",
    "for i in range(1,n+1):\n",
    "    for space in range(1,i-1+1):\n",
    "        print(\" \",end=\"\")\n",
    "    for star in range(1,n+1-i+1):\n",
    "        print(\"*\",end=\"\")\n",
    "    print() "
   ]
  },
  {
   "cell_type": "code",
   "execution_count": 7,
   "id": "8bf27791",
   "metadata": {},
   "outputs": [
    {
     "name": "stdout",
     "output_type": "stream",
     "text": [
      "5\n",
      "1\n",
      "22\n",
      "333\n",
      "4444\n",
      "55555\n"
     ]
    }
   ],
   "source": [
    "n = int(input(\"\")) \n",
    "for i in range(1,n+1):\n",
    "    for j in range(1,i+1):\n",
    "        print(i,end=\"\")\n",
    "    print()    "
   ]
  },
  {
   "cell_type": "code",
   "execution_count": 8,
   "id": "1d1f0d13",
   "metadata": {},
   "outputs": [
    {
     "name": "stdout",
     "output_type": "stream",
     "text": [
      "5\n",
      "1\n",
      "12\n",
      "123\n",
      "1234\n",
      "12345\n"
     ]
    }
   ],
   "source": [
    "n = int(input(\"\")) \n",
    "for i in range(1,n+1):\n",
    "    for j in range(1,i+1):\n",
    "        print(j,end=\"\")\n",
    "    print()    "
   ]
  },
  {
   "cell_type": "code",
   "execution_count": 13,
   "id": "fe380f2e",
   "metadata": {},
   "outputs": [
    {
     "name": "stdout",
     "output_type": "stream",
     "text": [
      "5\n",
      "1\n",
      "23\n",
      "456\n",
      "78910\n",
      "1112131415\n"
     ]
    }
   ],
   "source": [
    "n = int(input(\"\")) \n",
    "count = 1\n",
    "for i in range(1,n+1):\n",
    "    for j in range(1,i+1):\n",
    "        print(count,end=\"\")\n",
    "        count+=1\n",
    "    print()    "
   ]
  },
  {
   "cell_type": "code",
   "execution_count": 72,
   "id": "8ff38541",
   "metadata": {},
   "outputs": [
    {
     "name": "stdout",
     "output_type": "stream",
     "text": [
      "num: 5\n",
      "*        *\n",
      "**      **\n",
      "***    ***\n",
      "****  ****\n",
      "**********\n",
      "**********\n",
      "****  ****\n",
      "***    ***\n",
      "**      **\n",
      "*        *\n"
     ]
    }
   ],
   "source": [
    "n = int(input(\"num: \"))\n",
    "for i in range(1,n+1):\n",
    "    for j in range(i):\n",
    "        print(\"*\",end = \"\")\n",
    "    for j in range(0,2*n-2*i):\n",
    "        print(\" \",end = \"\")\n",
    "    for j in range(i):\n",
    "        print(\"*\",end = \"\")    \n",
    "    print()    \n",
    "\n",
    "\n",
    "for i in range(n,0,-1):\n",
    "    for j in range(i):\n",
    "        print(\"*\",end = \"\")\n",
    "    for j in range(0,2*n-2*i):\n",
    "        print(\" \",end = \"\")\n",
    "    for j in range(i):\n",
    "        print(\"*\",end = \"\")     \n",
    "    print()"
   ]
  },
  {
   "cell_type": "code",
   "execution_count": 6,
   "id": "14303fed",
   "metadata": {},
   "outputs": [
    {
     "name": "stdout",
     "output_type": "stream",
     "text": [
      "*****\n",
      "*****\n",
      "*****\n",
      "*****\n",
      "*****\n"
     ]
    }
   ],
   "source": [
    "n = 5\n",
    "for i in range(n):\n",
    "    for j in range(n):\n",
    "        print('*',end = \"\")\n",
    "    print()    "
   ]
  },
  {
   "cell_type": "code",
   "execution_count": 8,
   "id": "ad87fd5b",
   "metadata": {},
   "outputs": [
    {
     "name": "stdout",
     "output_type": "stream",
     "text": [
      "*         *\n",
      "*         *\n",
      "*         *\n",
      "*         *\n",
      "*         *\n"
     ]
    }
   ],
   "source": [
    "n = 5\n",
    "for i in range(n):\n",
    "    for j in range(n):\n",
    "        if (j==0 or j== n-1):\n",
    "            print('*',end = \"\")\n",
    "        else :\n",
    "            print(\"   \",end = \"\")\n",
    "    print()   "
   ]
  },
  {
   "cell_type": "code",
   "execution_count": 9,
   "id": "5c365d07",
   "metadata": {},
   "outputs": [
    {
     "name": "stdout",
     "output_type": "stream",
     "text": [
      "*   *\n",
      " * * \n",
      "  *  \n",
      " * * \n",
      "*   *\n"
     ]
    }
   ],
   "source": [
    "n = 5\n",
    "for i in range(n):\n",
    "    for j in range(n):\n",
    "        if (j==i or i+j==n-1):\n",
    "            print('*',end = \"\")\n",
    "        else :\n",
    "            print(\" \",end = \"\")\n",
    "    print()   "
   ]
  },
  {
   "cell_type": "code",
   "execution_count": 18,
   "id": "6def0039",
   "metadata": {},
   "outputs": [
    {
     "name": "stdout",
     "output_type": "stream",
     "text": [
      "  *  \n",
      "  *  \n",
      "*****\n",
      "  *  \n",
      "  *  \n"
     ]
    }
   ],
   "source": [
    "n = 5\n",
    "for i in range(n):\n",
    "    for j in range(n):\n",
    "        if (i==n//2 or j==n//2):\n",
    "            print('*',end = \"\")\n",
    "        else :\n",
    "            print(\" \",end = \"\")\n",
    "    print()   "
   ]
  },
  {
   "cell_type": "code",
   "execution_count": 71,
   "id": "1c4be73d",
   "metadata": {},
   "outputs": [
    {
     "name": "stdout",
     "output_type": "stream",
     "text": [
      "*****\n",
      "*   *\n",
      "*   *\n",
      "*   *\n",
      "*****\n"
     ]
    }
   ],
   "source": [
    "n = 5\n",
    "for i in range(n):\n",
    "    for j in range(n):\n",
    "        if (i == 0 or j == 0 or i == n-1 or j == n-1):\n",
    "            print('*',end = \"\")\n",
    "        else :\n",
    "            print(\" \",end = \"\")\n",
    "    print()   "
   ]
  },
  {
   "cell_type": "code",
   "execution_count": 34,
   "id": "1893ee83",
   "metadata": {},
   "outputs": [
    {
     "name": "stdout",
     "output_type": "stream",
     "text": [
      "5\n",
      "* \n",
      "* * \n",
      "*   * \n",
      "*     * \n",
      "* * * * * \n"
     ]
    }
   ],
   "source": [
    "n = int(input(\"\")) \n",
    "for i in range(n):\n",
    "    for j in range(i+1):\n",
    "        if (i == j or i == n-1 or j==0):\n",
    "            print(\"* \",end=\"\")\n",
    "        else:\n",
    "            print(\"  \",end = \"\")\n",
    "    print()    "
   ]
  },
  {
   "cell_type": "code",
   "execution_count": 36,
   "id": "049501ee",
   "metadata": {},
   "outputs": [
    {
     "name": "stdout",
     "output_type": "stream",
     "text": [
      "5\n",
      "* * * * * \n",
      "*     * \n",
      "*   * \n",
      "* * \n",
      "* \n"
     ]
    }
   ],
   "source": [
    "n = int(input(\"\")) \n",
    "for i in range(n):\n",
    "    for j in range(i,n):\n",
    "        if (i == j or  j == n-1 or i==0):\n",
    "            print(\"* \",end=\"\")\n",
    "        else:\n",
    "            print(\"  \",end = \"\")\n",
    "    print()   "
   ]
  },
  {
   "cell_type": "code",
   "execution_count": 48,
   "id": "56fca01c",
   "metadata": {},
   "outputs": [
    {
     "name": "stdout",
     "output_type": "stream",
     "text": [
      "5\n",
      "     *\n",
      "    * *\n",
      "   *   *\n",
      "  *     *\n",
      " *********\n"
     ]
    }
   ],
   "source": [
    "n = int(input(\"\")) \n",
    "for i in range(n):\n",
    "    for j in range(i,n):\n",
    "        print(\" \",end=\"\")\n",
    "    for j in range(i):\n",
    "        if (i == n-1 or j==0):\n",
    "            print(\"*\",end=\"\")\n",
    "        else:\n",
    "            print(\" \",end = \"\")\n",
    "    for j in range(i+1):\n",
    "        if (j==i or i== n-1):\n",
    "            print(\"*\",end=\"\")\n",
    "        else :\n",
    "            print(\" \",end = \"\")\n",
    "    print()   \n",
    "    "
   ]
  },
  {
   "cell_type": "code",
   "execution_count": 51,
   "id": "3cffa74a",
   "metadata": {},
   "outputs": [
    {
     "name": "stdout",
     "output_type": "stream",
     "text": [
      "    *\n",
      "   * *\n",
      "  *   *\n",
      " *     *\n",
      "*       *\n",
      " *     *\n",
      "  *   *\n",
      "   * *\n",
      "    *\n"
     ]
    }
   ],
   "source": [
    "n =5 \n",
    "for i in range(n-1):\n",
    "    for j in range(i,n-1):\n",
    "        print(' ',end='')\n",
    "    for j in range(i):\n",
    "        if j==0:\n",
    "            print(\"*\",end=\"\")\n",
    "        else:\n",
    "            print(\" \", end = \"\")\n",
    "    for j in range(i+1):\n",
    "        if j==i:\n",
    "             print(\"*\",end=\"\")\n",
    "        else:\n",
    "            print(\" \", end = \"\")\n",
    "    print()        \n",
    "    \n",
    "    \n",
    "for i in range(n):\n",
    "    for j in range(i):\n",
    "        print(' ',end='')\n",
    "    for j in range(i,n):\n",
    "        if j==i:\n",
    "            print(\"*\",end=\"\")\n",
    "        else:\n",
    "            print(\" \", end = \"\")\n",
    "    for j in range(i,n-1):\n",
    "        if j==n-2:\n",
    "             print(\"*\",end=\"\")\n",
    "        else:\n",
    "            print(\" \", end = \"\")\n",
    "    print()            "
   ]
  },
  {
   "cell_type": "code",
   "execution_count": 64,
   "id": "87a13c93",
   "metadata": {},
   "outputs": [
    {
     "name": "stdout",
     "output_type": "stream",
     "text": [
      "num: 5\n",
      "*        *\n",
      "**      **\n",
      "* *    * *\n",
      "*  *  *  *\n",
      "*   **   *\n",
      "*  *  *  *\n",
      "* *    * *\n",
      "**      **\n",
      "*        *\n"
     ]
    }
   ],
   "source": [
    "n = int(input(\"num: \"))\n",
    "for i in range(1,n+1):\n",
    "    space = 2*n-2*i\n",
    "    for j in range(1,i+1):\n",
    "        if j==1 or i == j:\n",
    "            print(\"*\",end = \"\")\n",
    "        else:\n",
    "            print(\" \",end = \"\")\n",
    "    \n",
    "    for j in range(space):\n",
    "        print(\" \",end = \"\")\n",
    "    \n",
    "    for j in range(1,i+1):\n",
    "        if j==1 or i == j:\n",
    "            print(\"*\",end = \"\")\n",
    "        else:\n",
    "            print(\" \",end = \"\")\n",
    "    print()\n",
    "\n",
    "for i in range(n-1,0,-1):\n",
    "    space = 2*n-2*i\n",
    "    for j in range(1,i+1):\n",
    "        if j==1 or i == j:\n",
    "            print(\"*\",end = \"\")\n",
    "        else:\n",
    "            print(\" \",end = \"\")\n",
    "   \n",
    "    for j in range(space):\n",
    "        print(\" \",end = \"\")\n",
    "    \n",
    "    for j in range(1,1+i):\n",
    "        if j==1 or i == j:\n",
    "            print(\"*\",end = \"\")\n",
    "        else:\n",
    "            print(\" \",end = \"\") \n",
    "    print()"
   ]
  },
  {
   "cell_type": "code",
   "execution_count": 65,
   "id": "bc255eaa",
   "metadata": {},
   "outputs": [
    {
     "name": "stdout",
     "output_type": "stream",
     "text": [
      "num: 5\n",
      "*        *\n",
      "**      **\n",
      "***    ***\n",
      "****  ****\n",
      "**********\n",
      "****  ****\n",
      "***    ***\n",
      "**      **\n",
      "*        *\n"
     ]
    }
   ],
   "source": [
    "n = int(input(\"num: \"))\n",
    "for i in range(1,n+1):\n",
    "    for j in range(1,i+1):\n",
    "        print(\"*\",end = \"\")\n",
    "    for z in range(2*n-2*i):\n",
    "        print(\" \",end = \"\")\n",
    "    for j in range(1,i+1):\n",
    "        print(\"*\",end = \"\")    \n",
    "    print()    \n",
    "\n",
    "\n",
    "for i in range(n-1,0,-1):\n",
    "    for j in range(1,i+1):\n",
    "        print(\"*\",end = \"\")\n",
    "    for z in range(2*n-2*i):\n",
    "        print(\" \",end = \"\")\n",
    "    for j in range(1,i+1):\n",
    "        print(\"*\",end = \"\")     \n",
    "    print()"
   ]
  },
  {
   "cell_type": "code",
   "execution_count": 74,
   "id": "f00708b3",
   "metadata": {},
   "outputs": [
    {
     "name": "stdout",
     "output_type": "stream",
     "text": [
      "    *\n",
      "   ***\n",
      "  *****\n",
      " *******\n",
      "*********\n",
      " *******\n",
      "  *****\n",
      "   ***\n",
      "    *\n"
     ]
    }
   ],
   "source": [
    "n =5 \n",
    "for i in range(n-1):\n",
    "    for j in range(i,n-1):\n",
    "        print(' ',end='')\n",
    "    for j in range(i):\n",
    "        print(\"*\",end=\"\")\n",
    "        \n",
    "    for j in range(i+1):\n",
    "        print(\"*\",end=\"\")\n",
    "      \n",
    "    print()        \n",
    "    \n",
    "    \n",
    "for i in range(n):\n",
    "    for j in range(i):\n",
    "        print(' ',end='')\n",
    "    for j in range(i,n):\n",
    "        print(\"*\",end=\"\")\n",
    "        \n",
    "    for j in range(i,n-1):\n",
    "        print(\"*\",end=\"\")\n",
    "       \n",
    "    print()            "
   ]
  },
  {
   "cell_type": "code",
   "execution_count": null,
   "id": "0cb3a10d",
   "metadata": {},
   "outputs": [],
   "source": []
  }
 ],
 "metadata": {
  "kernelspec": {
   "display_name": "Python 3 (ipykernel)",
   "language": "python",
   "name": "python3"
  },
  "language_info": {
   "codemirror_mode": {
    "name": "ipython",
    "version": 3
   },
   "file_extension": ".py",
   "mimetype": "text/x-python",
   "name": "python",
   "nbconvert_exporter": "python",
   "pygments_lexer": "ipython3",
   "version": "3.11.2"
  }
 },
 "nbformat": 4,
 "nbformat_minor": 5
}
