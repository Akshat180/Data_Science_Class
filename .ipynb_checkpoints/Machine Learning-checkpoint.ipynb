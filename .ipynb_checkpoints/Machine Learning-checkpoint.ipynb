{
 "cells": [
  {
   "cell_type": "markdown",
   "id": "9003b5e6",
   "metadata": {},
   "source": [
    "## Introduction to Machine Learning\n",
    "- **Machine Learning (ML)** is basically that field of computer science with the help of which computer systems can provide sense to data in much the same way as human beings do.\n",
    "- In simple words, `ML` is a type of artificial intelligence that extract patterns out of raw data by using an algorithm or method.\n",
    "- The key focus of `ML` is to allow computer systems to learn from experience without being explicitly programmed or human intervention."
   ]
  },
  {
   "cell_type": "markdown",
   "id": "ba1f08b0",
   "metadata": {},
   "source": [
    "**Deep Learning**\n",
    "The subset of machine learning composed of algorithms that permit software to train itself to perform tasks, like speech and image recognition, by exposing multilayered neural networks to vast amounts of data."
   ]
  },
  {
   "cell_type": "markdown",
   "id": "01dc2ded",
   "metadata": {},
   "source": [
    "**Machine Learning**\n",
    "A subset of Al that includes abstruse statistical techniques that enable machines to improve at tasks with experience. The category includes deep learning"
   ]
  },
  {
   "cell_type": "markdown",
   "id": "4e1a5f68",
   "metadata": {},
   "source": [
    "**Artificial Intelligence**\n",
    "Any technique that enables computers to mimic human intelligence, using logic, if-then rules, decision trees, and machine learning (including deep learning)"
   ]
  },
  {
   "cell_type": "markdown",
   "id": "e312e2b2",
   "metadata": {},
   "source": [
    "<img src='https://www.unite.ai/wp-content/uploads/2023/01/AI-ML-DL-1.png'  width=\"600\" height=\"300\">"
   ]
  },
  {
   "cell_type": "code",
   "execution_count": null,
   "id": "8593ac41",
   "metadata": {},
   "outputs": [],
   "source": []
  }
 ],
 "metadata": {
  "kernelspec": {
   "display_name": "Python 3 (ipykernel)",
   "language": "python",
   "name": "python3"
  },
  "language_info": {
   "codemirror_mode": {
    "name": "ipython",
    "version": 3
   },
   "file_extension": ".py",
   "mimetype": "text/x-python",
   "name": "python",
   "nbconvert_exporter": "python",
   "pygments_lexer": "ipython3",
   "version": "3.11.2"
  }
 },
 "nbformat": 4,
 "nbformat_minor": 5
}
