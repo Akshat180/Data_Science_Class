{
 "cells": [
  {
   "cell_type": "markdown",
   "id": "bb5fc35e",
   "metadata": {},
   "source": [
    "## Regular Expression\n",
    "- **A regular expression is a special sequence of characters that helps you match or find other strings or sets of strings, using a specialized syntax held in a pattern.**\n",
    "- **To understand the RE analogy, Meta Characters are useful, important and will be used in functions of module re.**\n",
    "- **There are a total of 14 metacharacters.**"
   ]
  },
  {
   "cell_type": "code",
   "execution_count": 1,
   "id": "5aae1453",
   "metadata": {},
   "outputs": [],
   "source": [
    "import re"
   ]
  },
  {
   "cell_type": "code",
   "execution_count": 2,
   "id": "749fc302",
   "metadata": {},
   "outputs": [],
   "source": [
    "sen = 'My name is khan and I am not a terrorist'"
   ]
  },
  {
   "cell_type": "code",
   "execution_count": 29,
   "id": "ff31cad2",
   "metadata": {},
   "outputs": [
    {
     "data": {
      "text/plain": [
       "['8@gmail.com', 't@gmail.com']"
      ]
     },
     "execution_count": 29,
     "metadata": {},
     "output_type": "execute_result"
    }
   ],
   "source": [
    "sene = 'My name is Akshat and my email id is kunwarakshat18@gmail.com and akshat@gmail.com'\n",
    "regex = '[A-Za-z0-9]@gmail.com'\n",
    "re.findall(regex,sene)"
   ]
  },
  {
   "cell_type": "code",
   "execution_count": 28,
   "id": "f22b11d9",
   "metadata": {},
   "outputs": [
    {
     "data": {
      "text/plain": [
       "['at@gmail.com']"
      ]
     },
     "execution_count": 28,
     "metadata": {},
     "output_type": "execute_result"
    }
   ],
   "source": [
    "sene = 'My name is Akshat and my email id is kunwarakshat18@gmail.com and akshat@gmail.com'\n",
    "regex = '[a-z][A-Za-z0-9]@gmail.com'\n",
    "re.findall(regex,sene)"
   ]
  },
  {
   "cell_type": "code",
   "execution_count": 12,
   "id": "417091e8",
   "metadata": {},
   "outputs": [
    {
     "data": {
      "text/plain": [
       "['a8@gmail.com', 'at@gmail.com']"
      ]
     },
     "execution_count": 12,
     "metadata": {},
     "output_type": "execute_result"
    }
   ],
   "source": [
    "senen = 'My name is Akshat and my email id is kunwarakshat1a8@gmail.com and akshat@gmail.com'\n",
    "regex = '[a-z][A-Za-z0-9]@gmail.com'\n",
    "re.findall(regex,senen)"
   ]
  },
  {
   "cell_type": "markdown",
   "id": "0a1837b8",
   "metadata": {},
   "source": [
    "# Quantifires = this tell us how much quantity is there in the pattern\n",
    "- {2} it takes 2 character\n",
    "- {2,} = 2 to infinity"
   ]
  },
  {
   "cell_type": "code",
   "execution_count": 35,
   "id": "6917cc19",
   "metadata": {},
   "outputs": [
    {
     "data": {
      "text/plain": [
       "['18@gmail.com', 'at@gmail.com']"
      ]
     },
     "execution_count": 35,
     "metadata": {},
     "output_type": "execute_result"
    }
   ],
   "source": [
    "senen2 = 'My name is Akshat and my email id is kunwarakshat18@gmail.com and akshat@gmail.com'\n",
    "regex = '[A-Za-z0-9]{2}@gmail.com'\n",
    "re.findall(regex,senen2)"
   ]
  },
  {
   "cell_type": "code",
   "execution_count": 18,
   "id": "4039ab96",
   "metadata": {},
   "outputs": [
    {
     "data": {
      "text/plain": [
       "['kunwarakshat18@gmail.com', 'akshat@gmail.com']"
      ]
     },
     "execution_count": 18,
     "metadata": {},
     "output_type": "execute_result"
    }
   ],
   "source": [
    "senen2 = 'My name is Akshat and my email id is kunwarakshat18@gmail.com and akshat@gmail.com'\n",
    "regex = '[A-Za-z0-9]{2,}@gmail.com'\n",
    "re.findall(regex,senen2)"
   ]
  },
  {
   "cell_type": "code",
   "execution_count": 19,
   "id": "f9ec9fbc",
   "metadata": {},
   "outputs": [
    {
     "data": {
      "text/plain": [
       "['My name is Akshat and my email id is kunwarakshat1 8@gmail.com',\n",
       " ' and akshat@gmail.com']"
      ]
     },
     "execution_count": 19,
     "metadata": {},
     "output_type": "execute_result"
    }
   ],
   "source": [
    "senen3 = 'My name is Akshat and my email id is kunwarakshat1 8@gmail.com and akshat@gmail.com'\n",
    "regex = '[A-Za-z0-9 ]{2,}@gmail.com' #  using space in it [A-Za-z0-9 yeh place mei space hai]\n",
    "re.findall(regex,senen3)"
   ]
  },
  {
   "cell_type": "code",
   "execution_count": 24,
   "id": "a335601d",
   "metadata": {},
   "outputs": [
    {
     "data": {
      "text/plain": [
       "['rakshatgjdhdfhgzstgthjgdsutyh8@gmail.com', 'akshat@gmail.com']"
      ]
     },
     "execution_count": 24,
     "metadata": {},
     "output_type": "execute_result"
    }
   ],
   "source": [
    "senen4 = 'My name is Akshat and my email id is kunwarakshatgjdhdfhgzstgthjgdsutyh8@gmail.com and akshat@gmail.com'\n",
    "regex = '[A-Za-z0-9]{2,30}@gmail.com'      # min 2 se max 30 tk chaiye\n",
    "re.findall(regex,senen4)  "
   ]
  },
  {
   "cell_type": "code",
   "execution_count": 26,
   "id": "47cf6261",
   "metadata": {},
   "outputs": [
    {
     "data": {
      "text/plain": [
       "[' akshat@gmail.com']"
      ]
     },
     "execution_count": 26,
     "metadata": {},
     "output_type": "execute_result"
    }
   ],
   "source": [
    "senen5 = 'My name is Akshat and my email id is kunwarakshatgjdhdfhgzstgthjgdsutyh8@gmail.com and akshat@gmail.com'\n",
    "regex = ' [A-Za-z0-9]{2,30}@gmail.com'      # space honi chaiye mail se phele or mail ki range ho skti 2 se 30\n",
    "re.findall(regex,senen5)                    # 'yeh place pr space hai[A-Za-z0-9]{2,30}@gmail.com'"
   ]
  },
  {
   "cell_type": "code",
   "execution_count": 27,
   "id": "0c14b2f4",
   "metadata": {},
   "outputs": [
    {
     "data": {
      "text/plain": [
       "['kunwarakshat18@gmail.com']"
      ]
     },
     "execution_count": 27,
     "metadata": {},
     "output_type": "execute_result"
    }
   ],
   "source": [
    "senen6 = 'My name is Akshat and my email id is kunwarakshat18@gmail.com and aksh@gmail.com'\n",
    "regex = '[A-Za-z0-9]{6,30}@gmail.com'      # min 6 character honi chaiye\n",
    "re.findall(regex,senen6) "
   ]
  },
  {
   "cell_type": "code",
   "execution_count": 53,
   "id": "47218c21",
   "metadata": {},
   "outputs": [
    {
     "data": {
      "text/plain": [
       "['27/12/1996']"
      ]
     },
     "execution_count": 53,
     "metadata": {},
     "output_type": "execute_result"
    }
   ],
   "source": [
    "#  question\n",
    "s = 'My dob is 27/12/1996'\n",
    "r = '[0-3][0-9]/[01][0-9]/[0-2][0-9]{3}'\n",
    "re.findall(r,s)"
   ]
  },
  {
   "cell_type": "code",
   "execution_count": 54,
   "id": "ac2ded5f",
   "metadata": {},
   "outputs": [
    {
     "data": {
      "text/plain": [
       "['8319082508']"
      ]
     },
     "execution_count": 54,
     "metadata": {},
     "output_type": "execute_result"
    }
   ],
   "source": [
    "n = 'My number is +91-8319082508'\n",
    "r = '[0-9]{10}'\n",
    "re.findall(r,n)"
   ]
  },
  {
   "cell_type": "markdown",
   "id": "4fcdb4eb",
   "metadata": {},
   "source": [
    "### special sequence \n",
    "1. \\d: Matches any **decimal digit**. Equivalent to `[0-9]`.\n",
    "2. \\D: Matches any **non-digit character**. Equivalent to `[^0-9]`.\n",
    "3. \\w: Matches any **alphanumeric character (letter or digit)**. Equivalent to `[a-zA-Z0-9_J]`\n",
    "4. \\W: Matches any **non-alphanumeric character**. Equivalent to `[^a-zA-Z0-9_]`\n",
    "5. \\s: Matches any **whitespace character (space, tab, newline)**. Equivalent to `[\\t\\n\\r\\f\\v]`\n",
    "6. \\S: Matches any **non-whitespace character**. Equivalent to `[^ \\t\\n\\r\\f\\v]`\n",
    "7. \\b: Matches a word boundary. It matches an empty string at the beginning or end of a word.\n",
    "8. \\B: Matches a position that is not a word boundary.\n",
    "9. \\A: Matches the beginning of a string. It only matches at the start of the string.\n",
    "10. \\Z: Matches the end of a string. It only matches at the end of the string."
   ]
  },
  {
   "cell_type": "code",
   "execution_count": 55,
   "id": "f401e678",
   "metadata": {},
   "outputs": [
    {
     "data": {
      "text/plain": [
       "['8319082508']"
      ]
     },
     "execution_count": 55,
     "metadata": {},
     "output_type": "execute_result"
    }
   ],
   "source": [
    "n = 'My number is +91-8319082508'\n",
    "r = '[\\d]{10}'\n",
    "re.findall(r,n)"
   ]
  },
  {
   "cell_type": "code",
   "execution_count": 57,
   "id": "45a9bc49",
   "metadata": {},
   "outputs": [],
   "source": [
    "# * = {,}  0 or infinity 0 hoga toh bhi print hoga 0 se jada hua toh bhi print hoga jitna hai"
   ]
  },
  {
   "cell_type": "code",
   "execution_count": 61,
   "id": "39a6cc44",
   "metadata": {},
   "outputs": [
    {
     "data": {
      "text/plain": [
       "['',\n",
       " '',\n",
       " '',\n",
       " '',\n",
       " '',\n",
       " '',\n",
       " '',\n",
       " '',\n",
       " '',\n",
       " '',\n",
       " '',\n",
       " '',\n",
       " '',\n",
       " '',\n",
       " '91',\n",
       " '',\n",
       " '8319082508',\n",
       " '']"
      ]
     },
     "execution_count": 61,
     "metadata": {},
     "output_type": "execute_result"
    }
   ],
   "source": [
    "n1 = 'My number is +91-8319082508'\n",
    "r1 = '[\\d]*' \n",
    "re.findall(r1,n1)"
   ]
  },
  {
   "cell_type": "code",
   "execution_count": 62,
   "id": "9f99a167",
   "metadata": {},
   "outputs": [],
   "source": [
    "# ? = 0 or 1  0 or infinity 0 hoga toh bhi print hoga or 1 hua toh print 1 bhi hoga"
   ]
  },
  {
   "cell_type": "code",
   "execution_count": 63,
   "id": "12cdc2c0",
   "metadata": {},
   "outputs": [
    {
     "data": {
      "text/plain": [
       "['',\n",
       " '',\n",
       " '',\n",
       " '',\n",
       " '',\n",
       " '',\n",
       " '',\n",
       " '',\n",
       " '',\n",
       " '',\n",
       " '',\n",
       " '',\n",
       " '',\n",
       " '',\n",
       " '9',\n",
       " '1',\n",
       " '',\n",
       " '8',\n",
       " '3',\n",
       " '1',\n",
       " '9',\n",
       " '0',\n",
       " '8',\n",
       " '2',\n",
       " '5',\n",
       " '0',\n",
       " '8',\n",
       " '']"
      ]
     },
     "execution_count": 63,
     "metadata": {},
     "output_type": "execute_result"
    }
   ],
   "source": [
    "n2 = 'My number is +91-8319082508'\n",
    "r2 = '[\\d]?' \n",
    "re.findall(r2,n2)"
   ]
  },
  {
   "cell_type": "code",
   "execution_count": 64,
   "id": "740bb917",
   "metadata": {},
   "outputs": [],
   "source": [
    "# + = 1 and more "
   ]
  },
  {
   "cell_type": "code",
   "execution_count": 65,
   "id": "5cc9ba60",
   "metadata": {},
   "outputs": [
    {
     "data": {
      "text/plain": [
       "['91', '8319082508']"
      ]
     },
     "execution_count": 65,
     "metadata": {},
     "output_type": "execute_result"
    }
   ],
   "source": [
    "n12 = 'My number is +91-8319082508'\n",
    "r12 = '[\\d]+' \n",
    "re.findall(r12,n12)"
   ]
  },
  {
   "cell_type": "code",
   "execution_count": 73,
   "id": "2a4437ef",
   "metadata": {},
   "outputs": [
    {
     "data": {
      "text/plain": [
       "['Mr. someone', 'Mr. X', 'Mr. Someone']"
      ]
     },
     "execution_count": 73,
     "metadata": {},
     "output_type": "execute_result"
    }
   ],
   "source": [
    "s = 'Mr. someone and Mr. X and Mr. Someone'\n",
    "x = 'Mr[.]? [A-Z]*[a-z]*'\n",
    "re.findall(x,s)"
   ]
  },
  {
   "cell_type": "code",
   "execution_count": 74,
   "id": "14a8fb22",
   "metadata": {},
   "outputs": [
    {
     "data": {
      "text/plain": [
       "['Mr. X', 'Mr. Someone']"
      ]
     },
     "execution_count": 74,
     "metadata": {},
     "output_type": "execute_result"
    }
   ],
   "source": [
    "s = 'Mr. someone and Mr. X and Mr. Someone'\n",
    "x = 'Mr[.]? [A-Z]+[a-z]*'\n",
    "re.findall(x,s)"
   ]
  },
  {
   "cell_type": "code",
   "execution_count": 75,
   "id": "84ed0b8f",
   "metadata": {},
   "outputs": [
    {
     "data": {
      "text/plain": [
       "['Mr. someone', 'Mr. X and', 'Mr. Someone', 'Mr.some']"
      ]
     },
     "execution_count": 75,
     "metadata": {},
     "output_type": "execute_result"
    }
   ],
   "source": [
    "s = 'Mr. someone and Mr. X and Mr. Someone and Mr.some'\n",
    "x = 'Mr[.]?[]? [A-Z]*[a-z]*'\n",
    "re.findall(x,s)"
   ]
  },
  {
   "cell_type": "code",
   "execution_count": 76,
   "id": "06428a58",
   "metadata": {},
   "outputs": [],
   "source": [
    "# \\+ = by this plus is not as specail sequence \n",
    "# \\ this make specail sequence into raw"
   ]
  },
  {
   "cell_type": "code",
   "execution_count": 82,
   "id": "24acee0d",
   "metadata": {},
   "outputs": [
    {
     "data": {
      "text/plain": [
       "['+91-8319082508']"
      ]
     },
     "execution_count": 82,
     "metadata": {},
     "output_type": "execute_result"
    }
   ],
   "source": [
    "n12 = 'My number is +91-8319082508'\n",
    "r12 = '[\\+91\\-[\\d]+' \n",
    "re.findall(r12,n12)"
   ]
  },
  {
   "cell_type": "code",
   "execution_count": null,
   "id": "2cbdab19",
   "metadata": {},
   "outputs": [],
   "source": []
  }
 ],
 "metadata": {
  "kernelspec": {
   "display_name": "Python 3 (ipykernel)",
   "language": "python",
   "name": "python3"
  },
  "language_info": {
   "codemirror_mode": {
    "name": "ipython",
    "version": 3
   },
   "file_extension": ".py",
   "mimetype": "text/x-python",
   "name": "python",
   "nbconvert_exporter": "python",
   "pygments_lexer": "ipython3",
   "version": "3.11.2"
  }
 },
 "nbformat": 4,
 "nbformat_minor": 5
}
