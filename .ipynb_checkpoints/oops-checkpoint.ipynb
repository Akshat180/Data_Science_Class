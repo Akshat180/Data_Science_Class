{
 "cells": [
  {
   "cell_type": "markdown",
   "id": "627c7e08",
   "metadata": {},
   "source": [
    "# Class is a template/blue-print for real-world entities"
   ]
  },
  {
   "cell_type": "markdown",
   "id": "bf2fe024",
   "metadata": {},
   "source": [
    "## Class is user define Data-Type"
   ]
  },
  {
   "cell_type": "markdown",
   "id": "ebc0af49",
   "metadata": {},
   "source": [
    "Properties - Attributes\n",
    "\n",
    "Behaviour  - Methods\n",
    "\n",
    "like phone is class \n",
    "\n",
    "[color, cost, battery life] it is the properties\n",
    "\n",
    "[make call, watch video, play games] it is Behaviour"
   ]
  },
  {
   "cell_type": "markdown",
   "id": "d73fdec1",
   "metadata": {},
   "source": [
    "# Objects"
   ]
  },
  {
   "cell_type": "markdown",
   "id": "39ca305b",
   "metadata": {},
   "source": [
    "### objects are specific instances of a class "
   ]
  },
  {
   "cell_type": "markdown",
   "id": "a195880e",
   "metadata": {},
   "source": [
    "like \n",
    "\n",
    "phone - apple , nokia , samsung"
   ]
  },
  {
   "cell_type": "markdown",
   "id": "9196b901",
   "metadata": {},
   "source": [
    "#### Creating the Phone class"
   ]
  },
  {
   "cell_type": "code",
   "execution_count": 1,
   "id": "67e7e87a",
   "metadata": {},
   "outputs": [],
   "source": [
    "class Phone:\n",
    "    \n",
    "    def make_call(self):\n",
    "        print('Making Call')\n",
    "        \n",
    "    def Play_game(self):\n",
    "        print('Playing Game')\n",
    "        "
   ]
  },
  {
   "cell_type": "markdown",
   "id": "65e636e2",
   "metadata": {},
   "source": [
    "#### Instantiating the 'p1' object"
   ]
  },
  {
   "cell_type": "code",
   "execution_count": 2,
   "id": "51361468",
   "metadata": {},
   "outputs": [
    {
     "data": {
      "text/plain": [
       "<__main__.Phone at 0x1cd360b7d10>"
      ]
     },
     "execution_count": 2,
     "metadata": {},
     "output_type": "execute_result"
    }
   ],
   "source": [
    "p1 = Phone()\n",
    "p1"
   ]
  },
  {
   "cell_type": "markdown",
   "id": "bbc1123f",
   "metadata": {},
   "source": [
    "#### Invoking methods through object"
   ]
  },
  {
   "cell_type": "code",
   "execution_count": 3,
   "id": "53222806",
   "metadata": {},
   "outputs": [
    {
     "name": "stdout",
     "output_type": "stream",
     "text": [
      "Making Call\n"
     ]
    }
   ],
   "source": [
    "p1.make_call()"
   ]
  },
  {
   "cell_type": "code",
   "execution_count": null,
   "id": "26e04a73",
   "metadata": {},
   "outputs": [],
   "source": [
    "p1.Play_game()"
   ]
  },
  {
   "cell_type": "markdown",
   "id": "eb2d7e50",
   "metadata": {},
   "source": [
    "## Setting and Returning the attribute values"
   ]
  },
  {
   "cell_type": "code",
   "execution_count": 5,
   "id": "5988a778",
   "metadata": {},
   "outputs": [],
   "source": [
    "class Phone:\n",
    "    \n",
    "    def set_color(self, color):\n",
    "        self.color = color\n",
    "        \n",
    "    def set_cost(self,cost):\n",
    "        self.cost = cost\n",
    "        \n",
    "    def show_color(self):\n",
    "        return self.color\n",
    "    \n",
    "    def show_cost(self):\n",
    "        return self.cost\n",
    "    \n",
    "    def make_call(self):\n",
    "        print('Making Call')\n",
    "        \n",
    "    def Play_game(self):\n",
    "        print('Playing Game')"
   ]
  },
  {
   "cell_type": "code",
   "execution_count": 6,
   "id": "83587afe",
   "metadata": {},
   "outputs": [],
   "source": [
    "p2 = Phone()"
   ]
  },
  {
   "cell_type": "code",
   "execution_count": 7,
   "id": "7a992819",
   "metadata": {},
   "outputs": [],
   "source": [
    "p2.set_color('yellow')"
   ]
  },
  {
   "cell_type": "code",
   "execution_count": 8,
   "id": "dc942dd8",
   "metadata": {},
   "outputs": [],
   "source": [
    "p2.set_cost(1000)"
   ]
  },
  {
   "cell_type": "code",
   "execution_count": 9,
   "id": "2ec97be8",
   "metadata": {},
   "outputs": [
    {
     "data": {
      "text/plain": [
       "'yellow'"
      ]
     },
     "execution_count": 9,
     "metadata": {},
     "output_type": "execute_result"
    }
   ],
   "source": [
    "p2.show_color()"
   ]
  },
  {
   "cell_type": "code",
   "execution_count": 10,
   "id": "3c521024",
   "metadata": {},
   "outputs": [
    {
     "data": {
      "text/plain": [
       "1000"
      ]
     },
     "execution_count": 10,
     "metadata": {},
     "output_type": "execute_result"
    }
   ],
   "source": [
    "p2.show_cost()"
   ]
  },
  {
   "cell_type": "code",
   "execution_count": 11,
   "id": "d4568891",
   "metadata": {},
   "outputs": [
    {
     "name": "stdout",
     "output_type": "stream",
     "text": [
      "Playing Game\n"
     ]
    }
   ],
   "source": [
    "p2.Play_game()"
   ]
  },
  {
   "cell_type": "code",
   "execution_count": 12,
   "id": "07729bb7",
   "metadata": {},
   "outputs": [
    {
     "name": "stdout",
     "output_type": "stream",
     "text": [
      "Making Call\n"
     ]
    }
   ],
   "source": [
    "p2.make_call()"
   ]
  },
  {
   "cell_type": "markdown",
   "id": "90cb70b4",
   "metadata": {},
   "source": [
    "# Creating a class with Constructor"
   ]
  },
  {
   "cell_type": "code",
   "execution_count": 13,
   "id": "63d311b0",
   "metadata": {},
   "outputs": [],
   "source": [
    "class Employee:\n",
    "\n",
    "# init method acts as the contructor\n",
    "    def __init__(self,name,age, salary, gender):\n",
    "        \n",
    "        self.name   = name  # self.name  use krte hai bind krne ke liye\n",
    "        self.age    = age\n",
    "        self.salary = salary\n",
    "        self.gender = gender\n",
    "        \n",
    "    def employee_details(self):\n",
    "        \n",
    "        print('Name of Employee is ', self.name)\n",
    "        print('Age of Employee is ', self.age)\n",
    "        print('Salary of Employee is ', self.salary)\n",
    "        print('Gender of Employee is ', self.gender)"
   ]
  },
  {
   "cell_type": "markdown",
   "id": "956b0ec5",
   "metadata": {},
   "source": [
    "#### Instanting the 'e1' object"
   ]
  },
  {
   "cell_type": "code",
   "execution_count": 14,
   "id": "088874e5",
   "metadata": {},
   "outputs": [],
   "source": [
    "e1 = Employee('Jhon',30,550000, 'Male')"
   ]
  },
  {
   "cell_type": "markdown",
   "id": "0107b936",
   "metadata": {},
   "source": [
    "#### Invoking the 'employee_details' method"
   ]
  },
  {
   "cell_type": "code",
   "execution_count": 15,
   "id": "6ee193fc",
   "metadata": {},
   "outputs": [
    {
     "name": "stdout",
     "output_type": "stream",
     "text": [
      "Name of Employee is  Jhon\n",
      "Age of Employee is  30\n",
      "Salary of Employee is  550000\n",
      "Gender of Employee is  Male\n"
     ]
    }
   ],
   "source": [
    "e1.employee_details()"
   ]
  },
  {
   "cell_type": "markdown",
   "id": "f7b75c99",
   "metadata": {},
   "source": [
    "# Inheritance in Python"
   ]
  },
  {
   "cell_type": "markdown",
   "id": "e396c855",
   "metadata": {},
   "source": [
    "With inheritance one class can drive the Properties of another class\n",
    "\n",
    "Example:\n",
    "\n",
    "Man inheriting features From his Father"
   ]
  },
  {
   "cell_type": "markdown",
   "id": "8759ef0d",
   "metadata": {},
   "source": [
    "### Creating the Base Class"
   ]
  },
  {
   "cell_type": "code",
   "execution_count": 16,
   "id": "daff30c0",
   "metadata": {},
   "outputs": [],
   "source": [
    "class Vehicle:\n",
    "    \n",
    "    def __init__(self, mileage, cost):\n",
    "        \n",
    "        self.mileage = mileage\n",
    "        self.cost    = cost\n",
    "        \n",
    "    def show_details(self):\n",
    "        \n",
    "        print('I am a Vehicle')\n",
    "        print('Mileage of Vechile is ', self.mileage)\n",
    "        print('Cost of Vechile is',self.cost)"
   ]
  },
  {
   "cell_type": "code",
   "execution_count": 17,
   "id": "8bf76837",
   "metadata": {},
   "outputs": [],
   "source": [
    "v1 = Vehicle(40,2050000)"
   ]
  },
  {
   "cell_type": "code",
   "execution_count": 18,
   "id": "7e9aa484",
   "metadata": {},
   "outputs": [
    {
     "name": "stdout",
     "output_type": "stream",
     "text": [
      "I am a Vehicle\n",
      "Mileage of Vechile is  40\n",
      "Cost of Vechile is 2050000\n"
     ]
    }
   ],
   "source": [
    "v1.show_details()"
   ]
  },
  {
   "cell_type": "markdown",
   "id": "1bba4d90",
   "metadata": {},
   "source": [
    "# Inheritence Example"
   ]
  },
  {
   "cell_type": "markdown",
   "id": "14b1126a",
   "metadata": {},
   "source": [
    "Creating Child Class"
   ]
  },
  {
   "cell_type": "code",
   "execution_count": 19,
   "id": "60b70ec2",
   "metadata": {},
   "outputs": [],
   "source": [
    "class car(Vehicle):\n",
    "    \n",
    "    def Show_car(self):\n",
    "        print('I am car')\n",
    "        "
   ]
  },
  {
   "cell_type": "markdown",
   "id": "ddef94d9",
   "metadata": {},
   "source": [
    "Instantiating the Object for the Child Class"
   ]
  },
  {
   "cell_type": "code",
   "execution_count": 20,
   "id": "3b2934a2",
   "metadata": {},
   "outputs": [],
   "source": [
    "c1 =  car(50,60000)"
   ]
  },
  {
   "cell_type": "code",
   "execution_count": 21,
   "id": "3e00b514",
   "metadata": {},
   "outputs": [
    {
     "name": "stdout",
     "output_type": "stream",
     "text": [
      "I am a Vehicle\n",
      "Mileage of Vechile is  50\n",
      "Cost of Vechile is 60000\n"
     ]
    }
   ],
   "source": [
    "c1.show_details()"
   ]
  },
  {
   "cell_type": "code",
   "execution_count": 22,
   "id": "1ef5b677",
   "metadata": {},
   "outputs": [
    {
     "name": "stdout",
     "output_type": "stream",
     "text": [
      "I am car\n"
     ]
    }
   ],
   "source": [
    "c1.Show_car()"
   ]
  },
  {
   "cell_type": "markdown",
   "id": "64240f22",
   "metadata": {},
   "source": [
    "# Over-riding init Method"
   ]
  },
  {
   "cell_type": "code",
   "execution_count": 25,
   "id": "ec314049",
   "metadata": {},
   "outputs": [],
   "source": [
    "class Car(Vehicle):\n",
    "    \n",
    "    def __init__(self,mileage,cost,tyres,hp ):\n",
    "        super().__init__(mileage,cost)\n",
    "        self.tyres = tyres\n",
    "        self.hp    = hp\n",
    "        \n",
    "    def show_car_details(self):\n",
    "        \n",
    "        print('I am a car')\n",
    "        print('Number of tyres in car is', self.tyres)\n",
    "        print('HP of car is ',self.hp)"
   ]
  },
  {
   "cell_type": "code",
   "execution_count": 26,
   "id": "20104da5",
   "metadata": {},
   "outputs": [],
   "source": [
    "c1 = Car(20,1200,4,300)"
   ]
  },
  {
   "cell_type": "code",
   "execution_count": 27,
   "id": "179572fa",
   "metadata": {},
   "outputs": [
    {
     "name": "stdout",
     "output_type": "stream",
     "text": [
      "I am a Vehicle\n",
      "Mileage of Vechile is  20\n",
      "Cost of Vechile is 1200\n"
     ]
    }
   ],
   "source": [
    "c1.show_details()"
   ]
  },
  {
   "cell_type": "code",
   "execution_count": 29,
   "id": "98e41961",
   "metadata": {},
   "outputs": [
    {
     "name": "stdout",
     "output_type": "stream",
     "text": [
      "I am a car\n",
      "Number of tyres in car is 4\n",
      "HP of car is  300\n"
     ]
    }
   ],
   "source": [
    "c1.show_car_details()"
   ]
  },
  {
   "cell_type": "code",
   "execution_count": null,
   "id": "e2ecd8cd",
   "metadata": {},
   "outputs": [],
   "source": []
  }
 ],
 "metadata": {
  "kernelspec": {
   "display_name": "Python 3 (ipykernel)",
   "language": "python",
   "name": "python3"
  },
  "language_info": {
   "codemirror_mode": {
    "name": "ipython",
    "version": 3
   },
   "file_extension": ".py",
   "mimetype": "text/x-python",
   "name": "python",
   "nbconvert_exporter": "python",
   "pygments_lexer": "ipython3",
   "version": "3.11.2"
  }
 },
 "nbformat": 4,
 "nbformat_minor": 5
}
