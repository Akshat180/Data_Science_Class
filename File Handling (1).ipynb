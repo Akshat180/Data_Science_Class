{
 "cells": [
  {
   "cell_type": "code",
   "execution_count": 1,
   "id": "af7c1799",
   "metadata": {},
   "outputs": [],
   "source": [
    "import os"
   ]
  },
  {
   "cell_type": "code",
   "execution_count": 2,
   "id": "d725f7b5",
   "metadata": {},
   "outputs": [
    {
     "data": {
      "text/plain": [
       "['.ipynb_checkpoints',\n",
       " 'air.csv',\n",
       " 'Assignment 1 Solutions.ipynb',\n",
       " 'Assignment 1.txt',\n",
       " 'Assignment 2.txt',\n",
       " 'Assignment 3.ipynb',\n",
       " 'Assignment 5.txt',\n",
       " 'calc2.py',\n",
       " 'checkcalc.py',\n",
       " 'Data Science Batch 2.ipynb',\n",
       " 'File Handling.ipynb',\n",
       " 'kbc.ipynb',\n",
       " 'matplotib class.ipynb',\n",
       " 'Mini project - SignInUp System.ipynb',\n",
       " 'nba.csv',\n",
       " 'New folder',\n",
       " 'NumPy.ipynb',\n",
       " 'Pandas Class.ipynb',\n",
       " 'Regular Expression Examples.ipynb',\n",
       " 'Regular Expression.ipynb',\n",
       " 'Seaborn Class.ipynb',\n",
       " 'Untitled.ipynb',\n",
       " 'Untitled1.ipynb',\n",
       " '__pycache__']"
      ]
     },
     "execution_count": 2,
     "metadata": {},
     "output_type": "execute_result"
    }
   ],
   "source": [
    "os.listdir()"
   ]
  },
  {
   "cell_type": "code",
   "execution_count": 3,
   "id": "727a161d",
   "metadata": {},
   "outputs": [
    {
     "data": {
      "text/plain": [
       "'C:\\\\Users\\\\harsh\\\\Documents\\\\Python Codes\\\\CT Data Science Batch 2'"
      ]
     },
     "execution_count": 3,
     "metadata": {},
     "output_type": "execute_result"
    }
   ],
   "source": [
    "os.getcwd()"
   ]
  },
  {
   "cell_type": "code",
   "execution_count": 9,
   "id": "6c4ee7bb",
   "metadata": {},
   "outputs": [],
   "source": [
    "os.chdir('..')"
   ]
  },
  {
   "cell_type": "code",
   "execution_count": 10,
   "id": "32db70f7",
   "metadata": {
    "scrolled": true
   },
   "outputs": [
    {
     "data": {
      "text/plain": [
       "'C:\\\\Users\\\\harsh\\\\Documents\\\\Python Codes'"
      ]
     },
     "execution_count": 10,
     "metadata": {},
     "output_type": "execute_result"
    }
   ],
   "source": [
    "os.getcwd()"
   ]
  },
  {
   "cell_type": "code",
   "execution_count": 11,
   "id": "4d30c0eb",
   "metadata": {},
   "outputs": [],
   "source": [
    "os.chdir('C:/Users/harsh/Desktop')"
   ]
  },
  {
   "cell_type": "code",
   "execution_count": 12,
   "id": "e2473bf1",
   "metadata": {},
   "outputs": [
    {
     "data": {
      "text/plain": [
       "'C:\\\\Users\\\\harsh\\\\Desktop'"
      ]
     },
     "execution_count": 12,
     "metadata": {},
     "output_type": "execute_result"
    }
   ],
   "source": [
    "os.getcwd()"
   ]
  },
  {
   "cell_type": "code",
   "execution_count": 13,
   "id": "a376a91c",
   "metadata": {},
   "outputs": [],
   "source": [
    "os.chdir('some')"
   ]
  },
  {
   "cell_type": "code",
   "execution_count": 14,
   "id": "97810a48",
   "metadata": {},
   "outputs": [
    {
     "data": {
      "text/plain": [
       "'C:\\\\Users\\\\harsh\\\\Desktop\\\\some'"
      ]
     },
     "execution_count": 14,
     "metadata": {},
     "output_type": "execute_result"
    }
   ],
   "source": [
    "os.getcwd()"
   ]
  },
  {
   "cell_type": "code",
   "execution_count": 15,
   "id": "044ddf96",
   "metadata": {},
   "outputs": [],
   "source": [
    "os.chdir('..')"
   ]
  },
  {
   "cell_type": "code",
   "execution_count": 16,
   "id": "5b543f24",
   "metadata": {},
   "outputs": [
    {
     "data": {
      "text/plain": [
       "'C:\\\\Users\\\\harsh\\\\Desktop'"
      ]
     },
     "execution_count": 16,
     "metadata": {},
     "output_type": "execute_result"
    }
   ],
   "source": [
    "os.getcwd()"
   ]
  },
  {
   "cell_type": "code",
   "execution_count": 17,
   "id": "da40dcc7",
   "metadata": {},
   "outputs": [
    {
     "data": {
      "text/plain": [
       "['desktop.ini',\n",
       " 'Harshil Bansal - Profile.pdf',\n",
       " 'psiphon-115.exe',\n",
       " 'psiphon-115.exe.orig',\n",
       " 'some',\n",
       " 'Test file for Python testing.xlsx',\n",
       " 'Vinay Test.ipynb',\n",
       " '\\xa0']"
      ]
     },
     "execution_count": 17,
     "metadata": {},
     "output_type": "execute_result"
    }
   ],
   "source": [
    "os.listdir()"
   ]
  },
  {
   "cell_type": "code",
   "execution_count": 18,
   "id": "f98676aa",
   "metadata": {},
   "outputs": [],
   "source": [
    "os.mkdir('test')"
   ]
  },
  {
   "cell_type": "code",
   "execution_count": 19,
   "id": "68f4709f",
   "metadata": {},
   "outputs": [
    {
     "data": {
      "text/plain": [
       "'C:\\\\Users\\\\harsh\\\\Desktop'"
      ]
     },
     "execution_count": 19,
     "metadata": {},
     "output_type": "execute_result"
    }
   ],
   "source": [
    "os.getcwd()"
   ]
  },
  {
   "cell_type": "code",
   "execution_count": 21,
   "id": "33aad13e",
   "metadata": {},
   "outputs": [],
   "source": [
    "os.remove('yo.txt')"
   ]
  },
  {
   "cell_type": "code",
   "execution_count": 22,
   "id": "c6faf455",
   "metadata": {},
   "outputs": [],
   "source": [
    "os.rmdir('test')"
   ]
  },
  {
   "cell_type": "markdown",
   "id": "a814b212",
   "metadata": {},
   "source": [
    "## File Handling"
   ]
  },
  {
   "cell_type": "code",
   "execution_count": 23,
   "id": "03df7fa9",
   "metadata": {},
   "outputs": [],
   "source": [
    "# Syntax:\n",
    "# fo = open(path/filename, access mode = 'r')"
   ]
  },
  {
   "cell_type": "markdown",
   "id": "9ea54fb2",
   "metadata": {},
   "source": [
    "### Access Mode\n",
    "- Read (r, r+)\n",
    "- Write (w, w+)\n",
    "- Append (a, a+)"
   ]
  },
  {
   "cell_type": "code",
   "execution_count": 46,
   "id": "966fa43c",
   "metadata": {},
   "outputs": [],
   "source": [
    "path = r'C:\\Users\\harsh\\Desktop\\some.txt'\n",
    "path1 = r'C:\\Users\\harsh\\Desktop\\new.txt'"
   ]
  },
  {
   "cell_type": "code",
   "execution_count": 25,
   "id": "e79a1f1c",
   "metadata": {},
   "outputs": [],
   "source": [
    "fo = open(path)"
   ]
  },
  {
   "cell_type": "code",
   "execution_count": 26,
   "id": "16cc9387",
   "metadata": {},
   "outputs": [
    {
     "data": {
      "text/plain": [
       "0"
      ]
     },
     "execution_count": 26,
     "metadata": {},
     "output_type": "execute_result"
    }
   ],
   "source": [
    "fo.tell()   # Tells the current file pointer position"
   ]
  },
  {
   "cell_type": "code",
   "execution_count": 27,
   "id": "ccc42462",
   "metadata": {},
   "outputs": [
    {
     "name": "stdout",
     "output_type": "stream",
     "text": [
      "hello, how are you?\n"
     ]
    }
   ],
   "source": [
    "s = fo.read()\n",
    "print(s)"
   ]
  },
  {
   "cell_type": "code",
   "execution_count": 28,
   "id": "492e6812",
   "metadata": {},
   "outputs": [
    {
     "data": {
      "text/plain": [
       "19"
      ]
     },
     "execution_count": 28,
     "metadata": {},
     "output_type": "execute_result"
    }
   ],
   "source": [
    "fo.tell()"
   ]
  },
  {
   "cell_type": "code",
   "execution_count": 29,
   "id": "04a8b9c2",
   "metadata": {},
   "outputs": [
    {
     "data": {
      "text/plain": [
       "19"
      ]
     },
     "execution_count": 29,
     "metadata": {},
     "output_type": "execute_result"
    }
   ],
   "source": [
    "len(s)"
   ]
  },
  {
   "cell_type": "code",
   "execution_count": 30,
   "id": "d7e7547b",
   "metadata": {},
   "outputs": [
    {
     "data": {
      "text/plain": [
       "0"
      ]
     },
     "execution_count": 30,
     "metadata": {},
     "output_type": "execute_result"
    }
   ],
   "source": [
    "fo.seek(0)"
   ]
  },
  {
   "cell_type": "code",
   "execution_count": 31,
   "id": "9a183b08",
   "metadata": {},
   "outputs": [
    {
     "data": {
      "text/plain": [
       "0"
      ]
     },
     "execution_count": 31,
     "metadata": {},
     "output_type": "execute_result"
    }
   ],
   "source": [
    "fo.tell()"
   ]
  },
  {
   "cell_type": "code",
   "execution_count": 32,
   "id": "42cf62d5",
   "metadata": {},
   "outputs": [
    {
     "data": {
      "text/plain": [
       "'hello'"
      ]
     },
     "execution_count": 32,
     "metadata": {},
     "output_type": "execute_result"
    }
   ],
   "source": [
    "fo.read(5)"
   ]
  },
  {
   "cell_type": "code",
   "execution_count": 33,
   "id": "1d202cf3",
   "metadata": {},
   "outputs": [
    {
     "data": {
      "text/plain": [
       "5"
      ]
     },
     "execution_count": 33,
     "metadata": {},
     "output_type": "execute_result"
    }
   ],
   "source": [
    "fo.tell()"
   ]
  },
  {
   "cell_type": "code",
   "execution_count": 34,
   "id": "bfbec81c",
   "metadata": {},
   "outputs": [
    {
     "data": {
      "text/plain": [
       "', how are you?'"
      ]
     },
     "execution_count": 34,
     "metadata": {},
     "output_type": "execute_result"
    }
   ],
   "source": [
    "fo.read()"
   ]
  },
  {
   "cell_type": "code",
   "execution_count": 35,
   "id": "6f0f61c9",
   "metadata": {},
   "outputs": [
    {
     "ename": "UnsupportedOperation",
     "evalue": "not writable",
     "output_type": "error",
     "traceback": [
      "\u001b[1;31m---------------------------------------------------------------------------\u001b[0m",
      "\u001b[1;31mUnsupportedOperation\u001b[0m                      Traceback (most recent call last)",
      "Cell \u001b[1;32mIn[35], line 1\u001b[0m\n\u001b[1;32m----> 1\u001b[0m \u001b[43mfo\u001b[49m\u001b[38;5;241;43m.\u001b[39;49m\u001b[43mwrite\u001b[49m\u001b[43m(\u001b[49m\u001b[38;5;124;43m'\u001b[39;49m\u001b[38;5;124;43mbye\u001b[39;49m\u001b[38;5;124;43m'\u001b[39;49m\u001b[43m)\u001b[49m\n",
      "\u001b[1;31mUnsupportedOperation\u001b[0m: not writable"
     ]
    }
   ],
   "source": [
    "fo.write('bye')"
   ]
  },
  {
   "cell_type": "code",
   "execution_count": 36,
   "id": "4b75248d",
   "metadata": {},
   "outputs": [
    {
     "data": {
      "text/plain": [
       "False"
      ]
     },
     "execution_count": 36,
     "metadata": {},
     "output_type": "execute_result"
    }
   ],
   "source": [
    "fo.closed"
   ]
  },
  {
   "cell_type": "code",
   "execution_count": 37,
   "id": "d694f9c9",
   "metadata": {},
   "outputs": [],
   "source": [
    "fo.close()"
   ]
  },
  {
   "cell_type": "code",
   "execution_count": 38,
   "id": "9bbc843f",
   "metadata": {},
   "outputs": [
    {
     "data": {
      "text/plain": [
       "True"
      ]
     },
     "execution_count": 38,
     "metadata": {},
     "output_type": "execute_result"
    }
   ],
   "source": [
    "fo.closed"
   ]
  },
  {
   "cell_type": "code",
   "execution_count": 41,
   "id": "085b5319",
   "metadata": {},
   "outputs": [
    {
     "data": {
      "text/plain": [
       "<_io.TextIOWrapper name='C:\\\\Users\\\\harsh\\\\Desktop\\\\some.txt' mode='r+' encoding='cp1252'>"
      ]
     },
     "execution_count": 41,
     "metadata": {},
     "output_type": "execute_result"
    }
   ],
   "source": [
    "frp = open(path, 'r+')\n",
    "frp"
   ]
  },
  {
   "cell_type": "code",
   "execution_count": 42,
   "id": "f94e5021",
   "metadata": {},
   "outputs": [
    {
     "data": {
      "text/plain": [
       "'hello, h'"
      ]
     },
     "execution_count": 42,
     "metadata": {},
     "output_type": "execute_result"
    }
   ],
   "source": [
    "frp.read(8)"
   ]
  },
  {
   "cell_type": "code",
   "execution_count": 43,
   "id": "b55f079c",
   "metadata": {},
   "outputs": [
    {
     "data": {
      "text/plain": [
       "'ow are you?'"
      ]
     },
     "execution_count": 43,
     "metadata": {},
     "output_type": "execute_result"
    }
   ],
   "source": [
    "frp.read()"
   ]
  },
  {
   "cell_type": "code",
   "execution_count": 44,
   "id": "5a9e722d",
   "metadata": {},
   "outputs": [
    {
     "data": {
      "text/plain": [
       "3"
      ]
     },
     "execution_count": 44,
     "metadata": {},
     "output_type": "execute_result"
    }
   ],
   "source": [
    "frp.write('bye')"
   ]
  },
  {
   "cell_type": "code",
   "execution_count": 45,
   "id": "e4d7dac9",
   "metadata": {},
   "outputs": [],
   "source": [
    "frp.close()"
   ]
  },
  {
   "cell_type": "code",
   "execution_count": 47,
   "id": "e25274f8",
   "metadata": {},
   "outputs": [
    {
     "data": {
      "text/plain": [
       "<_io.TextIOWrapper name='C:\\\\Users\\\\harsh\\\\Desktop\\\\new.txt' mode='w' encoding='cp1252'>"
      ]
     },
     "execution_count": 47,
     "metadata": {},
     "output_type": "execute_result"
    }
   ],
   "source": [
    "fa = open(path1, 'w')\n",
    "fa"
   ]
  },
  {
   "cell_type": "code",
   "execution_count": 50,
   "id": "98ff4109",
   "metadata": {},
   "outputs": [
    {
     "data": {
      "text/plain": [
       "False"
      ]
     },
     "execution_count": 50,
     "metadata": {},
     "output_type": "execute_result"
    }
   ],
   "source": [
    "fa.readable()"
   ]
  },
  {
   "cell_type": "code",
   "execution_count": 53,
   "id": "e9d342eb",
   "metadata": {},
   "outputs": [
    {
     "data": {
      "text/plain": [
       "True"
      ]
     },
     "execution_count": 53,
     "metadata": {},
     "output_type": "execute_result"
    }
   ],
   "source": [
    "fa.writable()"
   ]
  },
  {
   "cell_type": "code",
   "execution_count": 54,
   "id": "d1e6afdc",
   "metadata": {},
   "outputs": [
    {
     "ename": "UnsupportedOperation",
     "evalue": "not readable",
     "output_type": "error",
     "traceback": [
      "\u001b[1;31m---------------------------------------------------------------------------\u001b[0m",
      "\u001b[1;31mUnsupportedOperation\u001b[0m                      Traceback (most recent call last)",
      "Cell \u001b[1;32mIn[54], line 1\u001b[0m\n\u001b[1;32m----> 1\u001b[0m \u001b[43mfa\u001b[49m\u001b[38;5;241;43m.\u001b[39;49m\u001b[43mread\u001b[49m\u001b[43m(\u001b[49m\u001b[43m)\u001b[49m\n",
      "\u001b[1;31mUnsupportedOperation\u001b[0m: not readable"
     ]
    }
   ],
   "source": [
    "fa.read()"
   ]
  },
  {
   "cell_type": "code",
   "execution_count": 55,
   "id": "2c26963f",
   "metadata": {},
   "outputs": [
    {
     "data": {
      "text/plain": [
       "17"
      ]
     },
     "execution_count": 55,
     "metadata": {},
     "output_type": "execute_result"
    }
   ],
   "source": [
    "fa.write('Yo yo Honey Singh')"
   ]
  },
  {
   "cell_type": "code",
   "execution_count": 56,
   "id": "80889d26",
   "metadata": {},
   "outputs": [],
   "source": [
    "fa.close()"
   ]
  },
  {
   "cell_type": "code",
   "execution_count": 57,
   "id": "544831a4",
   "metadata": {},
   "outputs": [
    {
     "data": {
      "text/plain": [
       "<_io.TextIOWrapper name='C:\\\\Users\\\\harsh\\\\Desktop\\\\new.txt' mode='w+' encoding='cp1252'>"
      ]
     },
     "execution_count": 57,
     "metadata": {},
     "output_type": "execute_result"
    }
   ],
   "source": [
    "fwp = open(path1, 'w+')\n",
    "fwp"
   ]
  },
  {
   "cell_type": "code",
   "execution_count": 58,
   "id": "2edc5072",
   "metadata": {},
   "outputs": [
    {
     "data": {
      "text/plain": [
       "''"
      ]
     },
     "execution_count": 58,
     "metadata": {},
     "output_type": "execute_result"
    }
   ],
   "source": [
    "fwp.read()"
   ]
  },
  {
   "cell_type": "code",
   "execution_count": 59,
   "id": "7127f851",
   "metadata": {},
   "outputs": [
    {
     "data": {
      "text/plain": [
       "17"
      ]
     },
     "execution_count": 59,
     "metadata": {},
     "output_type": "execute_result"
    }
   ],
   "source": [
    "fwp.write('Yo yo Honey Singh')"
   ]
  },
  {
   "cell_type": "code",
   "execution_count": 60,
   "id": "d468357b",
   "metadata": {},
   "outputs": [
    {
     "data": {
      "text/plain": [
       "''"
      ]
     },
     "execution_count": 60,
     "metadata": {},
     "output_type": "execute_result"
    }
   ],
   "source": [
    "fwp.read()"
   ]
  },
  {
   "cell_type": "code",
   "execution_count": 61,
   "id": "575cca47",
   "metadata": {},
   "outputs": [
    {
     "data": {
      "text/plain": [
       "0"
      ]
     },
     "execution_count": 61,
     "metadata": {},
     "output_type": "execute_result"
    }
   ],
   "source": [
    "fwp.seek(0)"
   ]
  },
  {
   "cell_type": "code",
   "execution_count": 62,
   "id": "7c54d568",
   "metadata": {},
   "outputs": [
    {
     "data": {
      "text/plain": [
       "'Yo yo Honey Singh'"
      ]
     },
     "execution_count": 62,
     "metadata": {},
     "output_type": "execute_result"
    }
   ],
   "source": [
    "fwp.read()"
   ]
  },
  {
   "cell_type": "code",
   "execution_count": 63,
   "id": "9207a452",
   "metadata": {},
   "outputs": [],
   "source": [
    "fwp.close()"
   ]
  },
  {
   "cell_type": "code",
   "execution_count": 64,
   "id": "7df398f5",
   "metadata": {},
   "outputs": [
    {
     "data": {
      "text/plain": [
       "<_io.TextIOWrapper name='C:\\\\Users\\\\harsh\\\\Desktop\\\\some.txt' mode='r' encoding='cp1252'>"
      ]
     },
     "execution_count": 64,
     "metadata": {},
     "output_type": "execute_result"
    }
   ],
   "source": [
    "fr = open(path)\n",
    "fr"
   ]
  },
  {
   "cell_type": "code",
   "execution_count": 65,
   "id": "18d11233",
   "metadata": {},
   "outputs": [
    {
     "data": {
      "text/plain": [
       "'hello, how are you?\\nbye'"
      ]
     },
     "execution_count": 65,
     "metadata": {},
     "output_type": "execute_result"
    }
   ],
   "source": [
    "fr.read()"
   ]
  },
  {
   "cell_type": "code",
   "execution_count": 66,
   "id": "9d072657",
   "metadata": {},
   "outputs": [
    {
     "data": {
      "text/plain": [
       "0"
      ]
     },
     "execution_count": 66,
     "metadata": {},
     "output_type": "execute_result"
    }
   ],
   "source": [
    "fr.seek(0)"
   ]
  },
  {
   "cell_type": "code",
   "execution_count": 67,
   "id": "5b919f05",
   "metadata": {},
   "outputs": [
    {
     "data": {
      "text/plain": [
       "['hello, how are you?\\n', 'bye']"
      ]
     },
     "execution_count": 67,
     "metadata": {},
     "output_type": "execute_result"
    }
   ],
   "source": [
    "fr.readlines()"
   ]
  },
  {
   "cell_type": "code",
   "execution_count": 71,
   "id": "789fb48f",
   "metadata": {},
   "outputs": [
    {
     "data": {
      "text/plain": [
       "0"
      ]
     },
     "execution_count": 71,
     "metadata": {},
     "output_type": "execute_result"
    }
   ],
   "source": [
    "fr.seek(0)"
   ]
  },
  {
   "cell_type": "code",
   "execution_count": 72,
   "id": "1e717544",
   "metadata": {},
   "outputs": [
    {
     "data": {
      "text/plain": [
       "['hello, how are you?\\n']"
      ]
     },
     "execution_count": 72,
     "metadata": {},
     "output_type": "execute_result"
    }
   ],
   "source": [
    "fr.readlines(1)"
   ]
  },
  {
   "cell_type": "code",
   "execution_count": 73,
   "id": "0769914b",
   "metadata": {},
   "outputs": [
    {
     "data": {
      "text/plain": [
       "['bye']"
      ]
     },
     "execution_count": 73,
     "metadata": {},
     "output_type": "execute_result"
    }
   ],
   "source": [
    "fr.readlines(2)"
   ]
  },
  {
   "cell_type": "code",
   "execution_count": 74,
   "id": "872282f4",
   "metadata": {},
   "outputs": [],
   "source": [
    "fr.close()"
   ]
  },
  {
   "cell_type": "code",
   "execution_count": 75,
   "id": "2146ba3e",
   "metadata": {},
   "outputs": [
    {
     "data": {
      "text/plain": [
       "<_io.TextIOWrapper name='C:\\\\Users\\\\harsh\\\\Desktop\\\\some.txt' mode='a' encoding='cp1252'>"
      ]
     },
     "execution_count": 75,
     "metadata": {},
     "output_type": "execute_result"
    }
   ],
   "source": [
    "fa = open(path, 'a')\n",
    "fa"
   ]
  },
  {
   "cell_type": "code",
   "execution_count": 76,
   "id": "f6da96fd",
   "metadata": {},
   "outputs": [
    {
     "ename": "UnsupportedOperation",
     "evalue": "not readable",
     "output_type": "error",
     "traceback": [
      "\u001b[1;31m---------------------------------------------------------------------------\u001b[0m",
      "\u001b[1;31mUnsupportedOperation\u001b[0m                      Traceback (most recent call last)",
      "Cell \u001b[1;32mIn[76], line 1\u001b[0m\n\u001b[1;32m----> 1\u001b[0m \u001b[43mfa\u001b[49m\u001b[38;5;241;43m.\u001b[39;49m\u001b[43mread\u001b[49m\u001b[43m(\u001b[49m\u001b[43m)\u001b[49m\n",
      "\u001b[1;31mUnsupportedOperation\u001b[0m: not readable"
     ]
    }
   ],
   "source": [
    "fa.read()"
   ]
  },
  {
   "cell_type": "code",
   "execution_count": 77,
   "id": "dbfcad49",
   "metadata": {},
   "outputs": [
    {
     "data": {
      "text/plain": [
       "24"
      ]
     },
     "execution_count": 77,
     "metadata": {},
     "output_type": "execute_result"
    }
   ],
   "source": [
    "fa.tell()"
   ]
  },
  {
   "cell_type": "code",
   "execution_count": 78,
   "id": "216eee1f",
   "metadata": {},
   "outputs": [
    {
     "data": {
      "text/plain": [
       "0"
      ]
     },
     "execution_count": 78,
     "metadata": {},
     "output_type": "execute_result"
    }
   ],
   "source": [
    "fa.seek(0)"
   ]
  },
  {
   "cell_type": "code",
   "execution_count": 79,
   "id": "d6dc0504",
   "metadata": {},
   "outputs": [
    {
     "data": {
      "text/plain": [
       "5"
      ]
     },
     "execution_count": 79,
     "metadata": {},
     "output_type": "execute_result"
    }
   ],
   "source": [
    "fa.write('Ha Ha')"
   ]
  },
  {
   "cell_type": "code",
   "execution_count": 80,
   "id": "6f9df071",
   "metadata": {},
   "outputs": [],
   "source": [
    "fa.close()"
   ]
  },
  {
   "cell_type": "code",
   "execution_count": 81,
   "id": "4a53b54e",
   "metadata": {},
   "outputs": [
    {
     "data": {
      "text/plain": [
       "<_io.TextIOWrapper name='C:\\\\Users\\\\harsh\\\\Desktop\\\\some.txt' mode='a+' encoding='cp1252'>"
      ]
     },
     "execution_count": 81,
     "metadata": {},
     "output_type": "execute_result"
    }
   ],
   "source": [
    "fap = open(path, 'a+')\n",
    "fap"
   ]
  },
  {
   "cell_type": "code",
   "execution_count": 82,
   "id": "d6d7d88c",
   "metadata": {},
   "outputs": [
    {
     "data": {
      "text/plain": [
       "''"
      ]
     },
     "execution_count": 82,
     "metadata": {},
     "output_type": "execute_result"
    }
   ],
   "source": [
    "fap.read()"
   ]
  },
  {
   "cell_type": "code",
   "execution_count": 83,
   "id": "b293d816",
   "metadata": {},
   "outputs": [
    {
     "data": {
      "text/plain": [
       "0"
      ]
     },
     "execution_count": 83,
     "metadata": {},
     "output_type": "execute_result"
    }
   ],
   "source": [
    "fap.seek(0)"
   ]
  },
  {
   "cell_type": "code",
   "execution_count": 84,
   "id": "9c9bb258",
   "metadata": {},
   "outputs": [
    {
     "data": {
      "text/plain": [
       "'hello, how are you?\\nbyeHa Ha'"
      ]
     },
     "execution_count": 84,
     "metadata": {},
     "output_type": "execute_result"
    }
   ],
   "source": [
    "fap.read()"
   ]
  },
  {
   "cell_type": "code",
   "execution_count": 85,
   "id": "422fe929",
   "metadata": {},
   "outputs": [
    {
     "data": {
      "text/plain": [
       "10"
      ]
     },
     "execution_count": 85,
     "metadata": {},
     "output_type": "execute_result"
    }
   ],
   "source": [
    "fap.write(' Blah Blah!')"
   ]
  },
  {
   "cell_type": "code",
   "execution_count": 86,
   "id": "6390b8e9",
   "metadata": {},
   "outputs": [],
   "source": [
    "fap.close()"
   ]
  },
  {
   "cell_type": "code",
   "execution_count": 87,
   "id": "65ee6825",
   "metadata": {},
   "outputs": [
    {
     "data": {
      "text/plain": [
       "0"
      ]
     },
     "execution_count": 87,
     "metadata": {},
     "output_type": "execute_result"
    }
   ],
   "source": [
    "fap = open(path, 'a+')\n",
    "fap.seek(0)"
   ]
  },
  {
   "cell_type": "code",
   "execution_count": 88,
   "id": "5951b1f8",
   "metadata": {},
   "outputs": [
    {
     "data": {
      "text/plain": [
       "['username:password\\n', 'admin:pass']"
      ]
     },
     "execution_count": 88,
     "metadata": {},
     "output_type": "execute_result"
    }
   ],
   "source": [
    "fap.readlines()"
   ]
  },
  {
   "cell_type": "code",
   "execution_count": 89,
   "id": "599dd8eb",
   "metadata": {},
   "outputs": [],
   "source": [
    "l = [['username', 'password'],\n",
    "    ['admin', 'pass']]\n",
    "dl = dict(l)"
   ]
  },
  {
   "cell_type": "code",
   "execution_count": 90,
   "id": "4d277749",
   "metadata": {},
   "outputs": [
    {
     "data": {
      "text/plain": [
       "{'username': 'password', 'admin': 'pass'}"
      ]
     },
     "execution_count": 90,
     "metadata": {},
     "output_type": "execute_result"
    }
   ],
   "source": [
    "dl"
   ]
  },
  {
   "cell_type": "code",
   "execution_count": null,
   "id": "5cf2c501",
   "metadata": {},
   "outputs": [],
   "source": []
  }
 ],
 "metadata": {
  "kernelspec": {
   "display_name": "Python 3 (ipykernel)",
   "language": "python",
   "name": "python3"
  },
  "language_info": {
   "codemirror_mode": {
    "name": "ipython",
    "version": 3
   },
   "file_extension": ".py",
   "mimetype": "text/x-python",
   "name": "python",
   "nbconvert_exporter": "python",
   "pygments_lexer": "ipython3",
   "version": "3.11.2"
  }
 },
 "nbformat": 4,
 "nbformat_minor": 5
}
