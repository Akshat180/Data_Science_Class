{
 "cells": [
  {
   "cell_type": "markdown",
   "id": "342aaeec",
   "metadata": {},
   "source": [
    "## Defining Linkedlist in python"
   ]
  },
  {
   "cell_type": "code",
   "execution_count": 1,
   "id": "2249e845",
   "metadata": {},
   "outputs": [],
   "source": [
    "class node:\n",
    "    def __init__(self,data):\n",
    "        self.data = data\n",
    "        self.next = None\n",
    "        \n",
    "class linkedlist:\n",
    "    def __init__(self):\n",
    "        self.head = None\n",
    "        "
   ]
  },
  {
   "cell_type": "code",
   "execution_count": 3,
   "id": "1d84163f",
   "metadata": {},
   "outputs": [],
   "source": [
    "l = linkedlist()\n",
    "l.head = node(1)\n",
    "second = node(2)\n",
    "third = node(3)\n",
    "l.head.next = second\n",
    "second.next = third"
   ]
  },
  {
   "cell_type": "markdown",
   "id": "fe44be61",
   "metadata": {},
   "source": [
    "## Linkedlist Traversal"
   ]
  },
  {
   "cell_type": "code",
   "execution_count": 10,
   "id": "c1782289",
   "metadata": {},
   "outputs": [],
   "source": [
    "class node:\n",
    "    def __init__(self,data):\n",
    "        self.data = data\n",
    "        self.next = None\n",
    "        \n",
    "class linkedlist:\n",
    "    def __init__(self):\n",
    "        self.head = None\n",
    "        \n",
    "    def printlist(self):\n",
    "        temp = self.head\n",
    "        while(temp):\n",
    "            print(temp.data)\n",
    "            temp = temp.next"
   ]
  },
  {
   "cell_type": "code",
   "execution_count": 11,
   "id": "c6a26363",
   "metadata": {},
   "outputs": [],
   "source": [
    "l = linkedlist()\n",
    "l.head = node(1)\n",
    "second = node(2)\n",
    "third = node(3)\n",
    "l.head.next = second\n",
    "second.next = third"
   ]
  },
  {
   "cell_type": "code",
   "execution_count": 12,
   "id": "a8aa2638",
   "metadata": {},
   "outputs": [
    {
     "name": "stdout",
     "output_type": "stream",
     "text": [
      "1\n",
      "2\n",
      "3\n"
     ]
    }
   ],
   "source": [
    "l.printlist()"
   ]
  },
  {
   "cell_type": "code",
   "execution_count": null,
   "id": "1863fe94",
   "metadata": {},
   "outputs": [],
   "source": []
  }
 ],
 "metadata": {
  "kernelspec": {
   "display_name": "Python 3 (ipykernel)",
   "language": "python",
   "name": "python3"
  },
  "language_info": {
   "codemirror_mode": {
    "name": "ipython",
    "version": 3
   },
   "file_extension": ".py",
   "mimetype": "text/x-python",
   "name": "python",
   "nbconvert_exporter": "python",
   "pygments_lexer": "ipython3",
   "version": "3.11.2"
  }
 },
 "nbformat": 4,
 "nbformat_minor": 5
}
