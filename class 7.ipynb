{
 "cells": [
  {
   "cell_type": "code",
   "execution_count": 1,
   "id": "6d700f47",
   "metadata": {},
   "outputs": [
    {
     "data": {
      "text/plain": [
       "'m=int(input()\\nvalue error)'"
      ]
     },
     "execution_count": 1,
     "metadata": {},
     "output_type": "execute_result"
    }
   ],
   "source": [
    "'''x=12\n",
    "p(y)\n",
    "name error\n",
    "'''\n",
    "''' x=12\n",
    " p(len(x))\n",
    " type error'''\n",
    "'''m=int(input()\n",
    "value error)'''"
   ]
  },
  {
   "cell_type": "code",
   "execution_count": 2,
   "id": "2ea2db0c",
   "metadata": {},
   "outputs": [
    {
     "name": "stdout",
     "output_type": "stream",
     "text": [
      "k\n",
      "invalid input\n",
      "thank you\n"
     ]
    }
   ],
   "source": [
    "try:\n",
    "    m=int(input())\n",
    "except:\n",
    "    print('invalid input')\n",
    "else:\n",
    "    if m>40:print('pass')\n",
    "    else   :print('fail') \n",
    "finally:\n",
    "    print('thank you')\n",
    "\n",
    "    "
   ]
  },
  {
   "cell_type": "code",
   "execution_count": 6,
   "id": "78ca8d90",
   "metadata": {},
   "outputs": [
    {
     "name": "stdout",
     "output_type": "stream",
     "text": [
      "1\n",
      "none\n"
     ]
    }
   ],
   "source": [
    "try:\n",
    "    m = int(input(''))\n",
    "    if m==1:print(len(m))\n",
    "    elif m == 2 :import yoyo \n",
    "    elif m==3: raise NameError\n",
    "\n",
    "except (NameError,ImportError):\n",
    "    print('error')\n",
    "except:\n",
    "    print('none')"
   ]
  },
  {
   "cell_type": "code",
   "execution_count": 1,
   "id": "aaa81af3",
   "metadata": {},
   "outputs": [],
   "source": [
    "# threadin , hyperthreading google it"
   ]
  },
  {
   "cell_type": "code",
   "execution_count": null,
   "id": "5069db7d",
   "metadata": {},
   "outputs": [],
   "source": []
  }
 ],
 "metadata": {
  "kernelspec": {
   "display_name": "Python 3 (ipykernel)",
   "language": "python",
   "name": "python3"
  },
  "language_info": {
   "codemirror_mode": {
    "name": "ipython",
    "version": 3
   },
   "file_extension": ".py",
   "mimetype": "text/x-python",
   "name": "python",
   "nbconvert_exporter": "python",
   "pygments_lexer": "ipython3",
   "version": "3.11.2"
  }
 },
 "nbformat": 4,
 "nbformat_minor": 5
}
