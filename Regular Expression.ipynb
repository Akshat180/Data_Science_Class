{
 "cells": [
  {
   "cell_type": "markdown",
   "id": "bb5fc35e",
   "metadata": {},
   "source": [
    "## Regular Expression\n",
    "- **A regular expression is a special sequence of characters that helps you match or find other strings or sets of strings, using a specialized syntax held in a pattern.**\n",
    "- **To understand the RE analogy, Meta Characters are useful, important and will be used in functions of module re.**\n",
    "- **There are a total of 14 metacharacters.**"
   ]
  },
  {
   "cell_type": "code",
   "execution_count": 1,
   "id": "5aae1453",
   "metadata": {},
   "outputs": [],
   "source": [
    "import re"
   ]
  },
  {
   "cell_type": "code",
   "execution_count": 2,
   "id": "749fc302",
   "metadata": {},
   "outputs": [],
   "source": [
    "sen = 'My name is khan and I am not a terrorist'"
   ]
  },
  {
   "cell_type": "code",
   "execution_count": 3,
   "id": "ff31cad2",
   "metadata": {},
   "outputs": [
    {
     "data": {
      "text/plain": [
       "['8@gmail.com', 't@gmail.com']"
      ]
     },
     "execution_count": 3,
     "metadata": {},
     "output_type": "execute_result"
    }
   ],
   "source": [
    "sene = 'My name is Akshat and my email id is kunwarakshat18@gmail.com and akshat@gmail.com'\n",
    "regex = '[A-Za-z0-9]@gmail.com'\n",
    "re.findall(regex,sene)"
   ]
  },
  {
   "cell_type": "code",
   "execution_count": 4,
   "id": "f22b11d9",
   "metadata": {},
   "outputs": [
    {
     "data": {
      "text/plain": [
       "['at@gmail.com']"
      ]
     },
     "execution_count": 4,
     "metadata": {},
     "output_type": "execute_result"
    }
   ],
   "source": [
    "sene = 'My name is Akshat and my email id is kunwarakshat18@gmail.com and akshat@gmail.com'\n",
    "regex = '[a-z][A-Za-z0-9]@gmail.com'\n",
    "re.findall(regex,sene)"
   ]
  },
  {
   "cell_type": "code",
   "execution_count": 5,
   "id": "417091e8",
   "metadata": {},
   "outputs": [
    {
     "data": {
      "text/plain": [
       "['a8@gmail.com', 'at@gmail.com']"
      ]
     },
     "execution_count": 5,
     "metadata": {},
     "output_type": "execute_result"
    }
   ],
   "source": [
    "senen = 'My name is Akshat and my email id is kunwarakshat1a8@gmail.com and akshat@gmail.com'\n",
    "regex = '[a-z][A-Za-z0-9]@gmail.com'\n",
    "re.findall(regex,senen)"
   ]
  },
  {
   "cell_type": "markdown",
   "id": "0a1837b8",
   "metadata": {},
   "source": [
    "# Quantifires = this tell us how much quantity is there in the pattern\n",
    "- {2} it takes 2 character\n",
    "- {2,} = 2 to infinity"
   ]
  },
  {
   "cell_type": "code",
   "execution_count": 6,
   "id": "6917cc19",
   "metadata": {},
   "outputs": [
    {
     "data": {
      "text/plain": [
       "['18@gmail.com', 'at@gmail.com']"
      ]
     },
     "execution_count": 6,
     "metadata": {},
     "output_type": "execute_result"
    }
   ],
   "source": [
    "senen2 = 'My name is Akshat and my email id is kunwarakshat18@gmail.com and akshat@gmail.com'\n",
    "regex = '[A-Za-z0-9]{2}@gmail.com'\n",
    "re.findall(regex,senen2)"
   ]
  },
  {
   "cell_type": "code",
   "execution_count": 7,
   "id": "4039ab96",
   "metadata": {},
   "outputs": [
    {
     "data": {
      "text/plain": [
       "['kunwarakshat18@gmail.com', 'akshat@gmail.com']"
      ]
     },
     "execution_count": 7,
     "metadata": {},
     "output_type": "execute_result"
    }
   ],
   "source": [
    "senen2 = 'My name is Akshat and my email id is kunwarakshat18@gmail.com and akshat@gmail.com'\n",
    "regex = '[A-Za-z0-9]{2,}@gmail.com'\n",
    "re.findall(regex,senen2)"
   ]
  },
  {
   "cell_type": "code",
   "execution_count": 8,
   "id": "f9ec9fbc",
   "metadata": {},
   "outputs": [
    {
     "data": {
      "text/plain": [
       "['My name is Akshat and my email id is kunwarakshat1 8@gmail.com',\n",
       " ' and akshat@gmail.com']"
      ]
     },
     "execution_count": 8,
     "metadata": {},
     "output_type": "execute_result"
    }
   ],
   "source": [
    "senen3 = 'My name is Akshat and my email id is kunwarakshat1 8@gmail.com and akshat@gmail.com'\n",
    "regex = '[A-Za-z0-9 ]{2,}@gmail.com' #  using space in it [A-Za-z0-9 yeh place mei space hai]\n",
    "re.findall(regex,senen3)"
   ]
  },
  {
   "cell_type": "code",
   "execution_count": 9,
   "id": "a335601d",
   "metadata": {},
   "outputs": [
    {
     "data": {
      "text/plain": [
       "['rakshatgjdhdfhgzstgthjgdsutyh8@gmail.com', 'akshat@gmail.com']"
      ]
     },
     "execution_count": 9,
     "metadata": {},
     "output_type": "execute_result"
    }
   ],
   "source": [
    "senen4 = 'My name is Akshat and my email id is kunwarakshatgjdhdfhgzstgthjgdsutyh8@gmail.com and akshat@gmail.com'\n",
    "regex = '[A-Za-z0-9]{2,30}@gmail.com'      # min 2 se max 30 tk chaiye\n",
    "re.findall(regex,senen4)  "
   ]
  },
  {
   "cell_type": "code",
   "execution_count": 10,
   "id": "47cf6261",
   "metadata": {},
   "outputs": [
    {
     "data": {
      "text/plain": [
       "[' akshat@gmail.com']"
      ]
     },
     "execution_count": 10,
     "metadata": {},
     "output_type": "execute_result"
    }
   ],
   "source": [
    "senen5 = 'My name is Akshat and my email id is kunwarakshatgjdhdfhgzstgthjgdsutyh8@gmail.com and akshat@gmail.com'\n",
    "regex = ' [A-Za-z0-9]{2,30}@gmail.com'      # space honi chaiye mail se phele or mail ki range ho skti 2 se 30\n",
    "re.findall(regex,senen5)                    # 'yeh place pr space hai[A-Za-z0-9]{2,30}@gmail.com'"
   ]
  },
  {
   "cell_type": "code",
   "execution_count": 11,
   "id": "0c14b2f4",
   "metadata": {},
   "outputs": [
    {
     "data": {
      "text/plain": [
       "['kunwarakshat18@gmail.com']"
      ]
     },
     "execution_count": 11,
     "metadata": {},
     "output_type": "execute_result"
    }
   ],
   "source": [
    "senen6 = 'My name is Akshat and my email id is kunwarakshat18@gmail.com and aksh@gmail.com'\n",
    "regex = '[A-Za-z0-9]{6,30}@gmail.com'      # min 6 character honi chaiye\n",
    "re.findall(regex,senen6) "
   ]
  },
  {
   "cell_type": "code",
   "execution_count": 12,
   "id": "47218c21",
   "metadata": {},
   "outputs": [
    {
     "data": {
      "text/plain": [
       "['27/12/1996']"
      ]
     },
     "execution_count": 12,
     "metadata": {},
     "output_type": "execute_result"
    }
   ],
   "source": [
    "#  question\n",
    "s = 'My dob is 27/12/1996'\n",
    "r = '[0-3][0-9]/[01][0-9]/[0-2][0-9]{3}'\n",
    "re.findall(r,s)"
   ]
  },
  {
   "cell_type": "code",
   "execution_count": 13,
   "id": "ac2ded5f",
   "metadata": {},
   "outputs": [
    {
     "data": {
      "text/plain": [
       "['8319082508']"
      ]
     },
     "execution_count": 13,
     "metadata": {},
     "output_type": "execute_result"
    }
   ],
   "source": [
    "n = 'My number is +91-8319082508'\n",
    "r = '[0-9]{10}'\n",
    "re.findall(r,n)"
   ]
  },
  {
   "cell_type": "markdown",
   "id": "4fcdb4eb",
   "metadata": {},
   "source": [
    "### special sequence \n",
    "1. \\d: Matches any **decimal digit**. Equivalent to `[0-9]`.\n",
    "2. \\D: Matches any **non-digit character**. Equivalent to `[^0-9]`.\n",
    "3. \\w: Matches any **alphanumeric character (letter or digit)**. Equivalent to `[a-zA-Z0-9_J]`\n",
    "4. \\W: Matches any **non-alphanumeric character**. Equivalent to `[^a-zA-Z0-9_]`\n",
    "5. \\s: Matches any **whitespace character (space, tab, newline)**. Equivalent to `[\\t\\n\\r\\f\\v]`\n",
    "6. \\S: Matches any **non-whitespace character**. Equivalent to `[^ \\t\\n\\r\\f\\v]`\n",
    "7. \\b: Matches a word boundary. It matches an empty string at the beginning or end of a word.\n",
    "8. \\B: Matches a position that is not a word boundary.\n",
    "9. \\A: Matches the beginning of a string. It only matches at the start of the string.\n",
    "10. \\Z: Matches the end of a string. It only matches at the end of the string."
   ]
  },
  {
   "cell_type": "code",
   "execution_count": 14,
   "id": "f401e678",
   "metadata": {},
   "outputs": [
    {
     "data": {
      "text/plain": [
       "['8319082508']"
      ]
     },
     "execution_count": 14,
     "metadata": {},
     "output_type": "execute_result"
    }
   ],
   "source": [
    "n = 'My number is +91-8319082508'\n",
    "r = '[\\d]{10}'\n",
    "re.findall(r,n)"
   ]
  },
  {
   "cell_type": "code",
   "execution_count": 15,
   "id": "45a9bc49",
   "metadata": {},
   "outputs": [],
   "source": [
    "# * = {,}  0 or infinity 0 hoga toh bhi print hoga 0 se jada hua toh bhi print hoga jitna hai"
   ]
  },
  {
   "cell_type": "code",
   "execution_count": 16,
   "id": "39a6cc44",
   "metadata": {},
   "outputs": [
    {
     "data": {
      "text/plain": [
       "['',\n",
       " '',\n",
       " '',\n",
       " '',\n",
       " '',\n",
       " '',\n",
       " '',\n",
       " '',\n",
       " '',\n",
       " '',\n",
       " '',\n",
       " '',\n",
       " '',\n",
       " '',\n",
       " '91',\n",
       " '',\n",
       " '8319082508',\n",
       " '']"
      ]
     },
     "execution_count": 16,
     "metadata": {},
     "output_type": "execute_result"
    }
   ],
   "source": [
    "n1 = 'My number is +91-8319082508'\n",
    "r1 = '[\\d]*' \n",
    "re.findall(r1,n1)"
   ]
  },
  {
   "cell_type": "code",
   "execution_count": 17,
   "id": "9f99a167",
   "metadata": {},
   "outputs": [],
   "source": [
    "# ? = 0 or 1  0 or infinity 0 hoga toh bhi print hoga or 1 hua toh print 1 bhi hoga"
   ]
  },
  {
   "cell_type": "code",
   "execution_count": 18,
   "id": "12cdc2c0",
   "metadata": {},
   "outputs": [
    {
     "data": {
      "text/plain": [
       "['',\n",
       " '',\n",
       " '',\n",
       " '',\n",
       " '',\n",
       " '',\n",
       " '',\n",
       " '',\n",
       " '',\n",
       " '',\n",
       " '',\n",
       " '',\n",
       " '',\n",
       " '',\n",
       " '9',\n",
       " '1',\n",
       " '',\n",
       " '8',\n",
       " '3',\n",
       " '1',\n",
       " '9',\n",
       " '0',\n",
       " '8',\n",
       " '2',\n",
       " '5',\n",
       " '0',\n",
       " '8',\n",
       " '']"
      ]
     },
     "execution_count": 18,
     "metadata": {},
     "output_type": "execute_result"
    }
   ],
   "source": [
    "n2 = 'My number is +91-8319082508'\n",
    "r2 = '[\\d]?' \n",
    "re.findall(r2,n2)"
   ]
  },
  {
   "cell_type": "code",
   "execution_count": 19,
   "id": "740bb917",
   "metadata": {},
   "outputs": [],
   "source": [
    "# + = 1 and more "
   ]
  },
  {
   "cell_type": "code",
   "execution_count": 20,
   "id": "5cc9ba60",
   "metadata": {},
   "outputs": [
    {
     "data": {
      "text/plain": [
       "['91', '8319082508']"
      ]
     },
     "execution_count": 20,
     "metadata": {},
     "output_type": "execute_result"
    }
   ],
   "source": [
    "n12 = 'My number is +91-8319082508'\n",
    "r12 = '[\\d]+' \n",
    "re.findall(r12,n12)"
   ]
  },
  {
   "cell_type": "code",
   "execution_count": 21,
   "id": "2a4437ef",
   "metadata": {},
   "outputs": [
    {
     "data": {
      "text/plain": [
       "['Mr. someone', 'Mr. X', 'Mr. Someone']"
      ]
     },
     "execution_count": 21,
     "metadata": {},
     "output_type": "execute_result"
    }
   ],
   "source": [
    "s = 'Mr. someone and Mr. X and Mr. Someone'\n",
    "x = 'Mr[.]? [A-Z]*[a-z]*'\n",
    "re.findall(x,s)"
   ]
  },
  {
   "cell_type": "code",
   "execution_count": 22,
   "id": "14a8fb22",
   "metadata": {},
   "outputs": [
    {
     "data": {
      "text/plain": [
       "['Mr. X', 'Mr. Someone']"
      ]
     },
     "execution_count": 22,
     "metadata": {},
     "output_type": "execute_result"
    }
   ],
   "source": [
    "s = 'Mr. someone and Mr. X and Mr. Someone'\n",
    "x = 'Mr[.]? [A-Z]+[a-z]*'\n",
    "re.findall(x,s)"
   ]
  },
  {
   "cell_type": "code",
   "execution_count": 23,
   "id": "84ed0b8f",
   "metadata": {},
   "outputs": [
    {
     "data": {
      "text/plain": [
       "['Mr. someone', 'Mr. X and', 'Mr. Someone', 'Mr.some']"
      ]
     },
     "execution_count": 23,
     "metadata": {},
     "output_type": "execute_result"
    }
   ],
   "source": [
    "s = 'Mr. someone and Mr. X and Mr. Someone and Mr.some'\n",
    "x = 'Mr[.]?[]? [A-Z]*[a-z]*'\n",
    "re.findall(x,s)"
   ]
  },
  {
   "cell_type": "code",
   "execution_count": 24,
   "id": "06428a58",
   "metadata": {},
   "outputs": [],
   "source": [
    "# \\+ = by this plus is not as specail sequence \n",
    "# \\ this make specail sequence into raw or raw into special sequence ex([\\d])"
   ]
  },
  {
   "cell_type": "code",
   "execution_count": 25,
   "id": "24acee0d",
   "metadata": {},
   "outputs": [
    {
     "data": {
      "text/plain": [
       "['+91-8319082508']"
      ]
     },
     "execution_count": 25,
     "metadata": {},
     "output_type": "execute_result"
    }
   ],
   "source": [
    "n12 = 'My number is +91-8319082508'\n",
    "r12 = '[\\+91\\-[\\d]+' \n",
    "re.findall(r12,n12)"
   ]
  },
  {
   "cell_type": "code",
   "execution_count": 26,
   "id": "2cbdab19",
   "metadata": {},
   "outputs": [],
   "source": [
    "# . = h.y \n",
    "# output = hey\n",
    "# . = any character (except newline character \\n )"
   ]
  },
  {
   "cell_type": "code",
   "execution_count": 37,
   "id": "f13153fe",
   "metadata": {},
   "outputs": [
    {
     "data": {
      "text/plain": [
       "['kunwarakshat18@gmailkcom', 'akshat@gmail.com']"
      ]
     },
     "execution_count": 37,
     "metadata": {},
     "output_type": "execute_result"
    }
   ],
   "source": [
    "senen5 = 'My name is Akshat and my email id is kunwarakshat18@gmailkcom and akshat@gmail.com'\n",
    "regex = '[A-Za-z0-9]{2,30}@gmail.com'     \n",
    "re.findall(regex,senen5)   "
   ]
  },
  {
   "cell_type": "code",
   "execution_count": 42,
   "id": "267005da",
   "metadata": {},
   "outputs": [
    {
     "data": {
      "text/plain": [
       "['Dear Akshat']"
      ]
     },
     "execution_count": 42,
     "metadata": {},
     "output_type": "execute_result"
    }
   ],
   "source": [
    "mail = '''Dear Akshat\n",
    "How are You?\n",
    "regards\n",
    "avi'''\n",
    "r = '^Dear Akshat'\n",
    "re.findall(r,mail)"
   ]
  },
  {
   "cell_type": "code",
   "execution_count": null,
   "id": "f81f3698",
   "metadata": {},
   "outputs": [],
   "source": [
    "# ^ = for starting of string "
   ]
  },
  {
   "cell_type": "code",
   "execution_count": 43,
   "id": "4e11a311",
   "metadata": {},
   "outputs": [
    {
     "data": {
      "text/plain": [
       "[]"
      ]
     },
     "execution_count": 43,
     "metadata": {},
     "output_type": "execute_result"
    }
   ],
   "source": [
    "mail = '''\n",
    "How are You?\n",
    "Dear Akshat\n",
    "regards\n",
    "avi'''\n",
    "r = '^Dear Akshat'\n",
    "re.findall(r,mail)"
   ]
  },
  {
   "cell_type": "code",
   "execution_count": 47,
   "id": "02506845",
   "metadata": {},
   "outputs": [
    {
     "data": {
      "text/plain": [
       "['Dear Aksha']"
      ]
     },
     "execution_count": 47,
     "metadata": {},
     "output_type": "execute_result"
    }
   ],
   "source": [
    "mail = '''Dear Akshat\n",
    "How are You?\n",
    "regards\n",
    "avi'''\n",
    "r = '^Dear Aksha'\n",
    "re.findall(r,mail)"
   ]
  },
  {
   "cell_type": "code",
   "execution_count": 48,
   "id": "acbdedb3",
   "metadata": {},
   "outputs": [
    {
     "data": {
      "text/plain": [
       "[]"
      ]
     },
     "execution_count": 48,
     "metadata": {},
     "output_type": "execute_result"
    }
   ],
   "source": [
    "mail = '''Dear Aksha\n",
    "How are You?\n",
    "regards\n",
    "avi'''\n",
    "r = '^Dear Akshat'\n",
    "re.findall(r,mail)"
   ]
  },
  {
   "cell_type": "code",
   "execution_count": 45,
   "id": "40a620fb",
   "metadata": {},
   "outputs": [
    {
     "data": {
      "text/plain": [
       "['avi']"
      ]
     },
     "execution_count": 45,
     "metadata": {},
     "output_type": "execute_result"
    }
   ],
   "source": [
    "# $ = for ending of string \n",
    "r1 = 'avi$'\n",
    "re.findall(r1,mail)"
   ]
  },
  {
   "cell_type": "code",
   "execution_count": 54,
   "id": "217a5155",
   "metadata": {},
   "outputs": [
    {
     "data": {
      "text/plain": [
       "1"
      ]
     },
     "execution_count": 54,
     "metadata": {},
     "output_type": "execute_result"
    }
   ],
   "source": [
    "mail1 = '''$.dear akshat\n",
    "how are you'''\n",
    "regex = '^rs|\\$'\n",
    "len(re.findall(regex,mail1))\n",
    "# print(mail1[:2]==\"rs\")"
   ]
  },
  {
   "cell_type": "code",
   "execution_count": 56,
   "id": "6442c226",
   "metadata": {},
   "outputs": [
    {
     "data": {
      "text/plain": [
       "1"
      ]
     },
     "execution_count": 56,
     "metadata": {},
     "output_type": "execute_result"
    }
   ],
   "source": [
    "mail1 = '''Rs 999 r 55dear akshat\n",
    "how are you'''\n",
    "regex = '^(Rs|[\\d])'\n",
    "len(re.findall(regex,mail1))\n",
    "# print(mail1[:2]==\"rs\")"
   ]
  },
  {
   "cell_type": "code",
   "execution_count": null,
   "id": "dee45876",
   "metadata": {},
   "outputs": [],
   "source": []
  }
 ],
 "metadata": {
  "kernelspec": {
   "display_name": "Python 3 (ipykernel)",
   "language": "python",
   "name": "python3"
  },
  "language_info": {
   "codemirror_mode": {
    "name": "ipython",
    "version": 3
   },
   "file_extension": ".py",
   "mimetype": "text/x-python",
   "name": "python",
   "nbconvert_exporter": "python",
   "pygments_lexer": "ipython3",
   "version": "3.11.2"
  }
 },
 "nbformat": 4,
 "nbformat_minor": 5
}
