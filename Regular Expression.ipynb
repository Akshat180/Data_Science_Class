{
 "cells": [
  {
   "cell_type": "markdown",
   "id": "bb5fc35e",
   "metadata": {},
   "source": [
    "## Regular Expression\n",
    "- **A regular expression is a special sequence of characters that helps you match or find other strings or sets of strings, using a specialized syntax held in a pattern.**\n",
    "- **To understand the RE analogy, Meta Characters are useful, important and will be used in functions of module re.**\n",
    "- **There are a total of 14 metacharacters.**"
   ]
  },
  {
   "cell_type": "code",
   "execution_count": 1,
   "id": "5aae1453",
   "metadata": {},
   "outputs": [],
   "source": [
    "import re"
   ]
  },
  {
   "cell_type": "code",
   "execution_count": 2,
   "id": "749fc302",
   "metadata": {},
   "outputs": [],
   "source": [
    "sen = 'My name is khan and I am not a terrorist'"
   ]
  },
  {
   "cell_type": "code",
   "execution_count": 3,
   "id": "ff31cad2",
   "metadata": {},
   "outputs": [
    {
     "data": {
      "text/plain": [
       "['8@gmail.com', 't@gmail.com']"
      ]
     },
     "execution_count": 3,
     "metadata": {},
     "output_type": "execute_result"
    }
   ],
   "source": [
    "sene = 'My name is Akshat and my email id is kunwarakshat18@gmail.com and akshat@gmail.com'\n",
    "regex = '[A-Za-z0-9]@gmail.com'\n",
    "re.findall(regex,sene)"
   ]
  },
  {
   "cell_type": "code",
   "execution_count": 4,
   "id": "f22b11d9",
   "metadata": {},
   "outputs": [
    {
     "data": {
      "text/plain": [
       "['at@gmail.com']"
      ]
     },
     "execution_count": 4,
     "metadata": {},
     "output_type": "execute_result"
    }
   ],
   "source": [
    "sene = 'My name is Akshat and my email id is kunwarakshat18@gmail.com and akshat@gmail.com'\n",
    "regex = '[a-z][A-Za-z0-9]@gmail.com'\n",
    "re.findall(regex,sene)"
   ]
  },
  {
   "cell_type": "code",
   "execution_count": 5,
   "id": "417091e8",
   "metadata": {},
   "outputs": [
    {
     "data": {
      "text/plain": [
       "['a8@gmail.com', 'at@gmail.com']"
      ]
     },
     "execution_count": 5,
     "metadata": {},
     "output_type": "execute_result"
    }
   ],
   "source": [
    "senen = 'My name is Akshat and my email id is kunwarakshat1a8@gmail.com and akshat@gmail.com'\n",
    "regex = '[a-z][A-Za-z0-9]@gmail.com'\n",
    "re.findall(regex,senen)"
   ]
  },
  {
   "cell_type": "markdown",
   "id": "0a1837b8",
   "metadata": {},
   "source": [
    "# Quantifires = this tell us how much quantity is there in the pattern\n",
    "- {2} it takes 2 character\n",
    "- {2,} = 2 to infinity"
   ]
  },
  {
   "cell_type": "code",
   "execution_count": 6,
   "id": "6917cc19",
   "metadata": {},
   "outputs": [
    {
     "data": {
      "text/plain": [
       "['18@gmail.com', 'at@gmail.com']"
      ]
     },
     "execution_count": 6,
     "metadata": {},
     "output_type": "execute_result"
    }
   ],
   "source": [
    "senen2 = 'My name is Akshat and my email id is kunwarakshat18@gmail.com and akshat@gmail.com'\n",
    "regex = '[A-Za-z0-9]{2}@gmail.com'\n",
    "re.findall(regex,senen2)"
   ]
  },
  {
   "cell_type": "code",
   "execution_count": 7,
   "id": "4039ab96",
   "metadata": {},
   "outputs": [
    {
     "data": {
      "text/plain": [
       "['kunwarakshat18@gmail.com', 'akshat@gmail.com']"
      ]
     },
     "execution_count": 7,
     "metadata": {},
     "output_type": "execute_result"
    }
   ],
   "source": [
    "senen2 = 'My name is Akshat and my email id is kunwarakshat18@gmail.com and akshat@gmail.com'\n",
    "regex = '[A-Za-z0-9]{2,}@gmail.com'\n",
    "re.findall(regex,senen2)"
   ]
  },
  {
   "cell_type": "code",
   "execution_count": 8,
   "id": "f9ec9fbc",
   "metadata": {},
   "outputs": [
    {
     "data": {
      "text/plain": [
       "['My name is Akshat and my email id is kunwarakshat1 8@gmail.com',\n",
       " ' and akshat@gmail.com']"
      ]
     },
     "execution_count": 8,
     "metadata": {},
     "output_type": "execute_result"
    }
   ],
   "source": [
    "senen3 = 'My name is Akshat and my email id is kunwarakshat1 8@gmail.com and akshat@gmail.com'\n",
    "regex = '[A-Za-z0-9 ]{2,}@gmail.com' #  using space in it [A-Za-z0-9 yeh place mei space hai]\n",
    "re.findall(regex,senen3)"
   ]
  },
  {
   "cell_type": "code",
   "execution_count": 9,
   "id": "a335601d",
   "metadata": {},
   "outputs": [
    {
     "data": {
      "text/plain": [
       "['rakshatgjdhdfhgzstgthjgdsutyh8@gmail.com', 'akshat@gmail.com']"
      ]
     },
     "execution_count": 9,
     "metadata": {},
     "output_type": "execute_result"
    }
   ],
   "source": [
    "senen4 = 'My name is Akshat and my email id is kunwarakshatgjdhdfhgzstgthjgdsutyh8@gmail.com and akshat@gmail.com'\n",
    "regex = '[A-Za-z0-9]{2,30}@gmail.com'      # min 2 se max 30 tk chaiye\n",
    "re.findall(regex,senen4)  "
   ]
  },
  {
   "cell_type": "code",
   "execution_count": 10,
   "id": "47cf6261",
   "metadata": {},
   "outputs": [
    {
     "data": {
      "text/plain": [
       "[' akshat@gmail.com']"
      ]
     },
     "execution_count": 10,
     "metadata": {},
     "output_type": "execute_result"
    }
   ],
   "source": [
    "senen5 = 'My name is Akshat and my email id is kunwarakshatgjdhdfhgzstgthjgdsutyh8@gmail.com and akshat@gmail.com'\n",
    "regex = ' [A-Za-z0-9]{2,30}@gmail.com'      # space honi chaiye mail se phele or mail ki range ho skti 2 se 30\n",
    "re.findall(regex,senen5)                    # 'yeh place pr space hai[A-Za-z0-9]{2,30}@gmail.com'"
   ]
  },
  {
   "cell_type": "code",
   "execution_count": 11,
   "id": "0c14b2f4",
   "metadata": {},
   "outputs": [
    {
     "data": {
      "text/plain": [
       "['kunwarakshat18@gmail.com']"
      ]
     },
     "execution_count": 11,
     "metadata": {},
     "output_type": "execute_result"
    }
   ],
   "source": [
    "senen6 = 'My name is Akshat and my email id is kunwarakshat18@gmail.com and aksh@gmail.com'\n",
    "regex = '[A-Za-z0-9]{6,30}@gmail.com'      # min 6 character honi chaiye\n",
    "re.findall(regex,senen6) "
   ]
  },
  {
   "cell_type": "code",
   "execution_count": 12,
   "id": "47218c21",
   "metadata": {},
   "outputs": [
    {
     "data": {
      "text/plain": [
       "['27/12/1996']"
      ]
     },
     "execution_count": 12,
     "metadata": {},
     "output_type": "execute_result"
    }
   ],
   "source": [
    "#  question\n",
    "s = 'My dob is 27/12/1996'\n",
    "r = '[0-3][0-9]/[01][0-9]/[0-2][0-9]{3}'\n",
    "re.findall(r,s)"
   ]
  },
  {
   "cell_type": "code",
   "execution_count": 13,
   "id": "ac2ded5f",
   "metadata": {},
   "outputs": [
    {
     "data": {
      "text/plain": [
       "['8319082508']"
      ]
     },
     "execution_count": 13,
     "metadata": {},
     "output_type": "execute_result"
    }
   ],
   "source": [
    "n = 'My number is +91-8319082508'\n",
    "r = '[0-9]{10}'\n",
    "re.findall(r,n)"
   ]
  },
  {
   "cell_type": "markdown",
   "id": "540a3686",
   "metadata": {},
   "source": [
    "### special sequence \n",
    "- \\A\tReturns a match if the specified characters are at the beginning of the string\t\"\\AThe\"\t\n",
    "- \\b\tReturns a match where the specified characters are at the beginning or at the end of a word \tr\"\\bain\" r\"ain\\b\"\t\n",
    "- \\B\tReturns a match where the specified characters are present, but NOT at the beginning \n",
    "      (or at the end) of a word (the \"r\" in the beginning is making sure that the string is being  treated as a \"raw string\")\tr\"\\Bain\" r\"ain\\B\"\t\n",
    "- \\d\tReturns a match where the string contains digits (numbers from 0-9)\t\"\\d\"\t\n",
    "- \\D\tReturns a match where the string DOES NOT contain digits\t\"\\D\"\t\n",
    "- \\s\tReturns a match where the string contains a white space character\t\"\\s\"\t\n",
    "- \\S\tReturns a match where the string DOES NOT contain a white space character\t\"\\S\"\t\n",
    "- \\w\tReturns a match where the string contains any word characters \n",
    "      (characters from a to Z, digits from 0-9, and the underscore _ character)\t\"\\w\"\t\n",
    "- \\W\tReturns a match where the string DOES NOT contain any word characters\t\"\\W\"\t\n",
    "- \\Z\tReturns a match if the specified characters are at the end of the string\t\"Spain\\Z\""
   ]
  },
  {
   "cell_type": "code",
   "execution_count": 14,
   "id": "f401e678",
   "metadata": {},
   "outputs": [
    {
     "data": {
      "text/plain": [
       "['8319082508']"
      ]
     },
     "execution_count": 14,
     "metadata": {},
     "output_type": "execute_result"
    }
   ],
   "source": [
    "n = 'My number is +91-8319082508'\n",
    "r = '[\\d]{10}'\n",
    "re.findall(r,n)"
   ]
  },
  {
   "cell_type": "code",
   "execution_count": 15,
   "id": "45a9bc49",
   "metadata": {},
   "outputs": [],
   "source": [
    "# * = {,}  0 or infinity 0 hoga toh bhi print hoga 0 se jada hua toh bhi print hoga jitna hai"
   ]
  },
  {
   "cell_type": "code",
   "execution_count": 16,
   "id": "39a6cc44",
   "metadata": {},
   "outputs": [
    {
     "data": {
      "text/plain": [
       "['',\n",
       " '',\n",
       " '',\n",
       " '',\n",
       " '',\n",
       " '',\n",
       " '',\n",
       " '',\n",
       " '',\n",
       " '',\n",
       " '',\n",
       " '',\n",
       " '',\n",
       " '',\n",
       " '91',\n",
       " '',\n",
       " '8319082508',\n",
       " '']"
      ]
     },
     "execution_count": 16,
     "metadata": {},
     "output_type": "execute_result"
    }
   ],
   "source": [
    "n1 = 'My number is +91-8319082508'\n",
    "r1 = '[\\d]*' \n",
    "re.findall(r1,n1)"
   ]
  },
  {
   "cell_type": "code",
   "execution_count": 17,
   "id": "9f99a167",
   "metadata": {},
   "outputs": [],
   "source": [
    "# ? = 0 or 1  0 or infinity 0 hoga toh bhi print hoga or 1 hua toh print 1 bhi hoga"
   ]
  },
  {
   "cell_type": "code",
   "execution_count": 18,
   "id": "12cdc2c0",
   "metadata": {},
   "outputs": [
    {
     "data": {
      "text/plain": [
       "['',\n",
       " '',\n",
       " '',\n",
       " '',\n",
       " '',\n",
       " '',\n",
       " '',\n",
       " '',\n",
       " '',\n",
       " '',\n",
       " '',\n",
       " '',\n",
       " '',\n",
       " '',\n",
       " '9',\n",
       " '1',\n",
       " '',\n",
       " '8',\n",
       " '3',\n",
       " '1',\n",
       " '9',\n",
       " '0',\n",
       " '8',\n",
       " '2',\n",
       " '5',\n",
       " '0',\n",
       " '8',\n",
       " '']"
      ]
     },
     "execution_count": 18,
     "metadata": {},
     "output_type": "execute_result"
    }
   ],
   "source": [
    "n2 = 'My number is +91-8319082508'\n",
    "r2 = '[\\d]?' \n",
    "re.findall(r2,n2)"
   ]
  },
  {
   "cell_type": "code",
   "execution_count": 19,
   "id": "740bb917",
   "metadata": {},
   "outputs": [],
   "source": [
    "# + = 1 and more "
   ]
  },
  {
   "cell_type": "code",
   "execution_count": 20,
   "id": "5cc9ba60",
   "metadata": {},
   "outputs": [
    {
     "data": {
      "text/plain": [
       "['91', '8319082508']"
      ]
     },
     "execution_count": 20,
     "metadata": {},
     "output_type": "execute_result"
    }
   ],
   "source": [
    "n12 = 'My number is +91-8319082508'\n",
    "r12 = '[\\d]+' \n",
    "re.findall(r12,n12)"
   ]
  },
  {
   "cell_type": "code",
   "execution_count": 21,
   "id": "2a4437ef",
   "metadata": {},
   "outputs": [
    {
     "data": {
      "text/plain": [
       "['Mr. someone', 'Mr. X', 'Mr. Someone']"
      ]
     },
     "execution_count": 21,
     "metadata": {},
     "output_type": "execute_result"
    }
   ],
   "source": [
    "s = 'Mr. someone and Mr. X and Mr. Someone'\n",
    "x = 'Mr[.]? [A-Z]*[a-z]*'\n",
    "re.findall(x,s)"
   ]
  },
  {
   "cell_type": "code",
   "execution_count": 22,
   "id": "14a8fb22",
   "metadata": {},
   "outputs": [
    {
     "data": {
      "text/plain": [
       "['Mr. X', 'Mr. Someone']"
      ]
     },
     "execution_count": 22,
     "metadata": {},
     "output_type": "execute_result"
    }
   ],
   "source": [
    "s = 'Mr. someone and Mr. X and Mr. Someone'\n",
    "x = 'Mr[.]? [A-Z]+[a-z]*'\n",
    "re.findall(x,s)"
   ]
  },
  {
   "cell_type": "code",
   "execution_count": 23,
   "id": "84ed0b8f",
   "metadata": {},
   "outputs": [
    {
     "data": {
      "text/plain": [
       "['Mr. someone', 'Mr. X and', 'Mr. Someone', 'Mr.some']"
      ]
     },
     "execution_count": 23,
     "metadata": {},
     "output_type": "execute_result"
    }
   ],
   "source": [
    "s = 'Mr. someone and Mr. X and Mr. Someone and Mr.some'\n",
    "x = 'Mr[.]?[]? [A-Z]*[a-z]*'\n",
    "re.findall(x,s)"
   ]
  },
  {
   "cell_type": "code",
   "execution_count": 24,
   "id": "06428a58",
   "metadata": {},
   "outputs": [],
   "source": [
    "# \\+ = by this plus is not as specail sequence \n",
    "# \\ this make specail sequence into raw or raw into special sequence ex([\\d])"
   ]
  },
  {
   "cell_type": "code",
   "execution_count": 25,
   "id": "24acee0d",
   "metadata": {},
   "outputs": [
    {
     "data": {
      "text/plain": [
       "['+91-8319082508']"
      ]
     },
     "execution_count": 25,
     "metadata": {},
     "output_type": "execute_result"
    }
   ],
   "source": [
    "n12 = 'My number is +91-8319082508'\n",
    "r12 = '[\\+91\\-[\\d]+' \n",
    "re.findall(r12,n12)"
   ]
  },
  {
   "cell_type": "code",
   "execution_count": 26,
   "id": "2cbdab19",
   "metadata": {},
   "outputs": [],
   "source": [
    "# . = h.y \n",
    "# output = hey\n",
    "# . = any character (except newline character \\n )"
   ]
  },
  {
   "cell_type": "code",
   "execution_count": 27,
   "id": "f13153fe",
   "metadata": {},
   "outputs": [
    {
     "data": {
      "text/plain": [
       "['kunwarakshat18@gmailkcom', 'akshat@gmail.com']"
      ]
     },
     "execution_count": 27,
     "metadata": {},
     "output_type": "execute_result"
    }
   ],
   "source": [
    "senen5 = 'My name is Akshat and my email id is kunwarakshat18@gmailkcom and akshat@gmail.com'\n",
    "regex = '[A-Za-z0-9]{2,30}@gmail.com'     \n",
    "re.findall(regex,senen5)   "
   ]
  },
  {
   "cell_type": "code",
   "execution_count": 28,
   "id": "267005da",
   "metadata": {},
   "outputs": [
    {
     "data": {
      "text/plain": [
       "['Dear Akshat']"
      ]
     },
     "execution_count": 28,
     "metadata": {},
     "output_type": "execute_result"
    }
   ],
   "source": [
    "mail = '''Dear Akshat\n",
    "How are You?\n",
    "regards\n",
    "avi'''\n",
    "r = '^Dear Akshat'\n",
    "re.findall(r,mail)"
   ]
  },
  {
   "cell_type": "code",
   "execution_count": 29,
   "id": "f81f3698",
   "metadata": {},
   "outputs": [],
   "source": [
    "# ^ = for starting of string "
   ]
  },
  {
   "cell_type": "code",
   "execution_count": 30,
   "id": "4e11a311",
   "metadata": {},
   "outputs": [
    {
     "data": {
      "text/plain": [
       "[]"
      ]
     },
     "execution_count": 30,
     "metadata": {},
     "output_type": "execute_result"
    }
   ],
   "source": [
    "mail = '''\n",
    "How are You?\n",
    "Dear Akshat\n",
    "regards\n",
    "avi'''\n",
    "r = '^Dear Akshat'\n",
    "re.findall(r,mail)"
   ]
  },
  {
   "cell_type": "code",
   "execution_count": 31,
   "id": "02506845",
   "metadata": {},
   "outputs": [
    {
     "data": {
      "text/plain": [
       "['Dear Aksha']"
      ]
     },
     "execution_count": 31,
     "metadata": {},
     "output_type": "execute_result"
    }
   ],
   "source": [
    "mail = '''Dear Akshat\n",
    "How are You?\n",
    "regards\n",
    "avi'''\n",
    "r = '^Dear Aksha'\n",
    "re.findall(r,mail)"
   ]
  },
  {
   "cell_type": "code",
   "execution_count": 32,
   "id": "acbdedb3",
   "metadata": {},
   "outputs": [
    {
     "data": {
      "text/plain": [
       "[]"
      ]
     },
     "execution_count": 32,
     "metadata": {},
     "output_type": "execute_result"
    }
   ],
   "source": [
    "mail = '''Dear Aksha\n",
    "How are You?\n",
    "regards\n",
    "avi'''\n",
    "r = '^Dear Akshat'\n",
    "re.findall(r,mail)"
   ]
  },
  {
   "cell_type": "code",
   "execution_count": 33,
   "id": "40a620fb",
   "metadata": {},
   "outputs": [
    {
     "data": {
      "text/plain": [
       "['avi']"
      ]
     },
     "execution_count": 33,
     "metadata": {},
     "output_type": "execute_result"
    }
   ],
   "source": [
    "# $ = for ending of string \n",
    "r1 = 'avi$'\n",
    "re.findall(r1,mail)"
   ]
  },
  {
   "cell_type": "code",
   "execution_count": 34,
   "id": "217a5155",
   "metadata": {},
   "outputs": [
    {
     "data": {
      "text/plain": [
       "1"
      ]
     },
     "execution_count": 34,
     "metadata": {},
     "output_type": "execute_result"
    }
   ],
   "source": [
    "mail1 = '''$.dear akshat\n",
    "how are you'''\n",
    "regex = '^rs|\\$'\n",
    "len(re.findall(regex,mail1))\n",
    "# print(mail1[:2]==\"rs\")"
   ]
  },
  {
   "cell_type": "code",
   "execution_count": 35,
   "id": "6442c226",
   "metadata": {},
   "outputs": [
    {
     "data": {
      "text/plain": [
       "1"
      ]
     },
     "execution_count": 35,
     "metadata": {},
     "output_type": "execute_result"
    }
   ],
   "source": [
    "mail1 = '''Rs 999 r 55dear akshat\n",
    "how are you'''\n",
    "regex = '^(Rs|[\\d])'\n",
    "len(re.findall(regex,mail1))\n",
    "# print(mail1[:2]==\"rs\")"
   ]
  },
  {
   "cell_type": "markdown",
   "id": "87725e72",
   "metadata": {},
   "source": [
    "### Sets\n",
    "**A set is a set of characters inside a pair of square brackets [] with a special meaning:[ ]**"
   ]
  },
  {
   "cell_type": "markdown",
   "id": "1dc56710",
   "metadata": {},
   "source": [
    "* [arn]\tReturns a match where one of the specified characters ('a' or 'r' or 'n') are present\t\n",
    "* [a-n]\tReturns a match for any lower case character, alphabetically between a and n\t\n",
    "* [^arn]\tReturns a match for any character EXCEPT a, r, and n\t\n",
    "* [0123]\tReturns a match where any of the specified digits (0, 1, 2, or 3) are present\t\n",
    "* [0-9]\tReturns a match for any digit between 0 and 9\t\n",
    "* [0-5][0-9]\tReturns a match for any two-digit numbers from 00 and 59\t\n",
    "* [a-zA-Z]\tReturns a match for any character alphabetically between a and z, lower case OR upper case\t\n",
    "* [+]\tIn sets, +, *, ., |, (), $,{} has no special meaning, so [+] means: return a match for any + character in the string"
   ]
  },
  {
   "cell_type": "code",
   "execution_count": 37,
   "id": "4aec9f29",
   "metadata": {},
   "outputs": [
    {
     "data": {
      "text/plain": [
       "['Dear']"
      ]
     },
     "execution_count": 37,
     "metadata": {},
     "output_type": "execute_result"
    }
   ],
   "source": [
    "mail = '''Dear Aksha\n",
    "How are You?\n",
    "regards\n",
    "avi'''\n",
    "r = '\\ADear'\n",
    "re.findall(r,mail)"
   ]
  },
  {
   "cell_type": "code",
   "execution_count": 48,
   "id": "ffbdda31",
   "metadata": {},
   "outputs": [
    {
     "data": {
      "text/plain": [
       "['Hello', 'How']"
      ]
     },
     "execution_count": 48,
     "metadata": {},
     "output_type": "execute_result"
    }
   ],
   "source": [
    "sen = 'Hello How Are You'\n",
    "r = r'\\bH[a-z]*'  # \\b character hai but starting mai h\n",
    "re.findall(r,sen)"
   ]
  },
  {
   "cell_type": "code",
   "execution_count": 44,
   "id": "3b6b147d",
   "metadata": {},
   "outputs": [
    {
     "data": {
      "text/plain": [
       "['Hr']"
      ]
     },
     "execution_count": 44,
     "metadata": {},
     "output_type": "execute_result"
    }
   ],
   "source": [
    "sen = 'Hello How AHre You'\n",
    "r = r'\\BH[a-z]'    # \\B character hai but starting mai ni h \n",
    "re.findall(r,sen)"
   ]
  },
  {
   "cell_type": "code",
   "execution_count": 51,
   "id": "1fc4f4cc",
   "metadata": {},
   "outputs": [
    {
     "data": {
      "text/plain": [
       "['reY']"
      ]
     },
     "execution_count": 51,
     "metadata": {},
     "output_type": "execute_result"
    }
   ],
   "source": [
    "sen = 'Hello How AreY You'\n",
    "r = r'[a-z]*Y\\b'  # \\b character hai but Ending mai h\n",
    "re.findall(r,sen)"
   ]
  },
  {
   "cell_type": "code",
   "execution_count": 50,
   "id": "96a71bdc",
   "metadata": {},
   "outputs": [
    {
     "data": {
      "text/plain": [
       "['Y']"
      ]
     },
     "execution_count": 50,
     "metadata": {},
     "output_type": "execute_result"
    }
   ],
   "source": [
    "sen = 'Hello How Are You'\n",
    "r = r'[a-z]*Y\\B'  # \\B character hai but Ending mai ni h\n",
    "re.findall(r,sen)"
   ]
  },
  {
   "cell_type": "code",
   "execution_count": 56,
   "id": "bdd3b90c",
   "metadata": {},
   "outputs": [
    {
     "data": {
      "text/plain": [
       "['Hello', 'How', 'Are', 'You']"
      ]
     },
     "execution_count": 56,
     "metadata": {},
     "output_type": "execute_result"
    }
   ],
   "source": [
    "sen = 'Hello How Are You'\n",
    "r = r'\\w+' \n",
    "re.findall(r,sen)"
   ]
  },
  {
   "cell_type": "markdown",
   "id": "5a264a0a",
   "metadata": {},
   "source": [
    "- re.match - return match object if pattern is found in the beginning of the string, else returns None\n",
    "- re.search - return match object for first occurence of the pattern in the string else returns None.\n",
    "- re.findall - returns a list of all the matches corresponding to the given pattern else returns empty list\n",
    "- re.split - returns a list of strings splitted from the given pattern/separator\n",
    "- re.sub - substitute the pattern in the string\n",
    "- re.finditer - Creates an iterator on the matches."
   ]
  },
  {
   "cell_type": "code",
   "execution_count": 57,
   "id": "895737fa",
   "metadata": {},
   "outputs": [
    {
     "data": {
      "text/plain": [
       "<re.Match object; span=(0, 1), match='H'>"
      ]
     },
     "execution_count": 57,
     "metadata": {},
     "output_type": "execute_result"
    }
   ],
   "source": [
    "sen = 'Hello How Are You'\n",
    "r = '[H]' \n",
    "re.match(r,sen)"
   ]
  },
  {
   "cell_type": "code",
   "execution_count": 59,
   "id": "96599028",
   "metadata": {},
   "outputs": [
    {
     "data": {
      "text/plain": [
       "<re.Match object; span=(0, 5), match='Hello'>"
      ]
     },
     "execution_count": 59,
     "metadata": {},
     "output_type": "execute_result"
    }
   ],
   "source": [
    "sen = 'Hello How Are You'\n",
    "r = '[Ha-z]+' \n",
    "re.match(r,sen)"
   ]
  },
  {
   "cell_type": "code",
   "execution_count": 60,
   "id": "0b5c84c6",
   "metadata": {},
   "outputs": [
    {
     "name": "stdout",
     "output_type": "stream",
     "text": [
      "(0, 5)\n"
     ]
    }
   ],
   "source": [
    "sen = 'Hello How Are You'\n",
    "r = '[Ha-z]+' \n",
    "w = re.match(r,sen)\n",
    "if w:\n",
    "    print(w.span())   #.span()  kaha se kaha tk hai[]\n",
    "else:\n",
    "    print('match not found')"
   ]
  },
  {
   "cell_type": "code",
   "execution_count": 61,
   "id": "3cd76bf6",
   "metadata": {},
   "outputs": [
    {
     "data": {
      "text/plain": [
       "<re.Match object; span=(0, 5), match='Hello'>"
      ]
     },
     "execution_count": 61,
     "metadata": {},
     "output_type": "execute_result"
    }
   ],
   "source": [
    "sen = 'Hello How Are You'\n",
    "r = '[Ha-z]+' \n",
    "re.search(r,sen)      # search deta hai 1st occurence"
   ]
  },
  {
   "cell_type": "code",
   "execution_count": 63,
   "id": "05ab9509",
   "metadata": {},
   "outputs": [
    {
     "name": "stdout",
     "output_type": "stream",
     "text": [
      "<re.Match object; span=(0, 5), match='Hello'>\n",
      "(0, 5)\n",
      "<re.Match object; span=(6, 9), match='How'>\n",
      "(6, 9)\n",
      "<re.Match object; span=(11, 13), match='re'>\n",
      "(11, 13)\n",
      "<re.Match object; span=(15, 17), match='ou'>\n",
      "(15, 17)\n"
     ]
    }
   ],
   "source": [
    "sen = 'Hello How Are You'\n",
    "r = '[Ha-z]+' \n",
    "q = re.finditer(r,sen)\n",
    "for i in q:\n",
    "    print(i)\n",
    "    print(i.span())"
   ]
  },
  {
   "cell_type": "code",
   "execution_count": 64,
   "id": "5a0a7436",
   "metadata": {},
   "outputs": [
    {
     "name": "stdout",
     "output_type": "stream",
     "text": [
      "<re.Match object; span=(37, 61), match='kunwarakshat18@gmail.com'>\n",
      "(37, 61)\n",
      "<re.Match object; span=(66, 82), match='akshat@gmail.com'>\n",
      "(66, 82)\n"
     ]
    }
   ],
   "source": [
    "sene = 'My name is Akshat and my email id is kunwarakshat18@gmail.com and akshat@gmail.com'\n",
    "regex = '[A-Za-z0-9]+@gmail[.]com'\n",
    "q = re.finditer(regex,sene)\n",
    "for i in q:\n",
    "    print(i)\n",
    "    print(i.span())"
   ]
  },
  {
   "cell_type": "code",
   "execution_count": 67,
   "id": "dccf5dcf",
   "metadata": {},
   "outputs": [
    {
     "data": {
      "text/plain": [
       "['18', '04', '2001']"
      ]
     },
     "execution_count": 67,
     "metadata": {},
     "output_type": "execute_result"
    }
   ],
   "source": [
    "dob = '18,04/2001'\n",
    "re.split('[,|/]',dob)"
   ]
  },
  {
   "cell_type": "code",
   "execution_count": 68,
   "id": "dabb32ca",
   "metadata": {},
   "outputs": [
    {
     "data": {
      "text/plain": [
       "'18-04-2001'"
      ]
     },
     "execution_count": 68,
     "metadata": {},
     "output_type": "execute_result"
    }
   ],
   "source": [
    "dob = '18,04/2001'\n",
    "re.sub('[/,]','-',dob)"
   ]
  },
  {
   "cell_type": "code",
   "execution_count": null,
   "id": "cff02d45",
   "metadata": {},
   "outputs": [],
   "source": []
  }
 ],
 "metadata": {
  "kernelspec": {
   "display_name": "Python 3 (ipykernel)",
   "language": "python",
   "name": "python3"
  },
  "language_info": {
   "codemirror_mode": {
    "name": "ipython",
    "version": 3
   },
   "file_extension": ".py",
   "mimetype": "text/x-python",
   "name": "python",
   "nbconvert_exporter": "python",
   "pygments_lexer": "ipython3",
   "version": "3.11.2"
  }
 },
 "nbformat": 4,
 "nbformat_minor": 5
}
