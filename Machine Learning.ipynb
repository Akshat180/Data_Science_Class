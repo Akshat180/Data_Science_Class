{
 "cells": [
  {
   "cell_type": "markdown",
   "id": "9003b5e6",
   "metadata": {},
   "source": [
    "## Introduction to Machine Learning\n",
    "- **Machine Learning (ML)** is basically that field of computer science with the help of which computer systems can provide sense to data in much the same way as human beings do.\n",
    "- In simple words, `ML` is a type of artificial intelligence that extract patterns out of raw data by using an algorithm or method.\n",
    "- The key focus of `ML` is to allow computer systems to learn from experience without being explicitly programmed or human intervention."
   ]
  },
  {
   "cell_type": "markdown",
   "id": "ba1f08b0",
   "metadata": {},
   "source": [
    "**Deep Learning**\n",
    "The subset of machine learning composed of algorithms that permit software to train itself to perform tasks, like speech and image recognition, by exposing multilayered neural networks to vast amounts of data."
   ]
  },
  {
   "cell_type": "markdown",
   "id": "01dc2ded",
   "metadata": {},
   "source": [
    "**Machine Learning**\n",
    "A subset of Al that includes abstruse statistical techniques that enable machines to improve at tasks with experience. The category includes deep learning"
   ]
  },
  {
   "cell_type": "markdown",
   "id": "4e1a5f68",
   "metadata": {},
   "source": [
    "**Artificial Intelligence**\n",
    "Any technique that enables computers to mimic human intelligence, using logic, if-then rules, decision trees, and machine learning (including deep learning)"
   ]
  },
  {
   "cell_type": "markdown",
   "id": "534fb29d",
   "metadata": {},
   "source": [
    "<img src='https://www.unite.ai/wp-content/uploads/2023/01/AI-ML-DL-1.png'  width=\"600\" height=\"300\">"
   ]
  },
  {
   "cell_type": "markdown",
   "id": "9ee87281",
   "metadata": {},
   "source": [
    "### Challenges in Machine Learning\n",
    "The challenges that ML is facing currently are -\n",
    "- **Quality of data**\n",
    "- **Time-Consuming task**\n",
    "- **Lack of specialist persons**\n",
    "- **No clear objective for formulating business problems**\n",
    "- **Issue of overfitting & underfitting**\n",
    "- **Curse of dimensionality**\n",
    "- **Difficulty in deployment**\n",
    "### Applications of Machine Learning\n",
    "Following are some real-world applications of ML -\n",
    "- Emotion analysis\n",
    "- Sentiment analysis\n",
    "- Error detection and prevention\n",
    "- Weather forecasting and prediction\n",
    "- Stock market analysis and forecasting\n",
    "- Speech synthesis\n",
    "- Speech recognition\n",
    "- Customer segmentation\n",
    "- Object recognition\n",
    "- Fraud detection\n",
    "- Fraud prevention\n",
    "- Recommendation of products to customer in online shopping"
   ]
  },
  {
   "cell_type": "markdown",
   "id": "3db776b2",
   "metadata": {},
   "source": [
    "# Type of Machine Learning\n",
    "ML Algos cab be divided into these types:\n",
    "* `Supervised Learning`: is the Data mining task of inferring a function from labeled training data.\n",
    "  - **1 Classification** \n",
    "       - This is a type of problem where we predict the **categorical response** value where the data can be separated into specific \"classes\" (ex: we predict one of the values in a set of values)\n",
    "       - Some examples are:\n",
    "           * this mail is spam or not? \n",
    "           * will it rain today or not?\n",
    "  - **2 Regression** \n",
    "       - This is a type of problem where we need to predict the **continuous-response** value (ex: above we predict number which can vary from -infinity to +infinity).\n",
    "       - Some examples are:\n",
    "           * what is the price of house in a specific city? \n",
    "           * what is the value of the stock?\n",
    "       - Type of Regression\n",
    "         - linear regression\n",
    "         - logistic regression\n",
    "* `Unsupervised Learning`: is a class of ML techniques to find the patterns in Data. The data given to unsupervise algorithm are not labelled, which means only the input variables(X) are given with no corresponding output variables.\n",
    "  - **1 Clustering**\n",
    "      - bina batae diffrentitaion kr dete hai voh clusstering hai like gender,age,weight,height,etc.\n",
    "  - **2 Association**\n",
    "    \n",
    "* `Reinforcement Learning`"
   ]
  },
  {
   "cell_type": "markdown",
   "id": "65eccfd8",
   "metadata": {},
   "source": [
    "|Supervised Learning|Unsupervised Learning|\n",
    "|-----------|-----------|\n",
    "|input of data is labelled|input of data is unlabelled|\n",
    "|Uses training dataset |uses just input dataset|\n",
    "|Used for Prediction|Used for Analysis|\n",
    "|Classification and Regresstion|Clustering, density estimation and|\n",
    "||dimensionality reduction|"
   ]
  },
  {
   "cell_type": "markdown",
   "id": "392822c1",
   "metadata": {},
   "source": [
    "* dtc = good for categorical data\n",
    "* random state = True/False 1/0 (True hota hai toh random data divide krta hai False mai ni)\n",
    "* svm = good for data is continous data and variance is high \n",
    "* GB = good for data is continous data and variance is low"
   ]
  },
  {
   "cell_type": "code",
   "execution_count": null,
   "id": "51419027",
   "metadata": {},
   "outputs": [],
   "source": []
  }
 ],
 "metadata": {
  "kernelspec": {
   "display_name": "Python 3 (ipykernel)",
   "language": "python",
   "name": "python3"
  },
  "language_info": {
   "codemirror_mode": {
    "name": "ipython",
    "version": 3
   },
   "file_extension": ".py",
   "mimetype": "text/x-python",
   "name": "python",
   "nbconvert_exporter": "python",
   "pygments_lexer": "ipython3",
   "version": "3.11.2"
  }
 },
 "nbformat": 4,
 "nbformat_minor": 5
}
