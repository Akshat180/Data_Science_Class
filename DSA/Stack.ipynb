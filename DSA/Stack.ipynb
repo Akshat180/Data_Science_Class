{
 "cells": [
  {
   "cell_type": "code",
   "execution_count": 1,
   "id": "cccde5e1-45ae-4873-b91d-0feadedd21b9",
   "metadata": {},
   "outputs": [],
   "source": [
    "# implementation using list"
   ]
  },
  {
   "cell_type": "code",
   "execution_count": 2,
   "id": "c1eedfaf-5e19-40eb-b3e9-b1a60763c356",
   "metadata": {},
   "outputs": [],
   "source": [
    "stack = []"
   ]
  },
  {
   "cell_type": "markdown",
   "id": "09c93a81-96ce-45a5-b6a1-0b8515023577",
   "metadata": {},
   "source": [
    "## Push Operation"
   ]
  },
  {
   "cell_type": "code",
   "execution_count": 3,
   "id": "48ab2cce-fee4-4671-8dae-292acfdc562b",
   "metadata": {},
   "outputs": [],
   "source": [
    "for i in range(1,10):\n",
    "    stack.append(i)"
   ]
  },
  {
   "cell_type": "code",
   "execution_count": 4,
   "id": "74fe3e0c-61f6-4fab-9c88-8977b16905b2",
   "metadata": {},
   "outputs": [
    {
     "name": "stdout",
     "output_type": "stream",
     "text": [
      "Stack:  [1, 2, 3, 4, 5, 6, 7, 8, 9]\n"
     ]
    }
   ],
   "source": [
    "print(\"Stack: \",stack)"
   ]
  },
  {
   "cell_type": "markdown",
   "id": "b564e911-454d-4e13-b4de-e854e4c3dc21",
   "metadata": {},
   "source": [
    "## Pop Operation"
   ]
  },
  {
   "cell_type": "code",
   "execution_count": 5,
   "id": "7bf4dcf8-be69-46f8-8502-6514ebacce64",
   "metadata": {},
   "outputs": [
    {
     "data": {
      "text/plain": [
       "9"
      ]
     },
     "execution_count": 5,
     "metadata": {},
     "output_type": "execute_result"
    }
   ],
   "source": [
    "stack.pop()"
   ]
  },
  {
   "cell_type": "code",
   "execution_count": 6,
   "id": "59bf0ab1-de2d-4de0-8e73-380908453eae",
   "metadata": {},
   "outputs": [
    {
     "name": "stdout",
     "output_type": "stream",
     "text": [
      "Stack after popping: [1, 2, 3, 4, 5, 6, 7, 8]\n"
     ]
    }
   ],
   "source": [
    "print('Stack after popping:',stack)"
   ]
  },
  {
   "cell_type": "code",
   "execution_count": 7,
   "id": "974944d1-e0ef-441e-ad4f-0f4c43aff990",
   "metadata": {},
   "outputs": [],
   "source": [
    "# getSize()\n",
    "# isEmpty()\n",
    "# peek() - stack[-1]\n",
    "# push(data)\n",
    "# Pop"
   ]
  },
  {
   "cell_type": "code",
   "execution_count": 8,
   "id": "8bf4a84b-58e8-419d-b828-853807221db7",
   "metadata": {},
   "outputs": [
    {
     "data": {
      "text/plain": [
       "8"
      ]
     },
     "execution_count": 8,
     "metadata": {},
     "output_type": "execute_result"
    }
   ],
   "source": [
    "# get size\n",
    "def GetSize(stack):\n",
    "    return len(stack)\n",
    "\n",
    "GetSize(stack)"
   ]
  },
  {
   "cell_type": "code",
   "execution_count": 9,
   "id": "469bf018-0588-4afa-87db-2283feb01cb2",
   "metadata": {},
   "outputs": [
    {
     "data": {
      "text/plain": [
       "False"
      ]
     },
     "execution_count": 9,
     "metadata": {},
     "output_type": "execute_result"
    }
   ],
   "source": [
    "# isEmpty\n",
    "def isEmpty(stack):\n",
    "    if len(stack) == 0:\n",
    "        return True\n",
    "    else: \n",
    "        return False\n",
    "    \n",
    "\n",
    "isEmpty(stack)"
   ]
  },
  {
   "cell_type": "code",
   "execution_count": 10,
   "id": "005e64cf-1240-4717-8ef0-2d182719c532",
   "metadata": {},
   "outputs": [
    {
     "data": {
      "text/plain": [
       "8"
      ]
     },
     "execution_count": 10,
     "metadata": {},
     "output_type": "execute_result"
    }
   ],
   "source": [
    "# Peek\n",
    "def Peek(stack):\n",
    "    if len(stack) != 0: \n",
    "        return stack[-1]\n",
    "    else: print(\"stack is Empty\")\n",
    "\n",
    "Peek(stack)"
   ]
  },
  {
   "cell_type": "markdown",
   "id": "6c789e21-eeb3-4e65-88c4-c3a8a0b307ec",
   "metadata": {},
   "source": [
    "## Implementation Using Linked List"
   ]
  },
  {
   "cell_type": "code",
   "execution_count": 79,
   "id": "8945a4a7-4aaf-4ea1-8155-e137fcd36281",
   "metadata": {},
   "outputs": [],
   "source": [
    "class Node:\n",
    "    def __init__(self,value):\n",
    "        self.value = value\n",
    "        self.next =  None\n",
    "\n",
    "class Stack:\n",
    "    def __init__(self,max_size = None):\n",
    "        self.head = Node('head')\n",
    "        self.size = 0\n",
    "        self.max_size = max_size\n",
    "        \n",
    "    def __str__(self):\n",
    "        cur = self.head.next\n",
    "        out = \"\"\n",
    "        while cur:\n",
    "            out += str(cur.value) + \"-->\"\n",
    "            cur = cur.next\n",
    "        return out[:-3]\n",
    "\n",
    "    def getSize(self):\n",
    "        return self.size\n",
    "\n",
    "    def isEmpty(self): return self.size == 0\n",
    "\n",
    "    def push(self,value):\n",
    "        if self.max_size is not None and self.size >= self.max_size:  return 'Overflow'\n",
    "        node = Node(value)\n",
    "        node.next = self.head.next\n",
    "        self.head.next = node\n",
    "        self.size += 1\n",
    "    \n",
    "    def pop(self):\n",
    "        if self.isEmpty(): return 'UnderFlow'\n",
    "        popData = self.head.next\n",
    "        self.head.next = self.head.next.next\n",
    "        self.size -= 1\n",
    "        return popData.value\n",
    "\n",
    "    def peek(self):\n",
    "        if self.isEmpty(): return 'UnderFlow'\n",
    "        return self.head.next.value\n",
    "    \n",
    "            \n",
    "\n",
    "\n"
   ]
  },
  {
   "cell_type": "code",
   "execution_count": 80,
   "id": "06274a97-c71a-42a1-880f-eee01a334e35",
   "metadata": {},
   "outputs": [
    {
     "name": "stdout",
     "output_type": "stream",
     "text": [
      "Stack: 85-->23\n"
     ]
    }
   ],
   "source": [
    "stack = Stack(2)\n",
    "data = [23,85,74]\n",
    "for d in data:\n",
    "    stack.push(d)\n",
    "print(f\"Stack: {stack}\")"
   ]
  },
  {
   "cell_type": "code",
   "execution_count": 73,
   "id": "83539a6c-4ea0-469e-bf26-3600aa4bef9e",
   "metadata": {},
   "outputs": [
    {
     "data": {
      "text/plain": [
       "2"
      ]
     },
     "execution_count": 73,
     "metadata": {},
     "output_type": "execute_result"
    }
   ],
   "source": [
    "stack.getSize()"
   ]
  },
  {
   "cell_type": "code",
   "execution_count": 74,
   "id": "a6048c34-4a3b-4803-9b4e-73803c821ebd",
   "metadata": {},
   "outputs": [
    {
     "data": {
      "text/plain": [
       "85"
      ]
     },
     "execution_count": 74,
     "metadata": {},
     "output_type": "execute_result"
    }
   ],
   "source": [
    "stack.peek()"
   ]
  },
  {
   "cell_type": "code",
   "execution_count": 75,
   "id": "fc79d551-febe-435a-baa7-73a865d7fb00",
   "metadata": {},
   "outputs": [
    {
     "data": {
      "text/plain": [
       "85"
      ]
     },
     "execution_count": 75,
     "metadata": {},
     "output_type": "execute_result"
    }
   ],
   "source": [
    "stack.pop()"
   ]
  },
  {
   "cell_type": "code",
   "execution_count": 78,
   "id": "54a0124b-1b4f-4f7b-bafd-ee989c6366ff",
   "metadata": {},
   "outputs": [
    {
     "data": {
      "text/plain": [
       "'Overflow'"
      ]
     },
     "execution_count": 78,
     "metadata": {},
     "output_type": "execute_result"
    }
   ],
   "source": [
    "stack.push(7)"
   ]
  },
  {
   "cell_type": "code",
   "execution_count": 77,
   "id": "63b46247-4da0-4d15-a841-73d3e4658214",
   "metadata": {},
   "outputs": [
    {
     "data": {
      "text/plain": [
       "2"
      ]
     },
     "execution_count": 77,
     "metadata": {},
     "output_type": "execute_result"
    }
   ],
   "source": [
    "stack.getSize()"
   ]
  },
  {
   "cell_type": "code",
   "execution_count": null,
   "id": "d70f9eb6-58e0-409d-b754-f4e11bae0604",
   "metadata": {},
   "outputs": [],
   "source": []
  },
  {
   "cell_type": "code",
   "execution_count": null,
   "id": "5869b3c9-dffe-47fd-a301-5064a7275d59",
   "metadata": {},
   "outputs": [],
   "source": [
    "class Node:\n",
    "    def __init__(self,value):\n",
    "        self.value = value\n",
    "        self.next =  None\n",
    "\n",
    "class Stack:\n",
    "    def __init__(self):\n",
    "        self.head = Node('head')\n",
    "        self.size = 0\n",
    "        \n",
    "    def __str__(self):\n",
    "        cur = self.head.next\n",
    "        out = \"\"\n",
    "        while cur:\n",
    "            out += str(cur.value) + \"-->\"\n",
    "            cur = cur.next\n",
    "        return out[:-3]\n",
    "\n",
    "    def getSize(self):\n",
    "        return self.size\n",
    "\n",
    "    def isEmpty(self): return self.size == 0\n",
    "\n",
    "    def push(self,value):\n",
    "        length = 4\n",
    "        node = Node(value)\n",
    "        if self.getSize() > length:return \"OverFlow\"\n",
    "        else:\n",
    "            node.next = self.head.next\n",
    "            self.head.next = node\n",
    "            self.size += 1\n",
    "    \n",
    "    def pop(self):\n",
    "        if self.isEmpty(): return 'UnderFlow'\n",
    "        popData = self.head.next\n",
    "        self.head.next = self.head.next.next\n",
    "        self.size -= 1\n",
    "        return popData.value\n",
    "\n",
    "    def peek(self):\n",
    "        if self.isEmpty(): return 'UnderFlow'\n",
    "        return self.head.next.value\n",
    "    \n",
    "            \n",
    "\n",
    "\n"
   ]
  },
  {
   "cell_type": "code",
   "execution_count": 88,
   "id": "4400fdc3-19c0-4449-9ce7-71263966bacb",
   "metadata": {},
   "outputs": [
    {
     "name": "stdin",
     "output_type": "stream",
     "text": [
      "Enter the Limit Of the list:  5\n",
      "Enter Your Choice:\n",
      "Press 1 For Push\n",
      "Press 2 For Pop\n",
      "Press 3 to Exit 3\n"
     ]
    },
    {
     "name": "stdout",
     "output_type": "stream",
     "text": [
      "[]\n",
      "9.464262247085571\n"
     ]
    }
   ],
   "source": [
    "\n",
    "s = []\n",
    "def PUSH():\n",
    "    if len(s) == n:\n",
    "        print(\"List is Full\")\n",
    "    else:\n",
    "        element = input(\"Enter the Element:\")\n",
    "        s.append(element)\n",
    "        print(s)\n",
    "\n",
    "def POP():\n",
    "    if not s:\n",
    "        print(\"Stack is Empty\")\n",
    "    else:\n",
    "        e = s.pop()\n",
    "        print(f\"{e} is removed\")\n",
    "        print(s)\n",
    "\n",
    "n = int(input(\"Enter the Limit Of the list: \"))\n",
    "while(True):\n",
    "    choice = int(input(\"Enter Your Choice:\\nPress 1 For Push\\nPress 2 For Pop\\nPress 3 to Exit\"))\n",
    "    if choice == 1:\n",
    "        PUSH()\n",
    "    elif choice == 2:\n",
    "        POP()\n",
    "    elif choice == 3:\n",
    "        print(s)\n",
    "        break\n",
    "    else: print(\"Wrong Input\")\n"
   ]
  },
  {
   "cell_type": "code",
   "execution_count": 91,
   "id": "fff4f227-b25d-422b-b9f7-314e7cf1df0b",
   "metadata": {},
   "outputs": [
    {
     "name": "stdout",
     "output_type": "stream",
     "text": [
      "1\n",
      "2\n",
      "3\n",
      "4\n",
      "5\n",
      "6\n",
      "7\n",
      "8\n",
      "9\n",
      "10\n",
      "11\n",
      "12\n",
      "13\n",
      "14\n",
      "15\n",
      "16\n",
      "17\n",
      "18\n",
      "19\n",
      "20\n",
      "21\n",
      "22\n",
      "23\n",
      "24\n",
      "25\n",
      "26\n",
      "27\n",
      "28\n",
      "29\n",
      "30\n",
      "31\n",
      "32\n",
      "33\n",
      "34\n",
      "35\n",
      "36\n",
      "37\n",
      "38\n",
      "39\n",
      "40\n",
      "41\n",
      "42\n",
      "43\n",
      "44\n",
      "45\n",
      "46\n",
      "47\n",
      "48\n",
      "49\n",
      "50\n",
      "51\n",
      "52\n",
      "53\n",
      "54\n",
      "55\n",
      "56\n",
      "57\n",
      "58\n",
      "59\n",
      "60\n",
      "61\n",
      "62\n",
      "63\n",
      "64\n",
      "65\n",
      "66\n",
      "67\n",
      "68\n",
      "69\n",
      "70\n",
      "71\n",
      "72\n",
      "73\n",
      "74\n",
      "75\n",
      "76\n",
      "77\n",
      "78\n",
      "79\n",
      "80\n",
      "81\n",
      "82\n",
      "83\n",
      "84\n",
      "85\n",
      "86\n",
      "87\n",
      "88\n",
      "89\n",
      "90\n",
      "91\n",
      "92\n",
      "93\n",
      "94\n",
      "95\n",
      "96\n",
      "97\n",
      "98\n",
      "99\n",
      "100\n",
      "0.0\n"
     ]
    }
   ],
   "source": [
    "# import time\n",
    "# start = time.time()\n",
    "# for i in range(1,101):\n",
    "#     print(i)\n",
    "# print(time.time() - start)"
   ]
  },
  {
   "cell_type": "code",
   "execution_count": null,
   "id": "793b4135-455a-469a-9970-7fa928b8cfbb",
   "metadata": {},
   "outputs": [],
   "source": []
  }
 ],
 "metadata": {
  "kernelspec": {
   "display_name": "Python 3 (ipykernel)",
   "language": "python",
   "name": "python3"
  },
  "language_info": {
   "codemirror_mode": {
    "name": "ipython",
    "version": 3
   },
   "file_extension": ".py",
   "mimetype": "text/x-python",
   "name": "python",
   "nbconvert_exporter": "python",
   "pygments_lexer": "ipython3",
   "version": "3.12.0"
  }
 },
 "nbformat": 4,
 "nbformat_minor": 5
}
