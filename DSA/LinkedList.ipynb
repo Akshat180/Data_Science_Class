{
 "cells": [
  {
   "cell_type": "code",
   "execution_count": 1,
   "id": "38117933-ad2e-4ad8-871c-1575fd625b39",
   "metadata": {},
   "outputs": [],
   "source": [
    "class Node:\n",
    "    def __init__(self, data):\n",
    "        self.data = data\n",
    "        self.next = None\n",
    "class LinkedList:\n",
    "    def __init__(self):\n",
    "        self.head = None\n",
    "        \n"
   ]
  },
  {
   "cell_type": "code",
   "execution_count": 2,
   "id": "464ac692-eb55-429c-b5d8-ad699189ceac",
   "metadata": {},
   "outputs": [],
   "source": [
    "l = LinkedList()\n",
    "l.head = Node(1)\n",
    "second = Node(2)\n",
    "third = Node(3)\n",
    "l.head.next = second\n",
    "second.next = third"
   ]
  },
  {
   "cell_type": "code",
   "execution_count": null,
   "id": "593eed74-c4de-4831-8129-41ca925c4df0",
   "metadata": {},
   "outputs": [],
   "source": []
  },
  {
   "cell_type": "markdown",
   "id": "51ea24c5-b2b2-41ab-8d35-066655e8ddbc",
   "metadata": {},
   "source": [
    "## Linked List Traversal"
   ]
  },
  {
   "cell_type": "code",
   "execution_count": 3,
   "id": "ea3ca0a0-669b-42a6-9127-b3a7798bde40",
   "metadata": {},
   "outputs": [],
   "source": [
    "class Node:\n",
    "    def __init__(self, data):\n",
    "        self.data = data\n",
    "        self.next = None\n",
    "\n",
    "class LinkedList: \n",
    "    def __init__(self):\n",
    "        self.head = None\n",
    "        \n",
    "    def printList(self):\n",
    "        temp = self.head\n",
    "        while(temp):\n",
    "            print(temp.data)\n",
    "            temp = temp.next"
   ]
  },
  {
   "cell_type": "code",
   "execution_count": 4,
   "id": "741970c7-094f-485e-91e6-1df15715f1fe",
   "metadata": {},
   "outputs": [],
   "source": [
    "l = LinkedList()\n",
    "l.head = Node(1)\n",
    "second = Node(2)\n",
    "third = Node(3)\n",
    "l.head.next = second\n",
    "second.next = third"
   ]
  },
  {
   "cell_type": "code",
   "execution_count": 5,
   "id": "1e25c5e7-7538-4a80-bfad-28099ce055fe",
   "metadata": {},
   "outputs": [
    {
     "name": "stdout",
     "output_type": "stream",
     "text": [
      "1\n",
      "2\n",
      "3\n"
     ]
    }
   ],
   "source": [
    "l.printList()"
   ]
  },
  {
   "cell_type": "markdown",
   "id": "5909c5f8-a632-4862-95fc-96175ca81110",
   "metadata": {},
   "source": [
    "## Insertion in a linked List\n",
    "- Starting\n",
    "- In-between- at a given node\n",
    "- End of the linked list"
   ]
  },
  {
   "cell_type": "code",
   "execution_count": 77,
   "id": "22326dd7-6bed-430c-b0b3-f487f87cf596",
   "metadata": {},
   "outputs": [],
   "source": [
    "l = []\n",
    "\n",
    "class Node:\n",
    "    def __init__(self, data):\n",
    "        self.data = data\n",
    "        self.next = None\n",
    "\n",
    "class LinkedList: \n",
    "    def __init__(self):\n",
    "        self.head = None\n",
    "        \n",
    "    def printList(self):\n",
    "        temp = self.head\n",
    "        while(temp):\n",
    "            print(temp.data)\n",
    "            temp = temp.next\n",
    "            \n",
    "    def pushStart(self,new_data):\n",
    "        new_node = Node(new_data)\n",
    "        new_node.next = self.head\n",
    "        self.head = new_node\n",
    "\n",
    "    def insert(self,prev_node,new_data):\n",
    "        if prev_node is None:\n",
    "            print(\"The node is not in the LinkedList\")\n",
    "            return\n",
    "        new_node = Node(new_data)\n",
    "        new_node.next = prev_node.next\n",
    "        prev_node.next = new_node\n",
    "\n",
    "    def append(self,new_data):\n",
    "        new_node = Node(new_data)\n",
    "        if self.head is None:\n",
    "            self.head = new_node\n",
    "            return\n",
    "        last = self.head\n",
    "        while(last.next):\n",
    "            last = last.next\n",
    "        last.next = new_node\n",
    "\n",
    "    def Count(self):\n",
    "        c = 0\n",
    "        temp = self.head\n",
    "        while(temp):\n",
    "            c += 1\n",
    "            temp = temp.next \n",
    "        return c\n",
    "\n",
    "    def search(self, target_data):\n",
    "        temp = self.head\n",
    "        while temp:\n",
    "            if temp.data == target_data:\n",
    "                print(\"YES\")\n",
    "                return\n",
    "            temp = temp.next\n",
    "        print(\"NO\")\n",
    "\n",
    "\n",
    "    def delete(self,data):\n",
    "        current = self.head\n",
    "        if current is not None and current.data == data:\n",
    "            self.head = current.next\n",
    "            return\n",
    "        prev = None\n",
    "\n",
    "        while current is not None:\n",
    "            if current.data == data:\n",
    "                break\n",
    "            prev = current\n",
    "            current = current.next\n",
    "\n",
    "        if current is None:\n",
    "            print(\"Data not found in the linked list.\")\n",
    "            return\n",
    "        prev.next = current.next\n",
    "\n",
    "\n",
    "    def get_length(self):\n",
    "        count = 0\n",
    "        temp = self.head\n",
    "        while(temp):\n",
    "            count += 1\n",
    "            temp = temp.next\n",
    "        return count\n",
    "\n",
    "        \n",
    "    def deleteIndex(self,index):\n",
    "        if (index < 0) or (index > self.get_length()):\n",
    "            return(\"Invalid Index\")\n",
    "        elif index == 0:\n",
    "            self.head = self.head.next\n",
    "            return\n",
    "        else:\n",
    "            count = 0\n",
    "            temp = self.head\n",
    "            while temp:\n",
    "                if count == index - 1:\n",
    "                    print(f\"{temp.next.data} data deleted\")\n",
    "                    temp.next = temp.next.next\n",
    "                    break\n",
    "                else:\n",
    "                    temp = temp.next\n",
    "                    count += 1\n",
    "\n",
    "\n",
    "    def deleteByData(self,data):\n",
    "        if self.head is None: return\n",
    "        elif self.head.data == data:\n",
    "            self.head = self.head.next\n",
    "            return\n",
    "        else:\n",
    "            temp = self.head\n",
    "            while temp.next:\n",
    "                if temp.next.data == data:\n",
    "                    temp.next = temp.next.next\n",
    "                    break\n",
    "                else:\n",
    "                    temp = temp.next\n",
    "            \n",
    "            \n",
    "        \n",
    "            \n",
    "        \n",
    "        \n",
    "                \n",
    "\n",
    "        \n",
    "            "
   ]
  },
  {
   "cell_type": "code",
   "execution_count": 78,
   "id": "cc765687-ab8c-4421-85f4-b53a65db1985",
   "metadata": {},
   "outputs": [],
   "source": [
    "l = LinkedList()\n",
    "l.head = Node(1)\n",
    "second = Node(2)\n",
    "third = Node(3)\n",
    "l.head.next = second\n",
    "second.next = third"
   ]
  },
  {
   "cell_type": "code",
   "execution_count": 79,
   "id": "f3f2ab74-0516-4759-b7da-e9456727fe9a",
   "metadata": {},
   "outputs": [
    {
     "name": "stdout",
     "output_type": "stream",
     "text": [
      "1\n",
      "2\n",
      "3\n"
     ]
    }
   ],
   "source": [
    "l.printList()"
   ]
  },
  {
   "cell_type": "code",
   "execution_count": 80,
   "id": "868f14ec-a2e4-4d6d-b0ce-f0b1a5a61abe",
   "metadata": {},
   "outputs": [
    {
     "data": {
      "text/plain": [
       "3"
      ]
     },
     "execution_count": 80,
     "metadata": {},
     "output_type": "execute_result"
    }
   ],
   "source": [
    "l.Count() "
   ]
  },
  {
   "cell_type": "code",
   "execution_count": 81,
   "id": "4606df4c-0664-486f-8676-8fe6d3bf6d14",
   "metadata": {},
   "outputs": [],
   "source": [
    "l.pushStart(0) # inserting data at the begining"
   ]
  },
  {
   "cell_type": "code",
   "execution_count": 82,
   "id": "8280a921-540e-41dc-b87f-f8de5c085ecb",
   "metadata": {},
   "outputs": [
    {
     "name": "stdout",
     "output_type": "stream",
     "text": [
      "0\n",
      "1\n",
      "2\n",
      "3\n"
     ]
    }
   ],
   "source": [
    "l.printList()"
   ]
  },
  {
   "cell_type": "code",
   "execution_count": 83,
   "id": "5142022b-a0ad-4063-b731-e91161f8076a",
   "metadata": {},
   "outputs": [],
   "source": [
    "l.insert(second,6) # inserting data in between"
   ]
  },
  {
   "cell_type": "code",
   "execution_count": 84,
   "id": "d89e11b4-25d7-463a-a2c0-c1ef0a50a20d",
   "metadata": {},
   "outputs": [],
   "source": [
    "l.append(55) # inseeting data at the last "
   ]
  },
  {
   "cell_type": "code",
   "execution_count": 85,
   "id": "3f48213b-9a3e-433b-bbd1-5beb15b41658",
   "metadata": {},
   "outputs": [
    {
     "name": "stdout",
     "output_type": "stream",
     "text": [
      "YES\n"
     ]
    }
   ],
   "source": [
    "l.search(2)"
   ]
  },
  {
   "cell_type": "code",
   "execution_count": 86,
   "id": "083b0679-a719-443f-a82e-b9d24e25b25f",
   "metadata": {},
   "outputs": [],
   "source": [
    "l.delete(2)"
   ]
  },
  {
   "cell_type": "code",
   "execution_count": 87,
   "id": "0092ff5e-6325-489e-8880-812f4e195190",
   "metadata": {},
   "outputs": [
    {
     "name": "stdout",
     "output_type": "stream",
     "text": [
      "0\n",
      "1\n",
      "6\n",
      "3\n",
      "55\n"
     ]
    }
   ],
   "source": [
    "l.printList()"
   ]
  },
  {
   "cell_type": "code",
   "execution_count": 88,
   "id": "3a3aaef7-3457-46f9-8969-7c8b10a2cac2",
   "metadata": {},
   "outputs": [
    {
     "name": "stdout",
     "output_type": "stream",
     "text": [
      "1 data deleted\n"
     ]
    }
   ],
   "source": [
    "l.deleteIndex(1)"
   ]
  },
  {
   "cell_type": "code",
   "execution_count": 89,
   "id": "a7dff028-4e6f-4861-b8fb-54dc95d61ec8",
   "metadata": {},
   "outputs": [],
   "source": [
    "l.deleteByData(55)"
   ]
  },
  {
   "cell_type": "code",
   "execution_count": 90,
   "id": "40ce1a56-23af-4ed8-84b0-57dd78a13cd1",
   "metadata": {},
   "outputs": [
    {
     "name": "stdout",
     "output_type": "stream",
     "text": [
      "0\n",
      "6\n",
      "3\n"
     ]
    }
   ],
   "source": [
    "l.printList()"
   ]
  },
  {
   "cell_type": "code",
   "execution_count": null,
   "id": "340f6b85-139d-408d-ba4b-99c603ba02e8",
   "metadata": {},
   "outputs": [],
   "source": []
  }
 ],
 "metadata": {
  "kernelspec": {
   "display_name": "Python 3 (ipykernel)",
   "language": "python",
   "name": "python3"
  },
  "language_info": {
   "codemirror_mode": {
    "name": "ipython",
    "version": 3
   },
   "file_extension": ".py",
   "mimetype": "text/x-python",
   "name": "python",
   "nbconvert_exporter": "python",
   "pygments_lexer": "ipython3",
   "version": "3.12.0"
  }
 },
 "nbformat": 4,
 "nbformat_minor": 5
}
