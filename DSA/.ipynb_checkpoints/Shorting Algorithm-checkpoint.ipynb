{
 "cells": [
  {
   "cell_type": "markdown",
   "id": "720f4d6a-fd41-40fd-aea7-da238bcac894",
   "metadata": {},
   "source": [
    "## Insertion Short"
   ]
  },
  {
   "cell_type": "code",
   "execution_count": 16,
   "id": "bee11364-9eb9-4b9a-895c-246b70999908",
   "metadata": {},
   "outputs": [
    {
     "name": "stdout",
     "output_type": "stream",
     "text": [
      "[4, 8, 10, 10]\n"
     ]
    }
   ],
   "source": [
    "l = [4,8,10,10]\n",
    "l1 = []\n",
    "for i in range(len(l)):\n",
    "    m = min(l)\n",
    "    i = l.index(m)\n",
    "    p = l.pop(i)\n",
    "    l1.append(p)\n",
    "        \n",
    "print(l1)  "
   ]
  },
  {
   "cell_type": "markdown",
   "id": "46f578f7-7e92-4e8d-b4cb-386b2f953fa9",
   "metadata": {},
   "source": [
    "## Bubble Short"
   ]
  },
  {
   "cell_type": "code",
   "execution_count": 32,
   "id": "4edff671-c671-439e-b2c3-c26eab00c2e8",
   "metadata": {},
   "outputs": [
    {
     "data": {
      "text/plain": [
       "[2, 5, 9, 17]"
      ]
     },
     "execution_count": 32,
     "metadata": {},
     "output_type": "execute_result"
    }
   ],
   "source": [
    "def bubble(l):\n",
    "    n = len(l)\n",
    "    for i in range(n):\n",
    "        for j in range(0,n-i-1):\n",
    "            if l[j] > l [ j + 1]:\n",
    "                l[j],l[j+1] = l[j+1],l[j]\n",
    "    return l\n",
    "\n",
    "s = [5,17,2,9]\n",
    "bubble(s)"
   ]
  },
  {
   "cell_type": "markdown",
   "id": "3e5f3d72-33c5-47e7-a1e7-67ac54b68012",
   "metadata": {},
   "source": [
    "## Selection Short"
   ]
  },
  {
   "cell_type": "code",
   "execution_count": 39,
   "id": "291fefcc-1c2c-4224-af70-537c5959642a",
   "metadata": {},
   "outputs": [],
   "source": [
    "def selection(l):\n",
    "    n = len(l)\n",
    "    for i in range(n):\n",
    "        mini = i\n",
    "        for j in range(i+1,n):\n",
    "            if l[j] < l[mini]:\n",
    "                mini = j\n",
    "        l[i],l[mini] = l[mini], l[i]\n",
    "    return l\n",
    "            \n",
    "        "
   ]
  },
  {
   "cell_type": "code",
   "execution_count": 40,
   "id": "98cedda2-12cb-47ed-bb62-bf08dc19120d",
   "metadata": {},
   "outputs": [
    {
     "data": {
      "text/plain": [
       "[2, 5, 9, 17]"
      ]
     },
     "execution_count": 40,
     "metadata": {},
     "output_type": "execute_result"
    }
   ],
   "source": [
    "l1 = [5,17,2,9]\n",
    "selection(l1)"
   ]
  },
  {
   "cell_type": "markdown",
   "id": "1ee98f05",
   "metadata": {},
   "source": [
    "## Insertion Sort"
   ]
  },
  {
   "cell_type": "code",
   "execution_count": 6,
   "id": "4c83116a-01b7-438e-b88f-954fbcd16035",
   "metadata": {},
   "outputs": [],
   "source": [
    "def insertion(l):\n",
    "    for i in range(1, len(l)):\n",
    "        a = l[i]\n",
    "        j = i-1\n",
    "        while j >= 0 and a < l[j]:\n",
    "            l[j+1] = l[j]\n",
    "            j -= 1\n",
    "        l[j+1] = a\n",
    "    return l\n"
   ]
  },
  {
   "cell_type": "code",
   "execution_count": 7,
   "id": "97245e48",
   "metadata": {},
   "outputs": [
    {
     "data": {
      "text/plain": [
       "[2, 5, 9, 17]"
      ]
     },
     "execution_count": 7,
     "metadata": {},
     "output_type": "execute_result"
    }
   ],
   "source": [
    "l = [5, 17, 2, 9]\n",
    "insertion(l)"
   ]
  },
  {
   "cell_type": "markdown",
   "id": "0ec903a5",
   "metadata": {},
   "source": [
    "# Merge Sort"
   ]
  },
  {
   "cell_type": "code",
   "execution_count": null,
   "id": "cdb848c5",
   "metadata": {},
   "outputs": [],
   "source": []
  },
  {
   "cell_type": "markdown",
   "id": "b8e36aca",
   "metadata": {},
   "source": [
    "# Quick Sort"
   ]
  },
  {
   "cell_type": "code",
   "execution_count": null,
   "id": "bc7cb36b",
   "metadata": {},
   "outputs": [],
   "source": [
    "def partition(l,high,low):\n",
    "    pivot = "
   ]
  }
 ],
 "metadata": {
  "kernelspec": {
   "display_name": "Python 3 (ipykernel)",
   "language": "python",
   "name": "python3"
  },
  "language_info": {
   "codemirror_mode": {
    "name": "ipython",
    "version": 3
   },
   "file_extension": ".py",
   "mimetype": "text/x-python",
   "name": "python",
   "nbconvert_exporter": "python",
   "pygments_lexer": "ipython3",
   "version": "3.11.2"
  }
 },
 "nbformat": 4,
 "nbformat_minor": 5
}
