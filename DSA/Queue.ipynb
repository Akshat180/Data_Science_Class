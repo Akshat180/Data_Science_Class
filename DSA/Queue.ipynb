{
 "cells": [
  {
   "cell_type": "markdown",
   "id": "31a7efad",
   "metadata": {},
   "source": [
    "# Queue using List"
   ]
  },
  {
   "cell_type": "code",
   "execution_count": 1,
   "id": "33fa578b",
   "metadata": {},
   "outputs": [],
   "source": [
    "queue=[]\n"
   ]
  },
  {
   "cell_type": "code",
   "execution_count": 2,
   "id": "5960c01e",
   "metadata": {},
   "outputs": [],
   "source": [
    "queue.append(1)\n",
    "queue.append(2)\n",
    "queue.append(3)\n",
    "queue.append(4)\n",
    "queue.append(5)\n",
    "queue.append(6)"
   ]
  },
  {
   "cell_type": "code",
   "execution_count": 3,
   "id": "21c8b18d",
   "metadata": {},
   "outputs": [
    {
     "name": "stdout",
     "output_type": "stream",
     "text": [
      "Queue : [1, 2, 3, 4, 5, 6]\n"
     ]
    }
   ],
   "source": [
    "print('Queue :', queue)"
   ]
  },
  {
   "cell_type": "code",
   "execution_count": null,
   "id": "ec4be762",
   "metadata": {},
   "outputs": [],
   "source": []
  },
  {
   "cell_type": "markdown",
   "id": "0cad7906",
   "metadata": {},
   "source": [
    "# Queue using Linked List"
   ]
  },
  {
   "cell_type": "code",
   "execution_count": 4,
   "id": "d07f5148",
   "metadata": {},
   "outputs": [],
   "source": [
    "class Node:\n",
    "    def __init__(self,data):\n",
    "        self.data=data\n",
    "        self.next=None\n",
    "        \n",
    "class Queue:\n",
    "    def __init__(self):\n",
    "        self.front=self.rear=None\n",
    "    def __str__(self):\n",
    "        cur=self.front\n",
    "        out=\"\"\n",
    "        while cur:\n",
    "            out+=str(cur.data)+\"-->\"\n",
    "            cur=cur.next\n",
    "        return out[:-3]\n",
    "    \n",
    "    def isEmpty(self):\n",
    "        return self.front==None\n",
    "        \n",
    "    def enQueue(self,item):\n",
    "        temp=Node(item)\n",
    "        if self.rear==None:\n",
    "            self.front=self.rear=temp\n",
    "            return\n",
    "        self.rear.next=temp\n",
    "        self.rear=temp\n",
    "    \n",
    "    def deQueue(self):\n",
    "        if self.isEmpty():\n",
    "            return\n",
    "        temp=self.front\n",
    "        self.front=temp.next\n",
    "        if(self.front==None):\n",
    "            self.rear=None\n",
    "            \n",
    "        \n",
    "\n",
    "    "
   ]
  },
  {
   "cell_type": "code",
   "execution_count": 5,
   "id": "dfdc010d",
   "metadata": {},
   "outputs": [],
   "source": [
    "queue=Queue()\n"
   ]
  },
  {
   "cell_type": "code",
   "execution_count": 11,
   "id": "aeead6ab",
   "metadata": {},
   "outputs": [],
   "source": [
    "queue.enQueue(4)"
   ]
  },
  {
   "cell_type": "code",
   "execution_count": 7,
   "id": "7378e0be",
   "metadata": {},
   "outputs": [
    {
     "name": "stdout",
     "output_type": "stream",
     "text": [
      "4\n"
     ]
    }
   ],
   "source": [
    "print(f'{queue}')"
   ]
  },
  {
   "cell_type": "code",
   "execution_count": 12,
   "id": "c63f6217",
   "metadata": {},
   "outputs": [
    {
     "name": "stdout",
     "output_type": "stream",
     "text": [
      "4\n"
     ]
    }
   ],
   "source": [
    "print(queue)"
   ]
  },
  {
   "cell_type": "code",
   "execution_count": 13,
   "id": "83d1d679-15c8-44b3-bb34-71de206ddb84",
   "metadata": {},
   "outputs": [
    {
     "data": {
      "text/plain": [
       "False"
      ]
     },
     "execution_count": 13,
     "metadata": {},
     "output_type": "execute_result"
    }
   ],
   "source": [
    "queue.isEmpty()"
   ]
  },
  {
   "cell_type": "code",
   "execution_count": null,
   "id": "1366b228-5811-41d9-b9ed-c927bbfdd5f3",
   "metadata": {},
   "outputs": [],
   "source": []
  }
 ],
 "metadata": {
  "kernelspec": {
   "display_name": "Python 3 (ipykernel)",
   "language": "python",
   "name": "python3"
  },
  "language_info": {
   "codemirror_mode": {
    "name": "ipython",
    "version": 3
   },
   "file_extension": ".py",
   "mimetype": "text/x-python",
   "name": "python",
   "nbconvert_exporter": "python",
   "pygments_lexer": "ipython3",
   "version": "3.12.0"
  }
 },
 "nbformat": 4,
 "nbformat_minor": 5
}
