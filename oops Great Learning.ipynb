{
 "cells": [
  {
   "cell_type": "markdown",
   "id": "627c7e08",
   "metadata": {},
   "source": [
    "# Class is a template/blue-print for real-world entities"
   ]
  },
  {
   "cell_type": "markdown",
   "id": "bf2fe024",
   "metadata": {},
   "source": [
    "## Class is user define Data-Type"
   ]
  },
  {
   "cell_type": "markdown",
   "id": "ebc0af49",
   "metadata": {},
   "source": [
    "- Properties - Attributes  (In python it is Called as Class -- Variables/Instance Variable)\n",
    "- Behaviour  - Methods\n",
    "- like phone is class \n",
    "- [color, cost, battery life] it is the properties\n",
    "- [make call, watch video, play games] it is Behaviour"
   ]
  },
  {
   "cell_type": "markdown",
   "id": "d73fdec1",
   "metadata": {},
   "source": [
    "# Objects"
   ]
  },
  {
   "cell_type": "markdown",
   "id": "a195880e",
   "metadata": {},
   "source": [
    "### Objects are specific instances of a class \n",
    "- like \n",
    "- phone - apple , nokia , samsung"
   ]
  },
  {
   "cell_type": "markdown",
   "id": "9196b901",
   "metadata": {},
   "source": [
    "#### Creating the Phone class"
   ]
  },
  {
   "cell_type": "code",
   "execution_count": 1,
   "id": "67e7e87a",
   "metadata": {},
   "outputs": [],
   "source": [
    "class Phone:\n",
    "    \n",
    "    def make_call(self):\n",
    "        print('Making Call')\n",
    "        \n",
    "    def Play_game(self):\n",
    "        print('Playing Game')\n",
    "        "
   ]
  },
  {
   "cell_type": "markdown",
   "id": "65e636e2",
   "metadata": {},
   "source": [
    "#### Instantiating the 'p1' object"
   ]
  },
  {
   "cell_type": "code",
   "execution_count": null,
   "id": "51361468",
   "metadata": {},
   "outputs": [],
   "source": [
    "p1 = Phone()\n",
    "p1"
   ]
  },
  {
   "cell_type": "markdown",
   "id": "bbc1123f",
   "metadata": {},
   "source": [
    "#### Invoking methods through object"
   ]
  },
  {
   "cell_type": "code",
   "execution_count": 3,
   "id": "53222806",
   "metadata": {},
   "outputs": [
    {
     "name": "stdout",
     "output_type": "stream",
     "text": [
      "Making Call\n"
     ]
    }
   ],
   "source": [
    "p1.make_call()"
   ]
  },
  {
   "cell_type": "code",
   "execution_count": 4,
   "id": "26e04a73",
   "metadata": {},
   "outputs": [
    {
     "name": "stdout",
     "output_type": "stream",
     "text": [
      "Playing Game\n"
     ]
    }
   ],
   "source": [
    "p1.Play_game()"
   ]
  },
  {
   "cell_type": "markdown",
   "id": "eb2d7e50",
   "metadata": {},
   "source": [
    "## Setting and Returning the attribute values"
   ]
  },
  {
   "cell_type": "code",
   "execution_count": 5,
   "id": "5988a778",
   "metadata": {},
   "outputs": [],
   "source": [
    "class Phone:\n",
    "    \n",
    "    def set_color(self, color):\n",
    "        self.color = color\n",
    "        \n",
    "    def set_cost(self,cost):\n",
    "        self.cost = cost\n",
    "        \n",
    "    def show_color(self):\n",
    "        return self.color\n",
    "    \n",
    "    def show_cost(self):\n",
    "        return self.cost\n",
    "    \n",
    "    def make_call(self):\n",
    "        print('Making Call')\n",
    "        \n",
    "    def Play_game(self):\n",
    "        print('Playing Game')"
   ]
  },
  {
   "cell_type": "code",
   "execution_count": 6,
   "id": "83587afe",
   "metadata": {},
   "outputs": [],
   "source": [
    "p2 = Phone()"
   ]
  },
  {
   "cell_type": "code",
   "execution_count": 7,
   "id": "7a992819",
   "metadata": {},
   "outputs": [],
   "source": [
    "p2.set_color('yellow')"
   ]
  },
  {
   "cell_type": "code",
   "execution_count": null,
   "id": "dc942dd8",
   "metadata": {},
   "outputs": [],
   "source": [
    "p2.set_cost(1000)"
   ]
  },
  {
   "cell_type": "code",
   "execution_count": null,
   "id": "2ec97be8",
   "metadata": {},
   "outputs": [],
   "source": [
    "p2.show_color()"
   ]
  },
  {
   "cell_type": "code",
   "execution_count": null,
   "id": "3c521024",
   "metadata": {},
   "outputs": [],
   "source": [
    "p2.show_cost()"
   ]
  },
  {
   "cell_type": "code",
   "execution_count": null,
   "id": "d4568891",
   "metadata": {},
   "outputs": [],
   "source": [
    "p2.Play_game()"
   ]
  },
  {
   "cell_type": "code",
   "execution_count": null,
   "id": "07729bb7",
   "metadata": {},
   "outputs": [],
   "source": [
    "p2.make_call()"
   ]
  },
  {
   "cell_type": "markdown",
   "id": "90cb70b4",
   "metadata": {},
   "source": [
    "# Creating a class with Constructor"
   ]
  },
  {
   "cell_type": "code",
   "execution_count": null,
   "id": "63d311b0",
   "metadata": {},
   "outputs": [],
   "source": [
    "class Employee:\n",
    "\n",
    "# init method acts as the contructor\n",
    "    def __init__(self,name,age, salary, gender):\n",
    "        \n",
    "        self.name   = name  # self.name  use krte hai bind krne ke liye\n",
    "        self.age    = age\n",
    "        self.salary = salary\n",
    "        self.gender = gender\n",
    "        \n",
    "    def employee_details(self):\n",
    "        \n",
    "        print('Name of Employee is ', self.name)\n",
    "        print('Age of Employee is ', self.age)\n",
    "        print('Salary of Employee is ', self.salary)\n",
    "        print('Gender of Employee is ', self.gender)"
   ]
  },
  {
   "cell_type": "markdown",
   "id": "956b0ec5",
   "metadata": {},
   "source": [
    "#### Instanting the 'e1' object"
   ]
  },
  {
   "cell_type": "code",
   "execution_count": null,
   "id": "088874e5",
   "metadata": {},
   "outputs": [],
   "source": [
    "e1 = Employee('Jhon',30,550000, 'Male')"
   ]
  },
  {
   "cell_type": "markdown",
   "id": "0107b936",
   "metadata": {},
   "source": [
    "#### Invoking the 'employee_details' method"
   ]
  },
  {
   "cell_type": "code",
   "execution_count": null,
   "id": "6ee193fc",
   "metadata": {},
   "outputs": [],
   "source": [
    "e1.employee_details()"
   ]
  },
  {
   "cell_type": "markdown",
   "id": "f7b75c99",
   "metadata": {},
   "source": [
    "# Inheritance in Python"
   ]
  },
  {
   "cell_type": "markdown",
   "id": "e396c855",
   "metadata": {},
   "source": [
    "With inheritance one class can drive the Properties of another class\n",
    "\n",
    "Example:\n",
    "\n",
    "Man inheriting features From his Father"
   ]
  },
  {
   "cell_type": "markdown",
   "id": "8759ef0d",
   "metadata": {},
   "source": [
    "### Creating the Base Class"
   ]
  },
  {
   "cell_type": "code",
   "execution_count": null,
   "id": "daff30c0",
   "metadata": {},
   "outputs": [],
   "source": [
    "class Vehicle:\n",
    "    \n",
    "    def __init__(self, mileage, cost):\n",
    "        \n",
    "        self.mileage = mileage\n",
    "        self.cost    = cost\n",
    "        \n",
    "    def show_details(self):\n",
    "        \n",
    "        print('I am a Vehicle')\n",
    "        print('Mileage of Vechile is ', self.mileage)\n",
    "        print('Cost of Vechile is',self.cost)"
   ]
  },
  {
   "cell_type": "code",
   "execution_count": null,
   "id": "8bf76837",
   "metadata": {},
   "outputs": [],
   "source": [
    "v1 = Vehicle(40,2050000)"
   ]
  },
  {
   "cell_type": "code",
   "execution_count": null,
   "id": "7e9aa484",
   "metadata": {},
   "outputs": [],
   "source": [
    "v1.show_details()"
   ]
  },
  {
   "cell_type": "markdown",
   "id": "1bba4d90",
   "metadata": {},
   "source": [
    "# Inheritence Example"
   ]
  },
  {
   "cell_type": "markdown",
   "id": "14b1126a",
   "metadata": {},
   "source": [
    "Creating Child Class"
   ]
  },
  {
   "cell_type": "code",
   "execution_count": null,
   "id": "60b70ec2",
   "metadata": {},
   "outputs": [],
   "source": [
    "class car(Vehicle):\n",
    "    \n",
    "    def Show_car(self):\n",
    "        print('I am car')\n",
    "        "
   ]
  },
  {
   "cell_type": "markdown",
   "id": "ddef94d9",
   "metadata": {},
   "source": [
    "Instantiating the Object for the Child Class"
   ]
  },
  {
   "cell_type": "code",
   "execution_count": null,
   "id": "3b2934a2",
   "metadata": {},
   "outputs": [],
   "source": [
    "c1 =  car(50,60000)"
   ]
  },
  {
   "cell_type": "code",
   "execution_count": null,
   "id": "3e00b514",
   "metadata": {},
   "outputs": [],
   "source": [
    "c1.show_details()"
   ]
  },
  {
   "cell_type": "code",
   "execution_count": null,
   "id": "1ef5b677",
   "metadata": {},
   "outputs": [],
   "source": [
    "c1.Show_car()"
   ]
  },
  {
   "cell_type": "markdown",
   "id": "64240f22",
   "metadata": {},
   "source": [
    "# Over-riding init Method"
   ]
  },
  {
   "cell_type": "code",
   "execution_count": null,
   "id": "ec314049",
   "metadata": {},
   "outputs": [],
   "source": [
    "class Car(Vehicle):\n",
    "    \n",
    "    def __init__(self,mileage,cost,tyres,hp ):\n",
    "        super().__init__(mileage,cost)\n",
    "        self.tyres = tyres\n",
    "        self.hp    = hp\n",
    "        \n",
    "    def show_car_details(self):\n",
    "        \n",
    "        print('I am a car')\n",
    "        print('Number of tyres in car is', self.tyres)\n",
    "        print('HP of car is ',self.hp)"
   ]
  },
  {
   "cell_type": "code",
   "execution_count": null,
   "id": "20104da5",
   "metadata": {},
   "outputs": [],
   "source": [
    "c1 = Car(20,1200,4,300)"
   ]
  },
  {
   "cell_type": "code",
   "execution_count": null,
   "id": "179572fa",
   "metadata": {},
   "outputs": [],
   "source": [
    "c1.show_details()"
   ]
  },
  {
   "cell_type": "code",
   "execution_count": null,
   "id": "98e41961",
   "metadata": {},
   "outputs": [],
   "source": [
    "c1.show_car_details()"
   ]
  },
  {
   "cell_type": "markdown",
   "id": "93328bf6",
   "metadata": {},
   "source": [
    "# Type of Inheritance"
   ]
  },
  {
   "cell_type": "markdown",
   "id": "befbb397",
   "metadata": {},
   "source": [
    "Single Inheritance\n",
    "\n",
    "Mutiple Inheritance\n",
    "\n",
    "Multi-Level Inheritance\n",
    "\n",
    "Hybrid Inheritance"
   ]
  },
  {
   "cell_type": "markdown",
   "id": "5bdfe6d5",
   "metadata": {},
   "source": [
    "# Multiple Inheritance"
   ]
  },
  {
   "cell_type": "markdown",
   "id": "6302fdf9",
   "metadata": {},
   "source": [
    "In this Chlid Class inherits from more than 1 Parent "
   ]
  },
  {
   "cell_type": "code",
   "execution_count": null,
   "id": "c4f755c2",
   "metadata": {},
   "outputs": [],
   "source": [
    "class Parent1:\n",
    "    \n",
    "    def assign_str1(self,str1):\n",
    "        self.str1 = str1\n",
    "        \n",
    "    def show_str1(self):\n",
    "        return self.str1"
   ]
  },
  {
   "cell_type": "code",
   "execution_count": null,
   "id": "fa6bace6",
   "metadata": {},
   "outputs": [],
   "source": [
    "class Parent2:\n",
    "    \n",
    "    def assign_str2(self,str2):\n",
    "        self.str2 = str2\n",
    "        \n",
    "    def show_str2(self):\n",
    "        return self.str2"
   ]
  },
  {
   "cell_type": "code",
   "execution_count": null,
   "id": "24770eb1",
   "metadata": {},
   "outputs": [],
   "source": [
    "class Chlid(Parent1,Parent2):\n",
    "    \n",
    "    def assign_str3(self,str3):\n",
    "        self.str3 = str3\n",
    "        \n",
    "    def show_str3(self):\n",
    "        return self.str3"
   ]
  },
  {
   "cell_type": "code",
   "execution_count": null,
   "id": "5afddac3",
   "metadata": {},
   "outputs": [],
   "source": [
    "c1 = Chlid()"
   ]
  },
  {
   "cell_type": "code",
   "execution_count": null,
   "id": "5c902650",
   "metadata": {},
   "outputs": [],
   "source": [
    "c1.assign_str1('One')\n",
    "c1.assign_str2('Two')\n",
    "c1.assign_str3('Three')"
   ]
  },
  {
   "cell_type": "code",
   "execution_count": null,
   "id": "04dda3cc",
   "metadata": {},
   "outputs": [],
   "source": [
    "c1.show_str1()"
   ]
  },
  {
   "cell_type": "code",
   "execution_count": null,
   "id": "3307499f",
   "metadata": {},
   "outputs": [],
   "source": [
    "c1.show_str2()"
   ]
  },
  {
   "cell_type": "code",
   "execution_count": null,
   "id": "8c055332",
   "metadata": {},
   "outputs": [],
   "source": [
    "c1.show_str3()"
   ]
  },
  {
   "cell_type": "markdown",
   "id": "12d0e492",
   "metadata": {},
   "source": [
    "# Multi-Level Inheritance"
   ]
  },
  {
   "cell_type": "markdown",
   "id": "71874b42",
   "metadata": {},
   "source": [
    "It is Relationship of \n",
    "\n",
    "Parent\n",
    "\n",
    "Chlid      \n",
    "\n",
    "Grand Chlid "
   ]
  },
  {
   "cell_type": "code",
   "execution_count": null,
   "id": "e6b0992c",
   "metadata": {},
   "outputs": [],
   "source": [
    "class Parent():\n",
    "    \n",
    "    def assign_name(self,name):\n",
    "        self.name = name\n",
    "        \n",
    "    def show_name(self):\n",
    "        return self.name"
   ]
  },
  {
   "cell_type": "code",
   "execution_count": null,
   "id": "15c3525c",
   "metadata": {},
   "outputs": [],
   "source": [
    "class Chlid(Parent):\n",
    "    \n",
    "    def assign_age(self,age):\n",
    "        self.age = age\n",
    "        \n",
    "    def show_age(self):\n",
    "        return self.age"
   ]
  },
  {
   "cell_type": "code",
   "execution_count": null,
   "id": "a264ea7f",
   "metadata": {},
   "outputs": [],
   "source": [
    "class Grandchlid(Chlid):\n",
    "    \n",
    "    def assign_gender(self,gender):\n",
    "        self.gender = gender\n",
    "        \n",
    "    def show_gender(self):\n",
    "        return self.gender"
   ]
  },
  {
   "cell_type": "code",
   "execution_count": null,
   "id": "ad5421df",
   "metadata": {},
   "outputs": [],
   "source": [
    "g1 = Grandchlid()"
   ]
  },
  {
   "cell_type": "code",
   "execution_count": null,
   "id": "f5e9ed9c",
   "metadata": {},
   "outputs": [],
   "source": [
    "g1.assign_name('SAM')\n",
    "g1.assign_age(30)\n",
    "g1.assign_gender('Male')"
   ]
  },
  {
   "cell_type": "code",
   "execution_count": null,
   "id": "1c6c579f",
   "metadata": {},
   "outputs": [],
   "source": [
    "g1.show_name()"
   ]
  },
  {
   "cell_type": "code",
   "execution_count": null,
   "id": "bb1e71dc",
   "metadata": {},
   "outputs": [],
   "source": [
    "g1.show_age()"
   ]
  },
  {
   "cell_type": "code",
   "execution_count": null,
   "id": "d2d7271d",
   "metadata": {},
   "outputs": [],
   "source": [
    "g1.show_gender()"
   ]
  },
  {
   "cell_type": "markdown",
   "id": "a1fc9b15",
   "metadata": {},
   "source": [
    "# CodingThinker Class"
   ]
  },
  {
   "cell_type": "markdown",
   "id": "49f214da",
   "metadata": {},
   "source": [
    "Programming Paradigms\n",
    " - Structured\n",
    " - Procedural Programming\n",
    " - OOp's\n",
    " \n",
    "  Oops gives us Binding Which Made code sort we dont have to define many variables \n",
    " \n",
    " Structured and Procedural Do not have Binding feature due to which code is long"
   ]
  },
  {
   "cell_type": "markdown",
   "id": "cc6255fa",
   "metadata": {},
   "source": [
    "- Class = blueprint\n",
    "- Object/Instance = Actual Implementation of Class"
   ]
  },
  {
   "cell_type": "code",
   "execution_count": null,
   "id": "0c2905c1",
   "metadata": {},
   "outputs": [],
   "source": [
    "class fan():\n",
    "    color = 'white'\n",
    "    def ventilation(self):\n",
    "        print('Good Ventilation')\n"
   ]
  },
  {
   "cell_type": "code",
   "execution_count": null,
   "id": "0cfc5ff3",
   "metadata": {},
   "outputs": [],
   "source": [
    "f1=fan()\n",
    "f2=fan()"
   ]
  },
  {
   "cell_type": "code",
   "execution_count": null,
   "id": "6ef44984",
   "metadata": {},
   "outputs": [],
   "source": [
    "f1.color  #(color is class variable becoz it is define in class )"
   ]
  },
  {
   "cell_type": "code",
   "execution_count": null,
   "id": "9aed095a",
   "metadata": {},
   "outputs": [],
   "source": [
    "f1.ventilation()"
   ]
  },
  {
   "cell_type": "code",
   "execution_count": null,
   "id": "8bc95ae9",
   "metadata": {},
   "outputs": [],
   "source": [
    "f2.size = 'big'   #(size is instance variable becoz it is given to one intance not in class)"
   ]
  },
  {
   "cell_type": "code",
   "execution_count": null,
   "id": "63ed1342",
   "metadata": {},
   "outputs": [],
   "source": [
    "f2.size "
   ]
  },
  {
   "cell_type": "code",
   "execution_count": null,
   "id": "e1795200",
   "metadata": {},
   "outputs": [],
   "source": [
    "f1.color"
   ]
  },
  {
   "cell_type": "code",
   "execution_count": null,
   "id": "63fbb637",
   "metadata": {},
   "outputs": [],
   "source": [
    "fan.ventilation(1)"
   ]
  },
  {
   "cell_type": "markdown",
   "id": "61469f4d",
   "metadata": {},
   "source": [
    "# Constructor Or Distructor"
   ]
  },
  {
   "cell_type": "code",
   "execution_count": null,
   "id": "0ff99f31",
   "metadata": {},
   "outputs": [],
   "source": [
    "class human():\n",
    "    def __init__(self):\n",
    "        print('i can Run ')\n",
    "    def __del__(self):\n",
    "        print(\"i can't Run\")\n",
    "    def Cry(self,cry):\n",
    "        self.cry = cry\n",
    "    def call_cry(self):\n",
    "        return self.cry"
   ]
  },
  {
   "cell_type": "code",
   "execution_count": null,
   "id": "54931f48",
   "metadata": {},
   "outputs": [],
   "source": [
    "h1=human()"
   ]
  },
  {
   "cell_type": "code",
   "execution_count": null,
   "id": "6a6351e8",
   "metadata": {},
   "outputs": [],
   "source": [
    "h2=human()\n",
    "del(h2)"
   ]
  },
  {
   "cell_type": "markdown",
   "id": "41abd8df",
   "metadata": {},
   "source": [
    "- Object are actual copy\n",
    "- Instance are virtual copy"
   ]
  },
  {
   "cell_type": "code",
   "execution_count": null,
   "id": "cd13c378",
   "metadata": {},
   "outputs": [],
   "source": [
    "h3 = human()\n",
    "h3.Cry('I can Fly')\n",
    "h3.call_cry()"
   ]
  },
  {
   "cell_type": "markdown",
   "id": "a304ba97",
   "metadata": {},
   "source": [
    "- Class variable can only be modify by the class and not by object"
   ]
  },
  {
   "cell_type": "code",
   "execution_count": null,
   "id": "73626e8f",
   "metadata": {},
   "outputs": [],
   "source": [
    "class student():\n",
    "    college = 'MITS'\n",
    "    def __init__(self,name):\n",
    "        self.name = name    # instance variable\n",
    "        \n",
    "    def study(self,subject):  # class variable\n",
    "        print('subject is' , subject)\n",
    "        \n",
    "    def sports(self,stype):  # we are binding stype with sport so we will call s1.sport not s1.stype\n",
    "        self.sport = stype\n",
    "        print('sports is ', self.sport)\n",
    "    "
   ]
  },
  {
   "cell_type": "code",
   "execution_count": null,
   "id": "e081dbe2",
   "metadata": {},
   "outputs": [],
   "source": [
    "s1 = student('akshat')\n",
    "s1.college"
   ]
  },
  {
   "cell_type": "code",
   "execution_count": null,
   "id": "e72dc3d6",
   "metadata": {},
   "outputs": [],
   "source": [
    "s1.name"
   ]
  },
  {
   "cell_type": "code",
   "execution_count": null,
   "id": "136277a9",
   "metadata": {},
   "outputs": [],
   "source": [
    "s1.study('maths')"
   ]
  },
  {
   "cell_type": "code",
   "execution_count": null,
   "id": "d493b646",
   "metadata": {},
   "outputs": [],
   "source": [
    "s1.sports('cricket')"
   ]
  },
  {
   "cell_type": "code",
   "execution_count": null,
   "id": "b39476c4",
   "metadata": {},
   "outputs": [],
   "source": [
    "s1.sport"
   ]
  },
  {
   "cell_type": "code",
   "execution_count": null,
   "id": "e674fb28",
   "metadata": {},
   "outputs": [],
   "source": [
    "# s1.stype error"
   ]
  },
  {
   "cell_type": "markdown",
   "id": "5cc261e4",
   "metadata": {},
   "source": [
    "# Polymorphism"
   ]
  },
  {
   "cell_type": "code",
   "execution_count": null,
   "id": "5e19dcc2",
   "metadata": {},
   "outputs": [],
   "source": [
    "class human1():\n",
    "    legs = 2 \n",
    "    def walk(self):\n",
    "        print('walk using', human1.legs)\n",
    "class animal():\n",
    "    legs = 4\n",
    "    def walk(self,cow):\n",
    "        print('walk using', animal.legs)\n",
    "def walk(n):\n",
    "    n.walk()\n",
    "h1 = human()"
   ]
  },
  {
   "cell_type": "code",
   "execution_count": null,
   "id": "534aba64",
   "metadata": {},
   "outputs": [],
   "source": [
    "h1.walk()"
   ]
  },
  {
   "cell_type": "markdown",
   "id": "74694d3a",
   "metadata": {},
   "source": [
    "# Function Overloading "
   ]
  },
  {
   "cell_type": "code",
   "execution_count": 8,
   "id": "4571b4b1",
   "metadata": {},
   "outputs": [],
   "source": [
    "def sam(*b):\n",
    "    print(sum(b))"
   ]
  },
  {
   "cell_type": "code",
   "execution_count": 10,
   "id": "00639054",
   "metadata": {},
   "outputs": [
    {
     "name": "stdout",
     "output_type": "stream",
     "text": [
      "7\n"
     ]
    }
   ],
   "source": [
    "sam(2,5)"
   ]
  },
  {
   "cell_type": "markdown",
   "id": "ed231970",
   "metadata": {},
   "source": [
    "# Duck Typing\n",
    "- The datatypes of variables can change as long as the syntax of function/operation is Compatible"
   ]
  },
  {
   "cell_type": "code",
   "execution_count": 11,
   "id": "0f2a708b",
   "metadata": {},
   "outputs": [],
   "source": [
    "class A():\n",
    "    def one(self,b):\n",
    "        b.two()\n",
    "class B():\n",
    "    def two(self):\n",
    "        print('hello')\n",
    "class C():\n",
    "    def two(self):\n",
    "        print('world')"
   ]
  },
  {
   "cell_type": "code",
   "execution_count": 12,
   "id": "a4cf566b",
   "metadata": {},
   "outputs": [],
   "source": [
    "a1=A()\n",
    "b1=B()\n",
    "c1=C()"
   ]
  },
  {
   "cell_type": "code",
   "execution_count": 13,
   "id": "948f4227",
   "metadata": {},
   "outputs": [
    {
     "name": "stdout",
     "output_type": "stream",
     "text": [
      "hello\n"
     ]
    }
   ],
   "source": [
    "a1.one(b1)"
   ]
  },
  {
   "cell_type": "code",
   "execution_count": 14,
   "id": "b5529eba",
   "metadata": {},
   "outputs": [
    {
     "name": "stdout",
     "output_type": "stream",
     "text": [
      "world\n"
     ]
    }
   ],
   "source": [
    "a1.one(c1)"
   ]
  },
  {
   "cell_type": "code",
   "execution_count": 17,
   "id": "d8a8d957",
   "metadata": {},
   "outputs": [
    {
     "name": "stdout",
     "output_type": "stream",
     "text": [
      "D t C mpBl ckFrid yS le\n",
      "a\n",
      "DataCampBlackFridaySale\n"
     ]
    }
   ],
   "source": [
    "s = input()\n",
    "s1 = input()\n",
    "l=[]\n",
    "s= s.split(' ')\n",
    "for i in range(len(s)-1):\n",
    "    x = s[i]+s1\n",
    "    l.append(x)\n",
    "l.append(s[-1])\n",
    "y = \"\".join(l)\n",
    "print(y)\n"
   ]
  },
  {
   "cell_type": "markdown",
   "id": "78f9c7b9",
   "metadata": {},
   "source": []
  }
 ],
 "metadata": {
  "kernelspec": {
   "display_name": "Python 3 (ipykernel)",
   "language": "python",
   "name": "python3"
  },
  "language_info": {
   "codemirror_mode": {
    "name": "ipython",
    "version": 3
   },
   "file_extension": ".py",
   "mimetype": "text/x-python",
   "name": "python",
   "nbconvert_exporter": "python",
   "pygments_lexer": "ipython3",
   "version": "3.11.2"
  }
 },
 "nbformat": 4,
 "nbformat_minor": 5
}
