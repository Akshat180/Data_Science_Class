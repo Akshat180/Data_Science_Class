{
 "cells": [
  {
   "cell_type": "code",
   "execution_count": 8,
   "id": "dd2d3751",
   "metadata": {},
   "outputs": [
    {
     "name": "stdout",
     "output_type": "stream",
     "text": [
      "<class '__main__.student'>\n",
      "ct\n",
      "i am in dS course\n"
     ]
    }
   ],
   "source": [
    "# obejct = is the actual implimentation of the class (instance)\n",
    "\n",
    "class student:         # class identifier\n",
    "    coaching='ct'      #class variable\n",
    "    def course(self):   # method\n",
    "        print('i am in dS course')\n",
    "        \n",
    "        \n",
    "s1=student()\n",
    "s2=student()\n",
    "print(type(s1))\n",
    "print(s1.coaching)\n",
    "s1.course()"
   ]
  },
  {
   "cell_type": "code",
   "execution_count": 4,
   "id": "4bd02287",
   "metadata": {},
   "outputs": [
    {
     "name": "stdout",
     "output_type": "stream",
     "text": [
      "<class 'int'>\n"
     ]
    }
   ],
   "source": [
    "x=12\n",
    "print(type(x))"
   ]
  },
  {
   "cell_type": "code",
   "execution_count": 5,
   "id": "3a69edff",
   "metadata": {},
   "outputs": [
    {
     "ename": "SyntaxError",
     "evalue": "'{' was never closed (2415257578.py, line 9)",
     "output_type": "error",
     "traceback": [
      "\u001b[1;36m  Cell \u001b[1;32mIn[5], line 9\u001b[1;36m\u001b[0m\n\u001b[1;33m    l={[]\u001b[0m\n\u001b[1;37m      ^\u001b[0m\n\u001b[1;31mSyntaxError\u001b[0m\u001b[1;31m:\u001b[0m '{' was never closed\n"
     ]
    }
   ],
   "source": [
    "class staff:\n",
    "    company ='ct'\n",
    "    def work(self):\n",
    "        print('9-5 work')\n",
    "        \n",
    "st1=staff()  \n",
    "print(st1.company)\n",
    "s1.company\n"
   ]
  },
  {
   "cell_type": "code",
   "execution_count": 6,
   "id": "85457659",
   "metadata": {},
   "outputs": [
    {
     "ename": "AttributeError",
     "evalue": "'list' object has no attribute 'update'",
     "output_type": "error",
     "traceback": [
      "\u001b[1;31m---------------------------------------------------------------------------\u001b[0m",
      "\u001b[1;31mAttributeError\u001b[0m                            Traceback (most recent call last)",
      "Cell \u001b[1;32mIn[6], line 2\u001b[0m\n\u001b[0;32m      1\u001b[0m l\u001b[38;5;241m=\u001b[39m[]\n\u001b[1;32m----> 2\u001b[0m \u001b[43ml\u001b[49m\u001b[38;5;241;43m.\u001b[39;49m\u001b[43mupdate\u001b[49m({\u001b[38;5;241m2\u001b[39m})\n",
      "\u001b[1;31mAttributeError\u001b[0m: 'list' object has no attribute 'update'"
     ]
    }
   ],
   "source": [
    "l=[]\n",
    "l.update({2})"
   ]
  },
  {
   "cell_type": "code",
   "execution_count": 1,
   "id": "468f0734",
   "metadata": {},
   "outputs": [],
   "source": [
    "class human:\n",
    "    brain=True   # class variable\n",
    "    count=0\n",
    "    def __init__(self):         #costructor(__init__)= it is a method in which automatically gets called whenever an object is created (instantiated)\n",
    "        human.count+=1\n",
    "    def walk(self):\n",
    "        print('i can walk')\n",
    "        \n",
    "    def __del__(self):          #destructor(__del__)(in this there are 2 underscore)\n",
    "        human.count-=1\n",
    "        \n"
   ]
  },
  {
   "cell_type": "code",
   "execution_count": 2,
   "id": "36702b5c",
   "metadata": {},
   "outputs": [
    {
     "name": "stdout",
     "output_type": "stream",
     "text": [
      "0\n",
      "2\n",
      "1\n"
     ]
    }
   ],
   "source": [
    "print(human.count)     \n",
    "\n",
    "h1 = human()     # this is creating object\n",
    "h2 = human()     # in this the number of object created will increase the count number \n",
    "print(human.count)\n",
    "\n",
    "\n",
    "del h1             # to delete one count we use del but to increase count we don't use any del or etc we just create a object \n",
    "print(human.count)"
   ]
  },
  {
   "cell_type": "code",
   "execution_count": 23,
   "id": "544a8c37",
   "metadata": {},
   "outputs": [
    {
     "ename": "NameError",
     "evalue": "name 'self' is not defined",
     "output_type": "error",
     "traceback": [
      "\u001b[1;31m---------------------------------------------------------------------------\u001b[0m",
      "\u001b[1;31mNameError\u001b[0m                                 Traceback (most recent call last)",
      "Cell \u001b[1;32mIn[23], line 8\u001b[0m\n\u001b[0;32m      5\u001b[0m         \u001b[38;5;28mself\u001b[39m\u001b[38;5;241m.\u001b[39mname\u001b[38;5;241m=\u001b[39mname\n\u001b[0;32m      6\u001b[0m         \u001b[38;5;28mprint\u001b[39m(\u001b[38;5;28mself\u001b[39m\u001b[38;5;241m.\u001b[39mname)\n\u001b[1;32m----> 8\u001b[0m \u001b[38;5;28mprint\u001b[39m(\u001b[38;5;28;43mself\u001b[39;49m\u001b[38;5;241m.\u001b[39mname)        \n",
      "\u001b[1;31mNameError\u001b[0m: name 'self' is not defined"
     ]
    }
   ],
   "source": [
    "class human:\n",
    "    count=0\n",
    "    def __init__(self, name):\n",
    "        human.count+=1\n",
    "        self.name=name\n",
    "        print(self.name)\n",
    "        \n",
    "print(self.name)        "
   ]
  },
  {
   "cell_type": "code",
   "execution_count": 12,
   "id": "8c64174d",
   "metadata": {},
   "outputs": [
    {
     "name": "stdout",
     "output_type": "stream",
     "text": [
      "0\n",
      "aprit\n",
      "1\n",
      "aprit\n"
     ]
    },
    {
     "ename": "NameError",
     "evalue": "name 'h2' is not defined",
     "output_type": "error",
     "traceback": [
      "\u001b[1;31m---------------------------------------------------------------------------\u001b[0m",
      "\u001b[1;31mNameError\u001b[0m                                 Traceback (most recent call last)",
      "Cell \u001b[1;32mIn[12], line 5\u001b[0m\n\u001b[0;32m      3\u001b[0m \u001b[38;5;28mprint\u001b[39m(human\u001b[38;5;241m.\u001b[39mcount)\n\u001b[0;32m      4\u001b[0m \u001b[38;5;28mprint\u001b[39m(h1\u001b[38;5;241m.\u001b[39mname)\n\u001b[1;32m----> 5\u001b[0m \u001b[43mh2\u001b[49m\u001b[38;5;241m.\u001b[39mage\u001b[38;5;241m=\u001b[39m\u001b[38;5;241m29\u001b[39m\n\u001b[0;32m      6\u001b[0m \u001b[38;5;28mprint\u001b[39m(h2\u001b[38;5;241m.\u001b[39mage)\n",
      "\u001b[1;31mNameError\u001b[0m: name 'h2' is not defined"
     ]
    }
   ],
   "source": [
    "print(human.count)\n",
    "h1= human('aprit')\n",
    "print(human.count)\n",
    "print(h1.name)\n",
    "h1.age=29\n",
    "print(h1.age)"
   ]
  },
  {
   "cell_type": "code",
   "execution_count": 25,
   "id": "f5899027",
   "metadata": {},
   "outputs": [],
   "source": [
    "class mammel:\n",
    "    blood ='hot'\n",
    "    def walk(self):\n",
    "        print('i can walk')\n",
    "        \n",
    "        \n",
    "class human(mammel):\n",
    "    count=0\n",
    "    def walk(self):\n",
    "        print(\"i can't walk\")\n",
    "        \n",
    "    def walking(self):\n",
    "        mammel().walk()     #using this we can call the parent inheritance we want using parent name\n",
    "#         or we can use super().walk()    in this super().walk()we call the inheritance of 1st parent\n",
    "        \n",
    "        \n",
    "        "
   ]
  },
  {
   "cell_type": "code",
   "execution_count": 26,
   "id": "ce111e04",
   "metadata": {},
   "outputs": [
    {
     "name": "stdout",
     "output_type": "stream",
     "text": [
      "i can walk\n"
     ]
    }
   ],
   "source": [
    "h1=human()\n",
    "h1.walking()\n",
    "\n"
   ]
  },
  {
   "cell_type": "code",
   "execution_count": 17,
   "id": "93c916ec",
   "metadata": {},
   "outputs": [],
   "source": [
    "class car:\n",
    "    tyres=4\n",
    "    def run(self):\n",
    "        print(\"i can run fast\")\n",
    "class jeep:\n",
    "    tyres=4\n",
    "    def rooftop(self):\n",
    "        print(\"can be opened\")\n",
    "    "
   ]
  },
  {
   "cell_type": "code",
   "execution_count": 21,
   "id": "75996c9f",
   "metadata": {},
   "outputs": [],
   "source": [
    "class suv(car,jeep):\n",
    "    type='luxurious'\n",
    "    def siting(self):\n",
    "        print(\"siting of member\")\n",
    "    def run(self):\n",
    "        print(\"i can run fast\")\n",
    "    def parent_run(self):\n",
    "        super().run()\n",
    "        \n",
    "        "
   ]
  },
  {
   "cell_type": "code",
   "execution_count": 22,
   "id": "71bb2886",
   "metadata": {},
   "outputs": [
    {
     "name": "stdout",
     "output_type": "stream",
     "text": [
      "can be opened\n"
     ]
    }
   ],
   "source": [
    "s2=suv()\n",
    "s2.rooftop()"
   ]
  },
  {
   "cell_type": "code",
   "execution_count": null,
   "id": "bae22225",
   "metadata": {},
   "outputs": [],
   "source": []
  }
 ],
 "metadata": {
  "kernelspec": {
   "display_name": "Python 3 (ipykernel)",
   "language": "python",
   "name": "python3"
  },
  "language_info": {
   "codemirror_mode": {
    "name": "ipython",
    "version": 3
   },
   "file_extension": ".py",
   "mimetype": "text/x-python",
   "name": "python",
   "nbconvert_exporter": "python",
   "pygments_lexer": "ipython3",
   "version": "3.11.2"
  }
 },
 "nbformat": 4,
 "nbformat_minor": 5
}
