{
 "cells": [
  {
   "cell_type": "code",
   "execution_count": 14,
   "id": "96619e50",
   "metadata": {},
   "outputs": [
    {
     "name": "stdout",
     "output_type": "stream",
     "text": [
      "True\n",
      "i am too fast\n",
      "i am fast\n"
     ]
    },
    {
     "data": {
      "text/plain": [
       "True"
      ]
     },
     "execution_count": 14,
     "metadata": {},
     "output_type": "execute_result"
    }
   ],
   "source": [
    "# encapsulation\n",
    "class vechile():\n",
    "    _tier = True\n",
    "    def speed(self):\n",
    "        print('i am fast')\n",
    "        \n",
    "class bike(vechile):\n",
    "    tier1 = vechile._tier\n",
    "    def party(self):\n",
    "        print( vechile._tier)\n",
    "        print('i am too fast')\n",
    "        \n",
    "v1 = vechile()\n",
    "b1 = bike()\n",
    "b1.party()\n",
    "b1.speed()\n",
    "v1._tier"
   ]
  },
  {
   "cell_type": "code",
   "execution_count": 17,
   "id": "ac51643e",
   "metadata": {},
   "outputs": [
    {
     "name": "stdout",
     "output_type": "stream",
     "text": [
      "i can fly\n",
      "i fly with fuel\n"
     ]
    },
    {
     "ename": "AttributeError",
     "evalue": "'zero' object has no attribute 'plane'",
     "output_type": "error",
     "traceback": [
      "\u001b[1;31m---------------------------------------------------------------------------\u001b[0m",
      "\u001b[1;31mAttributeError\u001b[0m                            Traceback (most recent call last)",
      "Cell \u001b[1;32mIn[17], line 23\u001b[0m\n\u001b[0;32m     21\u001b[0m c1 \u001b[38;5;241m=\u001b[39m zero()\n\u001b[0;32m     22\u001b[0m c1\u001b[38;5;241m.\u001b[39mfly\n\u001b[1;32m---> 23\u001b[0m \u001b[43mc1\u001b[49m\u001b[38;5;241;43m.\u001b[39;49m\u001b[43mplane\u001b[49m\u001b[38;5;241m.\u001b[39mfly()\n\u001b[0;32m     24\u001b[0m c1\u001b[38;5;241m.\u001b[39mbird\u001b[38;5;241m.\u001b[39mfly()\n",
      "\u001b[1;31mAttributeError\u001b[0m: 'zero' object has no attribute 'plane'"
     ]
    }
   ],
   "source": [
    "# polymorphism\n",
    "class bird:\n",
    "    def fly(self):\n",
    "        print(\"i can fly\")\n",
    "        \n",
    "class plane:\n",
    "    def fly(self):\n",
    "        print('i fly with fuel')\n",
    "        \n",
    "        \n",
    "        \n",
    "b1=bird()\n",
    "b1.fly()\n",
    "a1=plane()\n",
    "a1.fly()\n",
    "\n",
    "\n",
    "\n",
    "class zero(bird,plane):\n",
    "    pass\n",
    "c1 = zero()\n",
    "c1.fly\n",
    "c1.plane.fly()\n",
    "c1.bird.fly()"
   ]
  },
  {
   "cell_type": "code",
   "execution_count": null,
   "id": "970575f3",
   "metadata": {},
   "outputs": [],
   "source": []
  }
 ],
 "metadata": {
  "kernelspec": {
   "display_name": "Python 3 (ipykernel)",
   "language": "python",
   "name": "python3"
  },
  "language_info": {
   "codemirror_mode": {
    "name": "ipython",
    "version": 3
   },
   "file_extension": ".py",
   "mimetype": "text/x-python",
   "name": "python",
   "nbconvert_exporter": "python",
   "pygments_lexer": "ipython3",
   "version": "3.11.2"
  }
 },
 "nbformat": 4,
 "nbformat_minor": 5
}
